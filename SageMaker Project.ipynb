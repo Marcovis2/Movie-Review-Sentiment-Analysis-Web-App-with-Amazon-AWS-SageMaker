{
 "cells": [
  {
   "cell_type": "markdown",
   "metadata": {},
   "source": [
    "# Creating a Sentiment Analysis Web App\n",
    "## Using PyTorch and SageMaker\n",
    "\n",
    "_Deep Learning Nanodegree Program | Deployment_\n",
    "\n",
    "---\n",
    "\n",
    "Now that we have a basic understanding of how SageMaker works we will try to use it to construct a complete project from end to end. Our goal will be to have a simple web page which a user can use to enter a movie review. The web page will then send the review off to our deployed model which will predict the sentiment of the entered review.\n",
    "\n",
    "## Instructions\n",
    "\n",
    "Some template code has already been provided for you, and you will need to implement additional functionality to successfully complete this notebook. You will not need to modify the included code beyond what is requested. Sections that begin with '**TODO**' in the header indicate that you need to complete or implement some portion within them. Instructions will be provided for each section and the specifics of the implementation are marked in the code block with a `# TODO: ...` comment. Please be sure to read the instructions carefully!\n",
    "\n",
    "In addition to implementing code, there will be questions for you to answer which relate to the task and your implementation. Each section where you will answer a question is preceded by a '**Question:**' header. Carefully read each question and provide your answer below the '**Answer:**' header by editing the Markdown cell.\n",
    "\n",
    "> **Note**: Code and Markdown cells can be executed using the **Shift+Enter** keyboard shortcut. In addition, a cell can be edited by typically clicking it (double-click for Markdown cells) or by pressing **Enter** while it is highlighted.\n",
    "\n",
    "## General Outline\n",
    "\n",
    "Recall the general outline for SageMaker projects using a notebook instance.\n",
    "\n",
    "1. Download or otherwise retrieve the data.\n",
    "2. Process / Prepare the data.\n",
    "3. Upload the processed data to S3.\n",
    "4. Train a chosen model.\n",
    "5. Test the trained model (typically using a batch transform job).\n",
    "6. Deploy the trained model.\n",
    "7. Use the deployed model.\n",
    "\n",
    "For this project, you will be following the steps in the general outline with some modifications. \n",
    "\n",
    "First, you will not be testing the model in its own step. You will still be testing the model, however, you will do it by deploying your model and then using the deployed model by sending the test data to it. One of the reasons for doing this is so that you can make sure that your deployed model is working correctly before moving forward.\n",
    "\n",
    "In addition, you will deploy and use your trained model a second time. In the second iteration you will customize the way that your trained model is deployed by including some of your own code. In addition, your newly deployed model will be used in the sentiment analysis web app."
   ]
  },
  {
   "cell_type": "markdown",
   "metadata": {},
   "source": [
    "## Step 1: Downloading the data\n",
    "\n",
    "As in the XGBoost in SageMaker notebook, we will be using the [IMDb dataset](http://ai.stanford.edu/~amaas/data/sentiment/)\n",
    "\n",
    "> Maas, Andrew L., et al. [Learning Word Vectors for Sentiment Analysis](http://ai.stanford.edu/~amaas/data/sentiment/). In _Proceedings of the 49th Annual Meeting of the Association for Computational Linguistics: Human Language Technologies_. Association for Computational Linguistics, 2011."
   ]
  },
  {
   "cell_type": "code",
   "execution_count": 1,
   "metadata": {},
   "outputs": [
    {
     "name": "stdout",
     "output_type": "stream",
     "text": [
      "mkdir: cannot create directory ‘../data’: File exists\n",
      "--2020-01-02 13:22:22--  http://ai.stanford.edu/~amaas/data/sentiment/aclImdb_v1.tar.gz\n",
      "Resolving ai.stanford.edu (ai.stanford.edu)... 171.64.68.10\n",
      "Connecting to ai.stanford.edu (ai.stanford.edu)|171.64.68.10|:80... connected.\n",
      "HTTP request sent, awaiting response... 200 OK\n",
      "Length: 84125825 (80M) [application/x-gzip]\n",
      "Saving to: ‘../data/aclImdb_v1.tar.gz’\n",
      "\n",
      "../data/aclImdb_v1. 100%[===================>]  80.23M  23.2MB/s    in 4.3s    \n",
      "\n",
      "2020-01-02 13:22:26 (18.9 MB/s) - ‘../data/aclImdb_v1.tar.gz’ saved [84125825/84125825]\n",
      "\n"
     ]
    }
   ],
   "source": [
    "%mkdir ../data\n",
    "!wget -O ../data/aclImdb_v1.tar.gz http://ai.stanford.edu/~amaas/data/sentiment/aclImdb_v1.tar.gz\n",
    "!tar -zxf ../data/aclImdb_v1.tar.gz -C ../data"
   ]
  },
  {
   "cell_type": "markdown",
   "metadata": {},
   "source": [
    "## Step 2: Preparing and Processing the data\n",
    "\n",
    "Also, as in the XGBoost notebook, we will be doing some initial data processing. The first few steps are the same as in the XGBoost example. To begin with, we will read in each of the reviews and combine them into a single input structure. Then, we will split the dataset into a training set and a testing set."
   ]
  },
  {
   "cell_type": "code",
   "execution_count": 2,
   "metadata": {},
   "outputs": [],
   "source": [
    "import os\n",
    "import glob\n",
    "\n",
    "def read_imdb_data(data_dir='../data/aclImdb'):\n",
    "    data = {}\n",
    "    labels = {}\n",
    "    \n",
    "    for data_type in ['train', 'test']:\n",
    "        data[data_type] = {}\n",
    "        labels[data_type] = {}\n",
    "        \n",
    "        for sentiment in ['pos', 'neg']:\n",
    "            data[data_type][sentiment] = []\n",
    "            labels[data_type][sentiment] = []\n",
    "            \n",
    "            path = os.path.join(data_dir, data_type, sentiment, '*.txt')\n",
    "            files = glob.glob(path)\n",
    "            \n",
    "            for f in files:\n",
    "                with open(f) as review:\n",
    "                    data[data_type][sentiment].append(review.read())\n",
    "                    # Here we represent a positive review by '1' and a negative review by '0'\n",
    "                    labels[data_type][sentiment].append(1 if sentiment == 'pos' else 0)\n",
    "                    \n",
    "            assert len(data[data_type][sentiment]) == len(labels[data_type][sentiment]), \\\n",
    "                    \"{}/{} data size does not match labels size\".format(data_type, sentiment)\n",
    "                \n",
    "    return data, labels"
   ]
  },
  {
   "cell_type": "code",
   "execution_count": 3,
   "metadata": {},
   "outputs": [
    {
     "name": "stdout",
     "output_type": "stream",
     "text": [
      "Example of IMDB movie reviews (100th review):\n",
      "\n",
      "I love the way that this game can make you literally jump out of your seat while you are playing it. The way that the screen jumps and flashes when you get hit, its very realistic while at the same time you have to remember that its just a game and your not really there. The sound effects and audio are amazing. There are a lot of weapons and different spells to cast and you can even choose which spells to make stronger or not. You get this stone that can knock back enemies while you recover mana to blast your foes with even more magic. The best part is that the whole time you are playing it you are really jumpy and afraid of what might lurk around the next corner or what might jump out behind you. If you want to get the full experience, try playing it with head phones on.\n",
      "\n",
      "Related ground trouth sentiment analysis (1=positive, 0=negative):\n",
      "\n",
      "1\n",
      "\n",
      "IMDB reviews: train = 12500 pos / 12500 neg, test = 12500 pos / 12500 neg\n"
     ]
    }
   ],
   "source": [
    "data, labels = read_imdb_data()\n",
    "\n",
    "print(\"Example of IMDB movie reviews (100th review):\\n\")\n",
    "print(data['train']['pos'][100])\n",
    "\n",
    "print(\"\\nRelated ground trouth sentiment analysis (1=positive, 0=negative):\\n\")\n",
    "print(labels['train']['pos'][100])\n",
    "\n",
    "\n",
    "print(\"\\nIMDB reviews: train = {} pos / {} neg, test = {} pos / {} neg\".format(\n",
    "            len(data['train']['pos']), len(data['train']['neg']),\n",
    "            len(data['test']['pos']), len(data['test']['neg'])))"
   ]
  },
  {
   "cell_type": "markdown",
   "metadata": {},
   "source": [
    "Now that we've read the raw training and testing data from the downloaded dataset, we will combine the positive and negative reviews and shuffle the resulting records."
   ]
  },
  {
   "cell_type": "code",
   "execution_count": 4,
   "metadata": {},
   "outputs": [],
   "source": [
    "from sklearn.utils import shuffle\n",
    "\n",
    "def prepare_imdb_data(data, labels):\n",
    "    \"\"\"Prepare training and test sets from IMDb movie reviews.\"\"\"\n",
    "    \n",
    "    #Combine positive and negative reviews and labels\n",
    "    data_train = data['train']['pos'] + data['train']['neg']\n",
    "    data_test = data['test']['pos'] + data['test']['neg']\n",
    "    labels_train = labels['train']['pos'] + labels['train']['neg']\n",
    "    labels_test = labels['test']['pos'] + labels['test']['neg']\n",
    "    \n",
    "    #Shuffle reviews and corresponding labels within training and test sets\n",
    "    data_train, labels_train = shuffle(data_train, labels_train)\n",
    "    data_test, labels_test = shuffle(data_test, labels_test)\n",
    "    \n",
    "    # Return a unified training data, test data, training labels, test labets\n",
    "    return data_train, data_test, labels_train, labels_test"
   ]
  },
  {
   "cell_type": "code",
   "execution_count": 5,
   "metadata": {},
   "outputs": [
    {
     "name": "stdout",
     "output_type": "stream",
     "text": [
      "IMDb reviews (combined): train = 25000, test = 25000\n"
     ]
    }
   ],
   "source": [
    "train_X, test_X, train_y, test_y = prepare_imdb_data(data, labels)\n",
    "print(\"IMDb reviews (combined): train = {}, test = {}\".format(len(train_X), len(test_X)))"
   ]
  },
  {
   "cell_type": "markdown",
   "metadata": {},
   "source": [
    "Now that we have our training and testing sets unified and prepared, we should do a quick check and see an example of the data our model will be trained on. This is generally a good idea as it allows you to see how each of the further processing steps affects the reviews and it also ensures that the data has been loaded correctly."
   ]
  },
  {
   "cell_type": "code",
   "execution_count": 6,
   "metadata": {},
   "outputs": [
    {
     "name": "stdout",
     "output_type": "stream",
     "text": [
      "Example of IMDB movie reviews combined (100th review):\n",
      "\n",
      "I really like this film... when I started to watch it I thought I would get bored pretty soon, but it surprised me... I thought it was a great film and have seen it a few times now. The characters are believable and I have to say that I fell in love with Brian Austin Green all over again (the first time being Beverly Hills 90210). I would recommend this film if you are a fan of his, but I do agree with another comment made earlier, that the ending is sort of disappointing. I would have loved it to turn out a little different! Never mind though, good gripping story.\n",
      "\n",
      "Related ground trouth sentiment analysis (1=positive, 0=negative):\n",
      "\n",
      "1\n"
     ]
    }
   ],
   "source": [
    "print(\"Example of IMDB movie reviews combined (100th review):\\n\")\n",
    "print(train_X[100])\n",
    "\n",
    "print(\"\\nRelated ground trouth sentiment analysis (1=positive, 0=negative):\\n\")\n",
    "print(train_y[100])"
   ]
  },
  {
   "cell_type": "markdown",
   "metadata": {},
   "source": [
    "The first step in processing the reviews is to make sure that any html tags that appear should be removed. In addition we wish to tokenize our input, that way words such as *entertained* and *entertaining* are considered the same with regard to sentiment analysis."
   ]
  },
  {
   "cell_type": "code",
   "execution_count": 7,
   "metadata": {},
   "outputs": [],
   "source": [
    "import nltk\n",
    "from nltk.corpus import stopwords\n",
    "from nltk.stem.porter import *\n",
    "\n",
    "import re\n",
    "from bs4 import BeautifulSoup\n",
    "\n",
    "def review_to_words(review):\n",
    "    nltk.download(\"stopwords\", quiet=True)\n",
    "    stemmer = PorterStemmer()\n",
    "    \n",
    "    text = BeautifulSoup(review, \"html.parser\").get_text() # Remove HTML tags\n",
    "    text = re.sub(r\"[^a-zA-Z0-9]\", \" \", text.lower()) # Convert to lower case\n",
    "    words = text.split() # Split string into words\n",
    "    words = [w for w in words if w not in stopwords.words(\"english\")] # Remove stopwords\n",
    "    words = [PorterStemmer().stem(w) for w in words] # stem\n",
    "    \n",
    "    return words"
   ]
  },
  {
   "cell_type": "markdown",
   "metadata": {},
   "source": [
    "The `review_to_words` method defined above uses `BeautifulSoup` to remove any html tags that appear and uses the `nltk` package to tokenize the reviews. As a check to ensure we know how everything is working, try applying `review_to_words` to one of the reviews in the training set."
   ]
  },
  {
   "cell_type": "code",
   "execution_count": 8,
   "metadata": {},
   "outputs": [
    {
     "data": {
      "text/plain": [
       "['realli',\n",
       " 'like',\n",
       " 'film',\n",
       " 'start',\n",
       " 'watch',\n",
       " 'thought',\n",
       " 'would',\n",
       " 'get',\n",
       " 'bore',\n",
       " 'pretti',\n",
       " 'soon',\n",
       " 'surpris',\n",
       " 'thought',\n",
       " 'great',\n",
       " 'film',\n",
       " 'seen',\n",
       " 'time',\n",
       " 'charact',\n",
       " 'believ',\n",
       " 'say',\n",
       " 'fell',\n",
       " 'love',\n",
       " 'brian',\n",
       " 'austin',\n",
       " 'green',\n",
       " 'first',\n",
       " 'time',\n",
       " 'beverli',\n",
       " 'hill',\n",
       " '90210',\n",
       " 'would',\n",
       " 'recommend',\n",
       " 'film',\n",
       " 'fan',\n",
       " 'agre',\n",
       " 'anoth',\n",
       " 'comment',\n",
       " 'made',\n",
       " 'earlier',\n",
       " 'end',\n",
       " 'sort',\n",
       " 'disappoint',\n",
       " 'would',\n",
       " 'love',\n",
       " 'turn',\n",
       " 'littl',\n",
       " 'differ',\n",
       " 'never',\n",
       " 'mind',\n",
       " 'though',\n",
       " 'good',\n",
       " 'grip',\n",
       " 'stori']"
      ]
     },
     "execution_count": 8,
     "metadata": {},
     "output_type": "execute_result"
    }
   ],
   "source": [
    "# TODO: Apply review_to_words to a review (train_X[100] or any other review)\n",
    "\n",
    "review_to_words(train_X[100])"
   ]
  },
  {
   "cell_type": "markdown",
   "metadata": {},
   "source": [
    "**Question:** Above we mentioned that `review_to_words` method removes html formatting and allows us to tokenize the words found in a review, for example, converting *entertained* and *entertaining* into *entertain* so that they are treated as though they are the same word. What else, if anything, does this method do to the input?"
   ]
  },
  {
   "cell_type": "markdown",
   "metadata": {},
   "source": [
    "**Answer:**\n",
    "It removes all the pronouns keeping only the meaningful words for the sentiment analysis."
   ]
  },
  {
   "cell_type": "markdown",
   "metadata": {},
   "source": [
    "The method below applies the `review_to_words` method to each of the reviews in the training and testing datasets. In addition it caches the results. This is because performing this processing step can take a long time. This way if you are unable to complete the notebook in the current session, you can come back without needing to process the data a second time."
   ]
  },
  {
   "cell_type": "code",
   "execution_count": 9,
   "metadata": {},
   "outputs": [],
   "source": [
    "import pickle\n",
    "\n",
    "cache_dir = os.path.join(\"../cache\", \"sentiment_analysis\")  # where to store cache files\n",
    "os.makedirs(cache_dir, exist_ok=True)  # ensure cache directory exists\n",
    "\n",
    "def preprocess_data(data_train, data_test, labels_train, labels_test,\n",
    "                    cache_dir=cache_dir, cache_file=\"preprocessed_data.pkl\"):\n",
    "    \"\"\"Convert each review to words; read from cache if available.\"\"\"\n",
    "\n",
    "    # If cache_file is not None, try to read from it first\n",
    "    cache_data = None\n",
    "    if cache_file is not None:\n",
    "        try:\n",
    "            with open(os.path.join(cache_dir, cache_file), \"rb\") as f:\n",
    "                cache_data = pickle.load(f)\n",
    "            print(\"Read preprocessed data from cache file:\", cache_file)\n",
    "        except:\n",
    "            pass  # unable to read from cache, but that's okay\n",
    "    \n",
    "    # If cache is missing, then do the heavy lifting\n",
    "    if cache_data is None:\n",
    "        # Preprocess training and test data to obtain words for each review\n",
    "        #words_train = list(map(review_to_words, data_train))\n",
    "        #words_test = list(map(review_to_words, data_test))\n",
    "        words_train = [review_to_words(review) for review in data_train]\n",
    "        words_test = [review_to_words(review) for review in data_test]\n",
    "        \n",
    "        # Write to cache file for future runs\n",
    "        if cache_file is not None:\n",
    "            cache_data = dict(words_train=words_train, words_test=words_test,\n",
    "                              labels_train=labels_train, labels_test=labels_test)\n",
    "            with open(os.path.join(cache_dir, cache_file), \"wb\") as f:\n",
    "                pickle.dump(cache_data, f)\n",
    "            print(\"Wrote preprocessed data to cache file:\", cache_file)\n",
    "    else:\n",
    "        # Unpack data loaded from cache file\n",
    "        words_train, words_test, labels_train, labels_test = (cache_data['words_train'],\n",
    "                cache_data['words_test'], cache_data['labels_train'], cache_data['labels_test'])\n",
    "    \n",
    "    return words_train, words_test, labels_train, labels_test"
   ]
  },
  {
   "cell_type": "code",
   "execution_count": 10,
   "metadata": {},
   "outputs": [
    {
     "name": "stdout",
     "output_type": "stream",
     "text": [
      "Read preprocessed data from cache file: preprocessed_data.pkl\n"
     ]
    }
   ],
   "source": [
    "# Preprocess data\n",
    "train_X, test_X, train_y, test_y = preprocess_data(train_X, test_X, train_y, test_y)"
   ]
  },
  {
   "cell_type": "code",
   "execution_count": 11,
   "metadata": {},
   "outputs": [
    {
     "name": "stdout",
     "output_type": "stream",
     "text": [
      "Example of IMDB movie reviews combined preprocessed (100th review):\n",
      "\n",
      "['watch', 'movi', 'origin', 'carlito', 'way', 'back', 'back', 'differ', 'two', 'disgust', 'know', 'peopl', 'go', 'say', 'prequel', 'made', 'small', 'budget', 'never', 'anyth', 'bad', 'script', 'mayb', 'alway', 'thought', 'prequel', 'made', 'go', 'set', 'movi', 'star', 'key', 'charact', 'mayb', 'fill', 'bit', 'life', 'know', 'rise', 'power', 'movi', 'carlito', 'name', 'least', 'charact', 'origin', 'movi', 'end', 'make', 'sens', 'relat', 'origin', 'end', 'movi', 'retir', 'sweet', 'heart', 'hell', 'get', 'come', 'prison', 'next', 'movi', 'woman', 'even', 'woman', 'talk', 'love', 'origin', 'would', 'say', 'movi', 'mildli', 'entertain', 'self', 'decent', 'bit', 'pale', 'held', 'big', 'brother', 'lay', 'awak', 'night', 'wait', 'see', 'watch', 'origin', 'one', 'time', 'realli', 'need', 'hit']\n",
      "\n",
      "Related ground trouth sentiment analysis (1=positive, 0=negative):\n",
      "\n",
      "0\n"
     ]
    }
   ],
   "source": [
    "print(\"Example of IMDB movie reviews combined preprocessed (100th review):\\n\")\n",
    "print(train_X[100])\n",
    "\n",
    "print(\"\\nRelated ground trouth sentiment analysis (1=positive, 0=negative):\\n\")\n",
    "print(train_y[100])"
   ]
  },
  {
   "cell_type": "markdown",
   "metadata": {},
   "source": [
    "## Transform the data\n",
    "\n",
    "In the XGBoost notebook we transformed the data from its word representation to a bag-of-words feature representation. For the model we are going to construct in this notebook we will construct a feature representation which is very similar. To start, we will represent each word as an integer. Of course, some of the words that appear in the reviews occur very infrequently and so likely don't contain much information for the purposes of sentiment analysis. The way we will deal with this problem is that we will fix the size of our working vocabulary and we will only include the words that appear most frequently. We will then combine all of the infrequent words into a single category and, in our case, we will label it as `1`.\n",
    "\n",
    "Since we will be using a recurrent neural network, it will be convenient if the length of each review is the same. To do this, we will fix a size for our reviews and then pad short reviews with the category 'no word' (which we will label `0`) and truncate long reviews."
   ]
  },
  {
   "cell_type": "markdown",
   "metadata": {},
   "source": [
    "### (TODO) Create a word dictionary\n",
    "\n",
    "To begin with, we need to construct a way to map words that appear in the reviews to integers. Here we fix the size of our vocabulary (including the 'no word' and 'infrequent' categories) to be `5000` but you may wish to change this to see how it affects the model.\n",
    "\n",
    "> **TODO:** Complete the implementation for the `build_dict()` method below. Note that even though the vocab_size is set to `5000`, we only want to construct a mapping for the most frequently appearing `4998` words. This is because we want to reserve the special labels `0` for 'no word' and `1` for 'infrequent word'."
   ]
  },
  {
   "cell_type": "code",
   "execution_count": 12,
   "metadata": {},
   "outputs": [],
   "source": [
    "import numpy as np\n",
    "\n",
    "def build_dict(data, vocab_size = 5000):\n",
    "    \"\"\"Construct and return a dictionary mapping each of the most frequently appearing words to a unique integer.\"\"\"\n",
    "    \n",
    "    # TODO: Determine how often each word appears in `data`. Note that `data` is a list of sentences and that a\n",
    "    #       sentence is a list of words.\n",
    "    \n",
    "    word_count = {} # A dict storing the words that appear in the reviews along with how often they occur\n",
    "    \n",
    "    for review in data:\n",
    "        for word in review:\n",
    "            if word in word_count:\n",
    "                word_count[word] += 1\n",
    "            else:\n",
    "                word_count[word] = 1\n",
    "    \n",
    "    # TODO: Sort the words found in `data` so that sorted_words[0] is the most frequently appearing word and\n",
    "    #       sorted_words[-1] is the least frequently appearing word.\n",
    "    \n",
    "    sorted_words = [item[0] for item in sorted(word_count.items(), key=lambda x: x[1], reverse=True)]\n",
    "    \n",
    "    word_dict = {} # This is what we are building, a dictionary that translates words into integers\n",
    "    \n",
    "    for idx, word in enumerate(sorted_words[:vocab_size - 2]): # The -2 is so that we save room for the 'no word'\n",
    "        word_dict[word] = idx + 2                              # 'infrequent' labels\n",
    "        \n",
    "    return word_dict"
   ]
  },
  {
   "cell_type": "code",
   "execution_count": 13,
   "metadata": {},
   "outputs": [],
   "source": [
    "word_dict = build_dict(train_X)"
   ]
  },
  {
   "cell_type": "code",
   "execution_count": 14,
   "metadata": {},
   "outputs": [
    {
     "name": "stdout",
     "output_type": "stream",
     "text": [
      "word_dict length = 4998\n"
     ]
    }
   ],
   "source": [
    "print(\"word_dict length = {}\".format(len(word_dict)))"
   ]
  },
  {
   "cell_type": "code",
   "execution_count": 15,
   "metadata": {},
   "outputs": [
    {
     "name": "stdout",
     "output_type": "stream",
     "text": [
      "{'movi': 2, 'film': 3, 'one': 4, 'like': 5, 'time': 6, 'good': 7, 'make': 8, 'charact': 9, 'get': 10, 'see': 11, 'watch': 12, 'stori': 13, 'even': 14, 'would': 15, 'realli': 16, 'well': 17, 'scene': 18, 'look': 19, 'show': 20, 'much': 21, 'end': 22, 'peopl': 23, 'bad': 24, 'go': 25, 'great': 26, 'also': 27, 'first': 28, 'love': 29, 'think': 30, 'way': 31, 'act': 32, 'play': 33, 'made': 34, 'thing': 35, 'could': 36, 'know': 37, 'say': 38, 'seem': 39, 'work': 40, 'plot': 41, 'two': 42, 'actor': 43, 'year': 44, 'come': 45, 'mani': 46, 'seen': 47, 'take': 48, 'want': 49, 'life': 50, 'never': 51, 'littl': 52, 'best': 53, 'tri': 54, 'man': 55, 'ever': 56, 'give': 57, 'better': 58, 'still': 59, 'perform': 60, 'find': 61, 'feel': 62, 'part': 63, 'back': 64, 'use': 65, 'someth': 66, 'director': 67, 'actual': 68, 'interest': 69, 'lot': 70, 'real': 71, 'old': 72, 'cast': 73, 'though': 74, 'live': 75, 'star': 76, 'enjoy': 77, 'guy': 78, 'anoth': 79, 'new': 80, 'role': 81, 'noth': 82, '10': 83, 'funni': 84, 'music': 85, 'point': 86, 'start': 87, 'set': 88, 'girl': 89, 'origin': 90, 'day': 91, 'world': 92, 'everi': 93, 'believ': 94, 'turn': 95, 'quit': 96, 'us': 97, 'direct': 98, 'thought': 99, 'fact': 100, 'minut': 101, 'horror': 102, 'kill': 103, 'action': 104, 'comedi': 105, 'pretti': 106, 'young': 107, 'wonder': 108, 'happen': 109, 'around': 110, 'got': 111, 'effect': 112, 'right': 113, 'long': 114, 'howev': 115, 'big': 116, 'line': 117, 'famili': 118, 'enough': 119, 'seri': 120, 'may': 121, 'need': 122, 'fan': 123, 'bit': 124, 'script': 125, 'beauti': 126, 'person': 127, 'becom': 128, 'without': 129, 'must': 130, 'alway': 131, 'friend': 132, 'tell': 133, 'reason': 134, 'saw': 135, 'last': 136, 'final': 137, 'kid': 138, 'almost': 139, 'put': 140, 'least': 141, 'sure': 142, 'done': 143, 'whole': 144, 'place': 145, 'complet': 146, 'kind': 147, 'expect': 148, 'differ': 149, 'shot': 150, 'far': 151, 'mean': 152, 'anyth': 153, 'book': 154, 'laugh': 155, 'might': 156, 'name': 157, 'sinc': 158, 'begin': 159, '2': 160, 'probabl': 161, 'woman': 162, 'help': 163, 'entertain': 164, 'let': 165, 'screen': 166, 'call': 167, 'tv': 168, 'moment': 169, 'away': 170, 'read': 171, 'yet': 172, 'rather': 173, 'worst': 174, 'run': 175, 'fun': 176, 'lead': 177, 'hard': 178, 'audienc': 179, 'idea': 180, 'anyon': 181, 'episod': 182, 'american': 183, 'found': 184, 'appear': 185, 'bore': 186, 'especi': 187, 'although': 188, 'hope': 189, 'cours': 190, 'keep': 191, 'anim': 192, 'job': 193, 'goe': 194, 'move': 195, 'sens': 196, 'dvd': 197, 'version': 198, 'war': 199, 'money': 200, 'someon': 201, 'mind': 202, 'mayb': 203, 'problem': 204, 'true': 205, 'hous': 206, 'everyth': 207, 'nice': 208, 'second': 209, 'rate': 210, 'three': 211, 'night': 212, 'face': 213, 'follow': 214, 'recommend': 215, 'main': 216, 'product': 217, 'worth': 218, 'leav': 219, 'human': 220, 'special': 221, 'excel': 222, 'togeth': 223, 'wast': 224, 'everyon': 225, 'sound': 226, 'john': 227, 'hand': 228, '1': 229, 'father': 230, 'later': 231, 'eye': 232, 'said': 233, 'view': 234, 'instead': 235, 'review': 236, 'boy': 237, 'high': 238, 'hour': 239, 'miss': 240, 'classic': 241, 'talk': 242, 'wife': 243, 'understand': 244, 'left': 245, 'care': 246, 'black': 247, 'death': 248, 'open': 249, 'murder': 250, 'write': 251, 'half': 252, 'head': 253, 'rememb': 254, 'chang': 255, 'viewer': 256, 'fight': 257, 'gener': 258, 'surpris': 259, 'short': 260, 'includ': 261, 'die': 262, 'fall': 263, 'less': 264, 'els': 265, 'entir': 266, 'piec': 267, 'involv': 268, 'pictur': 269, 'simpli': 270, 'top': 271, 'home': 272, 'power': 273, 'total': 274, 'usual': 275, 'budget': 276, 'attempt': 277, 'suppos': 278, 'releas': 279, 'hollywood': 280, 'terribl': 281, 'song': 282, 'men': 283, 'possibl': 284, 'featur': 285, 'portray': 286, 'disappoint': 287, 'poor': 288, '3': 289, 'coupl': 290, 'stupid': 291, 'camera': 292, 'dead': 293, 'wrong': 294, 'low': 295, 'produc': 296, 'either': 297, 'video': 298, 'aw': 299, 'definit': 300, 'except': 301, 'rest': 302, 'given': 303, 'absolut': 304, 'women': 305, 'lack': 306, 'word': 307, 'writer': 308, 'titl': 309, 'talent': 310, 'decid': 311, 'full': 312, 'perfect': 313, 'along': 314, 'style': 315, 'close': 316, 'truli': 317, 'school': 318, 'emot': 319, 'save': 320, 'sex': 321, 'age': 322, 'next': 323, 'bring': 324, 'mr': 325, 'case': 326, 'killer': 327, 'heart': 328, 'comment': 329, 'sort': 330, 'creat': 331, 'perhap': 332, 'came': 333, 'brother': 334, 'sever': 335, 'joke': 336, 'art': 337, 'dialogu': 338, 'game': 339, 'small': 340, 'base': 341, 'flick': 342, 'written': 343, 'sequenc': 344, 'meet': 345, 'earli': 346, 'often': 347, 'other': 348, 'mother': 349, 'develop': 350, 'humor': 351, 'actress': 352, 'consid': 353, 'dark': 354, 'guess': 355, 'amaz': 356, 'unfortun': 357, 'lost': 358, 'light': 359, 'exampl': 360, 'cinema': 361, 'drama': 362, 'ye': 363, 'white': 364, 'experi': 365, 'imagin': 366, 'mention': 367, 'stop': 368, 'natur': 369, 'forc': 370, 'manag': 371, 'felt': 372, 'cut': 373, 'present': 374, 'children': 375, 'fail': 376, 'son': 377, 'qualiti': 378, 'car': 379, 'support': 380, 'ask': 381, 'hit': 382, 'side': 383, 'voic': 384, 'extrem': 385, 'impress': 386, 'evil': 387, 'wors': 388, 'went': 389, 'stand': 390, 'certainli': 391, 'basic': 392, 'oh': 393, 'overal': 394, 'favorit': 395, 'horribl': 396, 'mysteri': 397, 'number': 398, 'type': 399, 'danc': 400, 'wait': 401, 'hero': 402, 'alreadi': 403, '5': 404, 'learn': 405, 'matter': 406, '4': 407, 'michael': 408, 'genr': 409, 'fine': 410, 'despit': 411, 'throughout': 412, 'walk': 413, 'success': 414, 'histori': 415, 'question': 416, 'zombi': 417, 'town': 418, 'realiz': 419, 'relationship': 420, 'child': 421, 'past': 422, 'daughter': 423, 'late': 424, 'b': 425, 'wish': 426, 'hate': 427, 'credit': 428, 'event': 429, 'theme': 430, 'touch': 431, 'citi': 432, 'today': 433, 'sometim': 434, 'behind': 435, 'god': 436, 'twist': 437, 'sit': 438, 'deal': 439, 'annoy': 440, 'stay': 441, 'abl': 442, 'rent': 443, 'pleas': 444, 'edit': 445, 'blood': 446, 'deserv': 447, 'anyway': 448, 'comic': 449, 'appar': 450, 'soon': 451, 'gave': 452, 'etc': 453, 'level': 454, 'slow': 455, 'chanc': 456, 'score': 457, 'bodi': 458, 'brilliant': 459, 'incred': 460, 'figur': 461, 'situat': 462, 'major': 463, 'self': 464, 'stuff': 465, 'decent': 466, 'element': 467, 'dream': 468, 'return': 469, 'obvious': 470, 'continu': 471, 'order': 472, 'pace': 473, 'ridicul': 474, 'happi': 475, 'highli': 476, 'add': 477, 'group': 478, 'thank': 479, 'ladi': 480, 'novel': 481, 'pain': 482, 'speak': 483, 'career': 484, 'shoot': 485, 'strang': 486, 'heard': 487, 'sad': 488, 'polic': 489, 'husband': 490, 'import': 491, 'break': 492, 'took': 493, 'strong': 494, 'cannot': 495, 'predict': 496, 'robert': 497, 'violenc': 498, 'hilari': 499, 'recent': 500, 'countri': 501, 'known': 502, 'particularli': 503, 'pick': 504, 'documentari': 505, 'season': 506, 'critic': 507, 'jame': 508, 'compar': 509, 'obviou': 510, 'alon': 511, 'told': 512, 'state': 513, 'rock': 514, 'visual': 515, 'offer': 516, 'exist': 517, 'theater': 518, 'opinion': 519, 'gore': 520, 'hold': 521, 'crap': 522, 'result': 523, 'hear': 524, 'realiti': 525, 'room': 526, 'effort': 527, 'clich': 528, 'thriller': 529, 'caus': 530, 'sequel': 531, 'explain': 532, 'serious': 533, 'king': 534, 'local': 535, 'ago': 536, 'hell': 537, 'none': 538, 'note': 539, 'allow': 540, 'sister': 541, 'david': 542, 'simpl': 543, 'femal': 544, 'deliv': 545, 'ok': 546, 'convinc': 547, 'class': 548, 'check': 549, 'suspens': 550, 'win': 551, 'buy': 552, 'oscar': 553, 'huge': 554, 'valu': 555, 'sexual': 556, 'cool': 557, 'scari': 558, 'similar': 559, 'excit': 560, 'exactli': 561, 'apart': 562, 'provid': 563, 'shown': 564, 'avoid': 565, 'seriou': 566, 'english': 567, 'taken': 568, 'whose': 569, 'cinematographi': 570, 'shock': 571, 'polit': 572, 'spoiler': 573, 'offic': 574, 'across': 575, 'middl': 576, 'street': 577, 'pass': 578, 'messag': 579, 'charm': 580, 'somewhat': 581, 'silli': 582, 'modern': 583, 'filmmak': 584, 'confus': 585, 'form': 586, 'tale': 587, 'singl': 588, 'jack': 589, 'mostli': 590, 'carri': 591, 'william': 592, 'attent': 593, 'sing': 594, 'subject': 595, 'five': 596, 'richard': 597, 'prove': 598, 'stage': 599, 'team': 600, 'cop': 601, 'unlik': 602, 'georg': 603, 'televis': 604, 'monster': 605, 'earth': 606, 'villain': 607, 'cover': 608, 'pay': 609, 'marri': 610, 'toward': 611, 'build': 612, 'pull': 613, 'parent': 614, 'due': 615, 'fill': 616, 'respect': 617, 'dialog': 618, 'four': 619, 'remind': 620, 'futur': 621, 'weak': 622, 'typic': 623, '7': 624, 'cheap': 625, 'intellig': 626, 'atmospher': 627, 'british': 628, 'clearli': 629, '80': 630, 'paul': 631, 'non': 632, 'dog': 633, 'knew': 634, 'artist': 635, 'fast': 636, '8': 637, 'crime': 638, 'easili': 639, 'escap': 640, 'doubt': 641, 'adult': 642, 'detail': 643, 'date': 644, 'romant': 645, 'member': 646, 'fire': 647, 'drive': 648, 'gun': 649, 'straight': 650, 'beyond': 651, 'fit': 652, 'attack': 653, 'imag': 654, 'upon': 655, 'posit': 656, 'whether': 657, 'fantast': 658, 'peter': 659, 'captur': 660, 'aspect': 661, 'appreci': 662, 'ten': 663, 'plan': 664, 'discov': 665, 'remain': 666, 'period': 667, 'near': 668, 'air': 669, 'realist': 670, 'mark': 671, 'red': 672, 'dull': 673, 'adapt': 674, 'within': 675, 'spend': 676, 'lose': 677, 'materi': 678, 'color': 679, 'chase': 680, 'mari': 681, 'storylin': 682, 'forget': 683, 'bunch': 684, 'clear': 685, 'lee': 686, 'victim': 687, 'nearli': 688, 'box': 689, 'york': 690, 'inspir': 691, 'match': 692, 'finish': 693, 'mess': 694, 'standard': 695, 'easi': 696, 'truth': 697, 'suffer': 698, 'busi': 699, 'space': 700, 'dramat': 701, 'bill': 702, 'western': 703, 'e': 704, 'list': 705, 'battl': 706, 'notic': 707, 'de': 708, 'french': 709, 'ad': 710, '9': 711, 'tom': 712, 'larg': 713, 'among': 714, 'eventu': 715, 'accept': 716, 'train': 717, 'agre': 718, 'soundtrack': 719, 'spirit': 720, 'third': 721, 'teenag': 722, 'soldier': 723, 'adventur': 724, 'famou': 725, 'sorri': 726, 'drug': 727, 'suggest': 728, 'cri': 729, 'normal': 730, 'babi': 731, 'troubl': 732, 'ultim': 733, 'contain': 734, 'certain': 735, 'cultur': 736, 'romanc': 737, 'rare': 738, 'lame': 739, 'somehow': 740, 'mix': 741, 'disney': 742, 'gone': 743, 'cartoon': 744, 'student': 745, 'fear': 746, 'reveal': 747, 'kept': 748, 'suck': 749, 'attract': 750, 'appeal': 751, 'premis': 752, 'greatest': 753, 'design': 754, 'secret': 755, 'shame': 756, 'throw': 757, 'copi': 758, 'scare': 759, 'wit': 760, 'admit': 761, 'america': 762, 'relat': 763, 'particular': 764, 'brought': 765, 'screenplay': 766, 'whatev': 767, 'pure': 768, '70': 769, 'averag': 770, 'harri': 771, 'master': 772, 'describ': 773, 'male': 774, 'treat': 775, '20': 776, 'fantasi': 777, 'issu': 778, 'warn': 779, 'inde': 780, 'background': 781, 'forward': 782, 'project': 783, 'free': 784, 'memor': 785, 'japanes': 786, 'poorli': 787, 'award': 788, 'locat': 789, 'amus': 790, 'potenti': 791, 'struggl': 792, 'weird': 793, 'magic': 794, 'societi': 795, 'okay': 796, 'imdb': 797, 'accent': 798, 'doctor': 799, 'hot': 800, 'water': 801, 'dr': 802, 'alien': 803, 'express': 804, '30': 805, 'odd': 806, 'choic': 807, 'crazi': 808, 'studio': 809, 'fiction': 810, 'control': 811, 'becam': 812, 'masterpiec': 813, 'difficult': 814, 'fli': 815, 'joe': 816, 'scream': 817, 'costum': 818, 'lover': 819, 'uniqu': 820, 'refer': 821, 'remak': 822, 'vampir': 823, 'girlfriend': 824, 'prison': 825, 'execut': 826, 'wear': 827, 'jump': 828, 'wood': 829, 'unless': 830, 'creepi': 831, 'cheesi': 832, 'superb': 833, 'otherwis': 834, 'parti': 835, 'roll': 836, 'ghost': 837, 'public': 838, 'mad': 839, 'depict': 840, 'week': 841, 'badli': 842, 'moral': 843, 'jane': 844, 'earlier': 845, 'dumb': 846, 'fi': 847, 'grow': 848, 'flaw': 849, 'deep': 850, 'sci': 851, 'maker': 852, 'cat': 853, 'footag': 854, 'older': 855, 'connect': 856, 'plenti': 857, 'bother': 858, 'outsid': 859, 'stick': 860, 'gay': 861, 'catch': 862, 'plu': 863, 'co': 864, 'popular': 865, 'equal': 866, 'social': 867, 'disturb': 868, 'quickli': 869, 'perfectli': 870, 'dress': 871, 'era': 872, '90': 873, 'mistak': 874, 'lie': 875, 'previou': 876, 'ride': 877, 'combin': 878, 'concept': 879, 'band': 880, 'rich': 881, 'answer': 882, 'surviv': 883, 'front': 884, 'sweet': 885, 'christma': 886, 'insid': 887, 'bare': 888, 'concern': 889, 'eat': 890, 'listen': 891, 'beat': 892, 'ben': 893, 'c': 894, 'term': 895, 'serv': 896, 'la': 897, 'meant': 898, 'german': 899, 'stereotyp': 900, 'hardli': 901, 'innoc': 902, 'law': 903, 'desper': 904, 'promis': 905, 'memori': 906, 'cute': 907, 'intent': 908, 'steal': 909, 'variou': 910, 'inform': 911, 'brain': 912, 'post': 913, 'tone': 914, 'island': 915, 'amount': 916, 'track': 917, 'nuditi': 918, 'compani': 919, 'claim': 920, 'store': 921, '50': 922, 'hair': 923, 'flat': 924, 'land': 925, 'univers': 926, 'danger': 927, 'fairli': 928, 'kick': 929, 'scott': 930, 'player': 931, 'step': 932, 'plain': 933, 'crew': 934, 'toni': 935, 'share': 936, 'centuri': 937, 'tast': 938, 'engag': 939, 'achiev': 940, 'travel': 941, 'cold': 942, 'record': 943, 'suit': 944, 'rip': 945, 'manner': 946, 'sadli': 947, 'tension': 948, 'spot': 949, 'wrote': 950, 'fascin': 951, 'intens': 952, 'familiar': 953, 'burn': 954, 'remark': 955, 'depth': 956, 'histor': 957, 'destroy': 958, 'sleep': 959, 'purpos': 960, 'languag': 961, 'ignor': 962, 'ruin': 963, 'delight': 964, 'unbeliev': 965, 'italian': 966, 'abil': 967, 'collect': 968, 'soul': 969, 'clever': 970, 'detect': 971, 'violent': 972, 'rape': 973, 'reach': 974, 'door': 975, 'scienc': 976, 'trash': 977, 'liter': 978, 'reveng': 979, 'caught': 980, 'commun': 981, 'creatur': 982, 'approach': 983, 'trip': 984, 'intrigu': 985, 'fashion': 986, 'introduc': 987, 'paint': 988, 'skill': 989, 'complex': 990, 'channel': 991, 'camp': 992, 'christian': 993, 'hole': 994, 'extra': 995, 'ann': 996, 'mental': 997, 'immedi': 998, 'limit': 999, 'slightli': 1000, 'mere': 1001, '6': 1002, 'million': 1003, 'comput': 1004, 'slasher': 1005, 'conclus': 1006, 'suddenli': 1007, 'imposs': 1008, 'neither': 1009, 'crimin': 1010, 'teen': 1011, 'spent': 1012, 'nation': 1013, 'physic': 1014, 'respons': 1015, 'planet': 1016, 'fake': 1017, 'receiv': 1018, 'sick': 1019, 'blue': 1020, 'bizarr': 1021, 'embarrass': 1022, 'indian': 1023, '15': 1024, 'ring': 1025, 'pop': 1026, 'drop': 1027, 'drag': 1028, 'haunt': 1029, 'pointless': 1030, 'suspect': 1031, 'search': 1032, 'edg': 1033, 'handl': 1034, 'biggest': 1035, 'common': 1036, 'hurt': 1037, 'faith': 1038, 'arriv': 1039, 'technic': 1040, 'angel': 1041, 'genuin': 1042, 'dad': 1043, 'awesom': 1044, 'solid': 1045, 'f': 1046, 'former': 1047, 'focu': 1048, 'van': 1049, 'colleg': 1050, 'count': 1051, 'heavi': 1052, 'tear': 1053, 'wall': 1054, 'rais': 1055, 'younger': 1056, 'visit': 1057, 'laughabl': 1058, 'sign': 1059, 'excus': 1060, 'fair': 1061, 'cult': 1062, 'key': 1063, 'tough': 1064, 'motion': 1065, 'super': 1066, 'desir': 1067, 'addit': 1068, 'stun': 1069, 'cloth': 1070, 'exploit': 1071, 'smith': 1072, 'tortur': 1073, 'race': 1074, 'davi': 1075, 'author': 1076, 'cross': 1077, 'jim': 1078, 'minor': 1079, 'compel': 1080, 'consist': 1081, 'focus': 1082, 'commit': 1083, 'chemistri': 1084, 'pathet': 1085, 'park': 1086, 'tradit': 1087, 'frank': 1088, 'obsess': 1089, 'grade': 1090, '60': 1091, 'asid': 1092, 'brutal': 1093, 'somewher': 1094, 'steve': 1095, 'u': 1096, 'explor': 1097, 'rule': 1098, 'depress': 1099, 'opportun': 1100, 'grant': 1101, 'besid': 1102, 'honest': 1103, 'dub': 1104, 'anti': 1105, 'trailer': 1106, 'intend': 1107, 'bar': 1108, 'longer': 1109, 'regard': 1110, 'scientist': 1111, 'west': 1112, 'decad': 1113, 'judg': 1114, 'silent': 1115, 'creativ': 1116, 'armi': 1117, 'wild': 1118, 'south': 1119, 'stewart': 1120, 'g': 1121, 'draw': 1122, 'road': 1123, 'govern': 1124, 'ex': 1125, 'boss': 1126, 'practic': 1127, 'motiv': 1128, 'gang': 1129, 'festiv': 1130, 'surprisingli': 1131, 'club': 1132, 'redeem': 1133, 'page': 1134, 'green': 1135, 'london': 1136, 'aliv': 1137, 'display': 1138, 'machin': 1139, 'militari': 1140, 'idiot': 1141, 'repeat': 1142, 'thrill': 1143, 'nobodi': 1144, 'yeah': 1145, 'folk': 1146, '100': 1147, '40': 1148, 'garbag': 1149, 'journey': 1150, 'tire': 1151, 'smile': 1152, 'ground': 1153, 'mood': 1154, 'bought': 1155, 'sam': 1156, 'cost': 1157, 'stone': 1158, 'mouth': 1159, 'noir': 1160, 'agent': 1161, 'terrif': 1162, 'utterli': 1163, 'requir': 1164, 'honestli': 1165, 'sexi': 1166, 'area': 1167, 'geniu': 1168, 'report': 1169, 'humour': 1170, 'glad': 1171, 'enter': 1172, 'investig': 1173, 'serial': 1174, 'passion': 1175, 'occasion': 1176, 'narr': 1177, 'marriag': 1178, 'climax': 1179, 'industri': 1180, 'studi': 1181, 'ship': 1182, 'center': 1183, 'nowher': 1184, 'charli': 1185, 'demon': 1186, 'hors': 1187, 'loos': 1188, 'bear': 1189, 'hang': 1190, 'wow': 1191, 'graphic': 1192, 'admir': 1193, 'giant': 1194, 'send': 1195, 'loud': 1196, 'damn': 1197, 'nake': 1198, 'subtl': 1199, 'rel': 1200, 'profession': 1201, 'blow': 1202, 'bottom': 1203, 'batman': 1204, 'insult': 1205, 'r': 1206, 'doubl': 1207, 'boyfriend': 1208, 'kelli': 1209, 'initi': 1210, 'frame': 1211, 'gem': 1212, 'opera': 1213, 'church': 1214, 'drawn': 1215, 'cinemat': 1216, 'affect': 1217, 'challeng': 1218, 'l': 1219, 'nightmar': 1220, 'seek': 1221, 'evid': 1222, 'fulli': 1223, 'j': 1224, 'arm': 1225, 'conflict': 1226, 'essenti': 1227, 'wind': 1228, 'grace': 1229, 'henri': 1230, 'christoph': 1231, 'assum': 1232, 'narrat': 1233, 'witch': 1234, 'push': 1235, 'hunt': 1236, 'chri': 1237, 'wise': 1238, 'nomin': 1239, 'month': 1240, 'repres': 1241, 'sceneri': 1242, 'hide': 1243, 'avail': 1244, 'affair': 1245, 'smart': 1246, 'justic': 1247, 'bond': 1248, 'thu': 1249, 'outstand': 1250, 'flashback': 1251, 'interview': 1252, 'presenc': 1253, 'constantli': 1254, 'satisfi': 1255, 'bed': 1256, 'central': 1257, 'iron': 1258, 'content': 1259, 'sell': 1260, 'everybodi': 1261, 'gag': 1262, 'slowli': 1263, 'hotel': 1264, 'hire': 1265, 'system': 1266, 'hey': 1267, 'charl': 1268, 'individu': 1269, 'thrown': 1270, 'adam': 1271, 'jone': 1272, 'mediocr': 1273, 'allen': 1274, 'billi': 1275, 'lesson': 1276, 'ray': 1277, 'cameo': 1278, 'photographi': 1279, 'fellow': 1280, 'pari': 1281, 'strike': 1282, 'brief': 1283, 'independ': 1284, 'rise': 1285, 'absurd': 1286, 'neg': 1287, 'impact': 1288, 'phone': 1289, 'model': 1290, 'born': 1291, 'ill': 1292, 'angl': 1293, 'fresh': 1294, 'spoil': 1295, 'abus': 1296, 'likabl': 1297, 'discuss': 1298, 'hill': 1299, 'ahead': 1300, 'sight': 1301, 'photograph': 1302, 'sent': 1303, 'shine': 1304, 'logic': 1305, 'blame': 1306, 'occur': 1307, 'mainli': 1308, 'bruce': 1309, 'forev': 1310, 'commerci': 1311, 'skip': 1312, 'segment': 1313, 'held': 1314, 'teacher': 1315, 'surround': 1316, 'zero': 1317, 'blond': 1318, 'satir': 1319, 'summer': 1320, 'resembl': 1321, 'trap': 1322, 'fool': 1323, 'queen': 1324, 'six': 1325, 'ball': 1326, 'twice': 1327, 'tragedi': 1328, 'sub': 1329, 'reaction': 1330, 'pack': 1331, 'bomb': 1332, 'hospit': 1333, 'will': 1334, 'protagonist': 1335, 'mile': 1336, 'sport': 1337, 'drink': 1338, 'trust': 1339, 'vote': 1340, 'mom': 1341, 'jerri': 1342, 'encount': 1343, 'plane': 1344, 'station': 1345, 'al': 1346, 'program': 1347, 'current': 1348, 'choos': 1349, 'martin': 1350, 'celebr': 1351, 'join': 1352, 'lord': 1353, 'favourit': 1354, 'tragic': 1355, 'round': 1356, 'field': 1357, 'vision': 1358, 'jean': 1359, 'robot': 1360, 'tie': 1361, 'arthur': 1362, 'random': 1363, 'fortun': 1364, 'roger': 1365, 'dread': 1366, 'intern': 1367, 'psycholog': 1368, 'epic': 1369, 'improv': 1370, 'prefer': 1371, 'nonsens': 1372, 'pleasur': 1373, 'legend': 1374, 'formula': 1375, 'highlight': 1376, 'dollar': 1377, 'tape': 1378, '11': 1379, 'porn': 1380, 'gorgeou': 1381, 'wide': 1382, 'fox': 1383, 'object': 1384, 'thin': 1385, 'ugli': 1386, 'influenc': 1387, 'buddi': 1388, 'prepar': 1389, 'nasti': 1390, 'ii': 1391, 'progress': 1392, 'supposedli': 1393, 'warm': 1394, 'reflect': 1395, 'worthi': 1396, 'youth': 1397, 'unusu': 1398, 'length': 1399, 'latter': 1400, 'crash': 1401, 'seven': 1402, 'shop': 1403, 'superior': 1404, 'childhood': 1405, 'remot': 1406, 'theatr': 1407, 'funniest': 1408, 'disgust': 1409, 'pilot': 1410, 'paid': 1411, 'fell': 1412, 'convers': 1413, 'trick': 1414, 'castl': 1415, 'disast': 1416, 'gangster': 1417, 'rob': 1418, 'establish': 1419, 'mine': 1420, 'suicid': 1421, 'ident': 1422, 'disappear': 1423, 'heaven': 1424, 'tend': 1425, 'heroin': 1426, 'decis': 1427, 'singer': 1428, 'forgotten': 1429, 'mask': 1430, 'brian': 1431, 'partner': 1432, 'desert': 1433, 'recogn': 1434, 'alan': 1435, 'stuck': 1436, 'thoroughli': 1437, 'p': 1438, 'sky': 1439, 'ms': 1440, 'accur': 1441, 'replac': 1442, 'market': 1443, 'commentari': 1444, 'danni': 1445, 'clue': 1446, 'eddi': 1447, 'andi': 1448, 'seemingli': 1449, 'uncl': 1450, 'devil': 1451, 'jackson': 1452, 'pair': 1453, 'refus': 1454, 'therefor': 1455, 'that': 1456, 'fault': 1457, 'river': 1458, 'ed': 1459, 'unit': 1460, 'fate': 1461, 'accid': 1462, 'afraid': 1463, 'tune': 1464, 'stephen': 1465, 'russian': 1466, 'hidden': 1467, 'clean': 1468, 'captain': 1469, 'instanc': 1470, 'convey': 1471, 'readi': 1472, 'quick': 1473, 'test': 1474, 'irrit': 1475, 'european': 1476, 'daniel': 1477, 'frustrat': 1478, 'insan': 1479, 'wed': 1480, '1950': 1481, 'rescu': 1482, 'food': 1483, 'chines': 1484, 'dirti': 1485, 'lock': 1486, 'angri': 1487, 'joy': 1488, 'price': 1489, 'steven': 1490, 'bland': 1491, 'cage': 1492, 'anymor': 1493, 'rang': 1494, 'wooden': 1495, 'rush': 1496, 'jason': 1497, 'n': 1498, 'news': 1499, '12': 1500, 'led': 1501, 'worri': 1502, 'twenti': 1503, 'board': 1504, 'martial': 1505, 'transform': 1506, 'symbol': 1507, 'cgi': 1508, 'hunter': 1509, 'piti': 1510, 'sentiment': 1511, 'johnni': 1512, 'onto': 1513, 'x': 1514, 'invent': 1515, 'attitud': 1516, 'explan': 1517, 'process': 1518, 'awar': 1519, 'owner': 1520, 'aim': 1521, 'floor': 1522, 'target': 1523, 'favor': 1524, 'energi': 1525, 'necessari': 1526, 'religi': 1527, 'opposit': 1528, 'window': 1529, 'blind': 1530, 'insight': 1531, 'chick': 1532, 'movement': 1533, 'comparison': 1534, 'deepli': 1535, 'possess': 1536, 'mountain': 1537, 'research': 1538, 'whatsoev': 1539, 'comed': 1540, 'grand': 1541, 'rain': 1542, 'bank': 1543, 'began': 1544, 'shadow': 1545, 'mid': 1546, 'parodi': 1547, 'princ': 1548, 'credibl': 1549, 'weapon': 1550, 'taylor': 1551, 'pre': 1552, 'friendship': 1553, 'teach': 1554, 'dougla': 1555, 'flesh': 1556, 'protect': 1557, 'hint': 1558, 'bloodi': 1559, 'terror': 1560, 'marvel': 1561, 'drunk': 1562, 'superman': 1563, 'watchabl': 1564, 'leader': 1565, 'anybodi': 1566, 'accord': 1567, 'load': 1568, 'freddi': 1569, 'brown': 1570, 'appropri': 1571, 'jeff': 1572, 'hitler': 1573, 'seat': 1574, 'tim': 1575, 'keaton': 1576, 'villag': 1577, 'knock': 1578, 'charg': 1579, 'unknown': 1580, 'england': 1581, 'unnecessari': 1582, 'media': 1583, 'enemi': 1584, 'empti': 1585, 'strength': 1586, 'wave': 1587, 'buck': 1588, 'dare': 1589, 'perspect': 1590, 'craft': 1591, 'utter': 1592, 'nativ': 1593, 'ford': 1594, 'kiss': 1595, 'contrast': 1596, 'correct': 1597, 'knowledg': 1598, 'soap': 1599, 'anywher': 1600, 'magnific': 1601, 'nazi': 1602, 'chill': 1603, 'speed': 1604, 'distract': 1605, 'breath': 1606, '1980': 1607, 'ice': 1608, 'mission': 1609, 'fred': 1610, 'jr': 1611, 'moon': 1612, 'crowd': 1613, 'joan': 1614, 'frighten': 1615, '000': 1616, 'kate': 1617, 'soft': 1618, 'dick': 1619, 'nick': 1620, 'dan': 1621, 'hundr': 1622, 'simon': 1623, 'dozen': 1624, 'radio': 1625, 'somebodi': 1626, 'loss': 1627, 'academi': 1628, 'shakespear': 1629, 'thousand': 1630, 'andrew': 1631, 'quot': 1632, 'vehicl': 1633, 'sum': 1634, 'root': 1635, 'account': 1636, 'leg': 1637, 'convent': 1638, '1970': 1639, 'behavior': 1640, 'gold': 1641, 'regular': 1642, 'compet': 1643, 'worker': 1644, 'demand': 1645, 'pretenti': 1646, 'notabl': 1647, 'candi': 1648, 'japan': 1649, 'explos': 1650, 'stretch': 1651, 'privat': 1652, 'interpret': 1653, 'lynch': 1654, 'debut': 1655, 'tarzan': 1656, 'constant': 1657, 'sea': 1658, 'translat': 1659, 'prais': 1660, 'spi': 1661, 'revolv': 1662, 'threaten': 1663, 'failur': 1664, 'sat': 1665, 'jesu': 1666, 'technolog': 1667, 'ass': 1668, 'franc': 1669, 'quiet': 1670, 'higher': 1671, 'met': 1672, 'punch': 1673, 'aid': 1674, 'kevin': 1675, 'toy': 1676, 'mike': 1677, 'abandon': 1678, 'interact': 1679, 'vh': 1680, 'command': 1681, 'bet': 1682, 'separ': 1683, 'confront': 1684, 'stunt': 1685, 'site': 1686, 'gotten': 1687, 'servic': 1688, 'belong': 1689, 'techniqu': 1690, 'recal': 1691, 'freak': 1692, 'cabl': 1693, 'foot': 1694, 'bug': 1695, 'bright': 1696, 'capabl': 1697, 'jimmi': 1698, 'african': 1699, 'fu': 1700, 'succeed': 1701, 'fat': 1702, 'clark': 1703, 'stock': 1704, 'boat': 1705, 'presid': 1706, 'gene': 1707, 'structur': 1708, 'spanish': 1709, 'kidnap': 1710, 'paper': 1711, 'belief': 1712, 'factor': 1713, 'whilst': 1714, 'tree': 1715, 'realism': 1716, 'witti': 1717, 'attend': 1718, 'complic': 1719, 'educ': 1720, 'realis': 1721, 'bob': 1722, 'finest': 1723, 'assist': 1724, 'broken': 1725, 'santa': 1726, 'smoke': 1727, 'observ': 1728, 'determin': 1729, 'up': 1730, 'depart': 1731, 'v': 1732, 'hat': 1733, 'rubbish': 1734, 'lewi': 1735, 'oper': 1736, 'routin': 1737, 'fame': 1738, 'domin': 1739, 'kinda': 1740, 'hook': 1741, 'foreign': 1742, 'advanc': 1743, 'lone': 1744, 'safe': 1745, 'morgan': 1746, 'numer': 1747, 'rank': 1748, 'rose': 1749, 'shape': 1750, 'civil': 1751, 'washington': 1752, 'vs': 1753, 'shallow': 1754, 'werewolf': 1755, 'gari': 1756, 'morn': 1757, 'accomplish': 1758, 'ordinari': 1759, 'kong': 1760, 'winner': 1761, 'grab': 1762, 'peac': 1763, 'whenev': 1764, 'virtual': 1765, 'offens': 1766, 'luck': 1767, 'h': 1768, 'unfunni': 1769, 'bigger': 1770, 'activ': 1771, 'complain': 1772, 'contriv': 1773, 'welcom': 1774, 'patient': 1775, 'trek': 1776, 'con': 1777, 'dimension': 1778, 'pretend': 1779, 'eric': 1780, 'wake': 1781, 'lesbian': 1782, 'flash': 1783, 'dri': 1784, 'code': 1785, 'cain': 1786, 'dancer': 1787, 'manipul': 1788, 'corrupt': 1789, 'statu': 1790, 'albert': 1791, 'guard': 1792, 'awkward': 1793, 'gain': 1794, 'signific': 1795, 'speech': 1796, 'sourc': 1797, 'context': 1798, 'psycho': 1799, 'clip': 1800, 'anthoni': 1801, '13': 1802, 'corni': 1803, 'sean': 1804, 'advic': 1805, 'curiou': 1806, 'reli': 1807, 'priest': 1808, 'w': 1809, 'religion': 1810, 'theatric': 1811, 'flow': 1812, 'addict': 1813, 'jennif': 1814, 'howard': 1815, 'secur': 1816, 'specif': 1817, 'skin': 1818, 'asian': 1819, 'golden': 1820, 'organ': 1821, 'comfort': 1822, 'core': 1823, 'promot': 1824, 'luke': 1825, 'cash': 1826, 'cheat': 1827, 'lucki': 1828, 'lower': 1829, 'associ': 1830, 'dislik': 1831, 'balanc': 1832, 'contribut': 1833, 'wing': 1834, 'degre': 1835, 'spell': 1836, 'regret': 1837, 'devic': 1838, 'frequent': 1839, 'frankli': 1840, 'sake': 1841, 'print': 1842, 'lake': 1843, 'forgiv': 1844, 'mass': 1845, 'betti': 1846, 'thoma': 1847, 'unexpect': 1848, 'gordon': 1849, 'crack': 1850, 'grown': 1851, 'unfold': 1852, 'amateur': 1853, 'construct': 1854, 'categori': 1855, 'depend': 1856, 'invit': 1857, 'matur': 1858, 'anna': 1859, 'walter': 1860, 'intellectu': 1861, 'condit': 1862, 'grew': 1863, 'honor': 1864, 'sole': 1865, 'veteran': 1866, 'spectacular': 1867, 'sudden': 1868, 'mirror': 1869, 'experienc': 1870, 'liner': 1871, 'card': 1872, 'gift': 1873, 'freedom': 1874, 'demonstr': 1875, 'meanwhil': 1876, 'grip': 1877, 'robin': 1878, 'overli': 1879, 'unabl': 1880, 'drew': 1881, 'colour': 1882, 'section': 1883, 'sheriff': 1884, 'subtitl': 1885, 'brilliantli': 1886, 'circumst': 1887, 'crappi': 1888, 'oliv': 1889, 'theori': 1890, 'sheer': 1891, 'pile': 1892, 'laughter': 1893, 'altern': 1894, 'parker': 1895, 'cook': 1896, 'path': 1897, 'matt': 1898, 'sinatra': 1899, 'lawyer': 1900, 'hall': 1901, 'relief': 1902, 'accident': 1903, 'defin': 1904, 'treatment': 1905, 'wander': 1906, 'captiv': 1907, 'hank': 1908, 'dragon': 1909, 'gratuit': 1910, 'moor': 1911, 'halloween': 1912, 'k': 1913, 'broadway': 1914, 'jacki': 1915, 'wayn': 1916, 'barbara': 1917, 'wound': 1918, 'cowboy': 1919, 'kung': 1920, 'unintent': 1921, 'canadian': 1922, 'statement': 1923, 'spoof': 1924, 'winter': 1925, 'surreal': 1926, 'fare': 1927, 'gonna': 1928, 'fish': 1929, 'cheer': 1930, 'treasur': 1931, 'compos': 1932, 'victor': 1933, 'woodi': 1934, 'emerg': 1935, 'unrealist': 1936, 'sensit': 1937, 'ran': 1938, 'sympathet': 1939, 'neighbor': 1940, 'driven': 1941, 'expos': 1942, 'glass': 1943, 'overlook': 1944, 'topic': 1945, 'authent': 1946, 'menac': 1947, 'handsom': 1948, 'ancient': 1949, 'michel': 1950, 'chief': 1951, 'gross': 1952, 'comedian': 1953, 'nevertheless': 1954, 'network': 1955, 'cinderella': 1956, 'russel': 1957, 'stranger': 1958, 'built': 1959, 'feet': 1960, 'pleasant': 1961, 'contemporari': 1962, 'endless': 1963, 'underr': 1964, 'blockbust': 1965, 'miser': 1966, 'letter': 1967, 'consider': 1968, 'earn': 1969, 'gori': 1970, 'switch': 1971, 'solv': 1972, 'brook': 1973, 'edward': 1974, 'bullet': 1975, 'virgin': 1976, 'joseph': 1977, 'convict': 1978, 'victoria': 1979, 'chosen': 1980, 'scale': 1981, 'scenario': 1982, '0': 1983, 'cynic': 1984, 'alex': 1985, 'com': 1986, 'outrag': 1987, 'sword': 1988, 'curs': 1989, 'gut': 1990, 'substanc': 1991, 'juli': 1992, 'screenwrit': 1993, 'driver': 1994, 'wrap': 1995, 'uk': 1996, 'proper': 1997, 'monkey': 1998, 'bird': 1999, 'remov': 2000, 'par': 2001, 'court': 2002, 'indic': 2003, 'consequ': 2004, 'inevit': 2005, 'rental': 2006, 'naiv': 2007, 'advertis': 2008, 'roy': 2009, 'nanci': 2010, 'grave': 2011, 'loser': 2012, 'le': 2013, 'slap': 2014, 'fatal': 2015, 'germani': 2016, 'invis': 2017, 'bridg': 2018, 'brave': 2019, 'loui': 2020, 'ador': 2021, 'provok': 2022, 'anger': 2023, 'footbal': 2024, 'alcohol': 2025, 'chan': 2026, 'anderson': 2027, 'professor': 2028, 'stumbl': 2029, 'ryan': 2030, 'willi': 2031, 'australian': 2032, 'bat': 2033, 'sharp': 2034, 'assassin': 2035, 'patrick': 2036, '1930': 2037, 'liber': 2038, 'amateurish': 2039, 'lousi': 2040, 'cell': 2041, 'strongli': 2042, 'refresh': 2043, 'deni': 2044, 'heck': 2045, 'saturday': 2046, 'trilog': 2047, 'eight': 2048, 'ape': 2049, 'sin': 2050, 'justifi': 2051, 'san': 2052, 'vagu': 2053, 'resid': 2054, 'mini': 2055, 'reput': 2056, 'creator': 2057, 'indi': 2058, 'defeat': 2059, 'terrifi': 2060, 'sympathi': 2061, 'tediou': 2062, 'tabl': 2063, 'prevent': 2064, 'task': 2065, 'expert': 2066, 'endur': 2067, 'imit': 2068, 'offend': 2069, 'employ': 2070, 'che': 2071, 'rival': 2072, 'trial': 2073, 'basebal': 2074, 'fairi': 2075, 'dig': 2076, 'europ': 2077, 'max': 2078, 'complaint': 2079, 'weekend': 2080, 'beach': 2081, 'pitch': 2082, 'risk': 2083, 'murphi': 2084, 'format': 2085, 'purchas': 2086, 'nois': 2087, 'tini': 2088, 'glimps': 2089, 'powel': 2090, 'harsh': 2091, 'bite': 2092, 'reminisc': 2093, 'hype': 2094, 'titan': 2095, 'north': 2096, 'prime': 2097, '14': 2098, 'fals': 2099, 'asleep': 2100, 'strip': 2101, 'till': 2102, 'revel': 2103, 'texa': 2104, 'africa': 2105, 'destruct': 2106, 'descript': 2107, 'inner': 2108, 'surfac': 2109, 'excess': 2110, 'semi': 2111, 'sitcom': 2112, 'spin': 2113, 'uninterest': 2114, 'arrest': 2115, 'argu': 2116, 'controversi': 2117, 'maintain': 2118, 'twin': 2119, 'makeup': 2120, 'massiv': 2121, 'dinosaur': 2122, 'hitchcock': 2123, 'reject': 2124, 'melodrama': 2125, 'expens': 2126, 'insist': 2127, 'ideal': 2128, 'ludicr': 2129, 'kim': 2130, 'stare': 2131, 'erot': 2132, 'forest': 2133, 'ga': 2134, 'nail': 2135, 'press': 2136, 'host': 2137, 'subplot': 2138, 'columbo': 2139, 'supernatur': 2140, 'ala': 2141, 'atroci': 2142, 'presum': 2143, 'identifi': 2144, 'notch': 2145, 'dude': 2146, 'cant': 2147, 'plagu': 2148, 'forgett': 2149, 'crude': 2150, 'closer': 2151, 'method': 2152, 'guest': 2153, 'character': 2154, 'beast': 2155, 'princess': 2156, 'border': 2157, 'landscap': 2158, 'lion': 2159, 'ear': 2160, 'foster': 2161, 'birth': 2162, 'aunt': 2163, 'storytel': 2164, 'urban': 2165, 'pacino': 2166, 'previous': 2167, 'accus': 2168, 'bound': 2169, 'jungl': 2170, 'damag': 2171, 'doll': 2172, 'guid': 2173, 'jess': 2174, 'emma': 2175, 'chose': 2176, 'thirti': 2177, 'nude': 2178, 'propaganda': 2179, '25': 2180, 'warrior': 2181, 'mainstream': 2182, 'whoever': 2183, 'mate': 2184, 'pet': 2185, 'merit': 2186, 'gritti': 2187, 'upset': 2188, 'exact': 2189, 'friday': 2190, 'size': 2191, 'deadli': 2192, 'latest': 2193, 'cooper': 2194, 'poster': 2195, 'buff': 2196, 'corps': 2197, 'ton': 2198, 'settl': 2199, 'rough': 2200, 'blend': 2201, 'popul': 2202, 'citizen': 2203, 'contest': 2204, 'warner': 2205, 'contact': 2206, 'sun': 2207, '1990': 2208, 'wilson': 2209, 'select': 2210, 'pitt': 2211, 'overcom': 2212, 'mgm': 2213, 'widow': 2214, 'metal': 2215, 'rat': 2216, 'environ': 2217, 'alic': 2218, 'bu': 2219, 'lift': 2220, 'link': 2221, 'guilti': 2222, 'revolut': 2223, 'particip': 2224, 'ted': 2225, 'accompani': 2226, '1960': 2227, 'prostitut': 2228, 'corner': 2229, 'exagger': 2230, 'matrix': 2231, 'afternoon': 2232, 'moron': 2233, 'corpor': 2234, 'johnson': 2235, 'instal': 2236, 'doom': 2237, 'clair': 2238, 'holm': 2239, 'leagu': 2240, 'sincer': 2241, 'hood': 2242, 'multipl': 2243, 'friendli': 2244, 'sunday': 2245, 'irish': 2246, 'lugosi': 2247, 'junk': 2248, 'campi': 2249, 'defend': 2250, 'grim': 2251, 'examin': 2252, 'advis': 2253, 'string': 2254, 'blah': 2255, 'hip': 2256, 'aka': 2257, 'shake': 2258, 'tight': 2259, 'pro': 2260, 'rachel': 2261, 'icon': 2262, 'varieti': 2263, 'shut': 2264, 'confid': 2265, 'jaw': 2266, 'directli': 2267, 'goal': 2268, 'mexican': 2269, 'medic': 2270, 'attach': 2271, 'sullivan': 2272, 'denni': 2273, 'prior': 2274, 'courag': 2275, 'breast': 2276, 'truck': 2277, 'terrorist': 2278, 'sarah': 2279, 'dean': 2280, 'vietnam': 2281, 'legendari': 2282, 'sentenc': 2283, 'duke': 2284, 'bourn': 2285, 'un': 2286, 'entri': 2287, 'behav': 2288, 'yell': 2289, 'hong': 2290, 'split': 2291, 'nose': 2292, 'proceed': 2293, 'donald': 2294, 'confess': 2295, 'forth': 2296, 'lifetim': 2297, 'jerk': 2298, 'crush': 2299, 'stolen': 2300, 'everywher': 2301, 'borrow': 2302, 'concentr': 2303, 'buri': 2304, 'gather': 2305, 'swim': 2306, 'unconvinc': 2307, 'julia': 2308, 'pan': 2309, 'california': 2310, 'spite': 2311, 'lip': 2312, 'deliveri': 2313, 'turkey': 2314, 'quest': 2315, 'offici': 2316, 'flight': 2317, 'reward': 2318, 'hoffman': 2319, 'downright': 2320, 'proud': 2321, 'freeman': 2322, 'china': 2323, 'notori': 2324, 'fade': 2325, 'fabul': 2326, 'betray': 2327, 'jail': 2328, 'lazi': 2329, 'encourag': 2330, 'inept': 2331, 'sir': 2332, 'worthwhil': 2333, 'jon': 2334, 'sink': 2335, 'shower': 2336, 'cousin': 2337, 'storm': 2338, 'relev': 2339, 'susan': 2340, 'survivor': 2341, 'bell': 2342, 'teeth': 2343, 'retard': 2344, 'lisa': 2345, 'imageri': 2346, 'bag': 2347, 'branagh': 2348, 'toler': 2349, 'hugh': 2350, 'bride': 2351, 'finger': 2352, 'summari': 2353, 'alright': 2354, 'tremend': 2355, 'quirki': 2356, 'facial': 2357, 'trade': 2358, 'stab': 2359, 'mexico': 2360, 'shark': 2361, 'pose': 2362, 'bitter': 2363, 'blown': 2364, 'von': 2365, 'hyster': 2366, 'ha': 2367, 'christ': 2368, 'bone': 2369, 'larri': 2370, 'scheme': 2371, 'afterward': 2372, 'address': 2373, 'ned': 2374, 'ron': 2375, 'cruel': 2376, 'feed': 2377, 'screw': 2378, 'thumb': 2379, 'tour': 2380, 'snake': 2381, 'beg': 2382, 'distinct': 2383, 'pursu': 2384, 'traci': 2385, 'swear': 2386, 'stomach': 2387, 'obscur': 2388, 'chair': 2389, 'raw': 2390, 'occas': 2391, 'photo': 2392, 'mechan': 2393, 'necessarili': 2394, 'heavili': 2395, 'gruesom': 2396, 'render': 2397, 'argument': 2398, 'resist': 2399, 'chain': 2400, 'cabin': 2401, 'sidney': 2402, 'holiday': 2403, 'southern': 2404, 'hardi': 2405, 'indulg': 2406, 'india': 2407, 'satan': 2408, 'understood': 2409, 'philip': 2410, 'racist': 2411, 'stalk': 2412, 'belov': 2413, 'forgot': 2414, 'obnoxi': 2415, 'lay': 2416, 'pregnant': 2417, 'integr': 2418, 'midnight': 2419, 'outfit': 2420, 'tongu': 2421, 'fourth': 2422, 'slapstick': 2423, 'carol': 2424, 'magazin': 2425, 'restor': 2426, 'garden': 2427, 'deeper': 2428, 'ticket': 2429, 'inhabit': 2430, '17': 2431, 'brad': 2432, 'shoe': 2433, 'lincoln': 2434, 'incid': 2435, 'devot': 2436, 'anticip': 2437, 'guarante': 2438, 'divorc': 2439, 'disbelief': 2440, 'benefit': 2441, 'maria': 2442, 'lili': 2443, 'elizabeth': 2444, 'underground': 2445, 'sandler': 2446, 'slave': 2447, 'creation': 2448, 'amazingli': 2449, 'mildli': 2450, 'cring': 2451, 'greater': 2452, 'bbc': 2453, 'capit': 2454, 'explod': 2455, 'princip': 2456, 'lesli': 2457, 'funnier': 2458, 'halfway': 2459, 'introduct': 2460, 'extraordinari': 2461, 'text': 2462, 'wreck': 2463, 'punish': 2464, 'overwhelm': 2465, 'extent': 2466, 'advantag': 2467, 'transfer': 2468, 'tap': 2469, 'enhanc': 2470, 'horrif': 2471, 'jessica': 2472, 'lo': 2473, 'dynam': 2474, 'plant': 2475, 'preview': 2476, 'deliber': 2477, 'error': 2478, 'east': 2479, 'lane': 2480, 'miscast': 2481, '2000': 2482, 'vacat': 2483, 'homosexu': 2484, 'miller': 2485, 'appli': 2486, 'vincent': 2487, 'basi': 2488, 'ensu': 2489, 'sophist': 2490, 'bollywood': 2491, 'mansion': 2492, 'steel': 2493, 'measur': 2494, 'reed': 2495, 'uncomfort': 2496, 'via': 2497, 'spoken': 2498, 'sleazi': 2499, 'elev': 2500, 'extend': 2501, 'breathtak': 2502, 'blair': 2503, 'daili': 2504, 'beer': 2505, 'conceiv': 2506, 'assign': 2507, 'mous': 2508, 'fix': 2509, 'savag': 2510, 'alter': 2511, 'melt': 2512, 'dentist': 2513, 'overact': 2514, 'goofi': 2515, 'stanley': 2516, 'hippi': 2517, 'cathol': 2518, 'properli': 2519, 'inspector': 2520, 'succe': 2521, 'nowaday': 2522, 'subsequ': 2523, 'everyday': 2524, 'oppos': 2525, 'sacrific': 2526, 'carpent': 2527, 'burt': 2528, 'neck': 2529, 'massacr': 2530, 'block': 2531, 'laura': 2532, 'circl': 2533, 'fallen': 2534, 'mob': 2535, 'lesser': 2536, 'grey': 2537, 'access': 2538, 'portrait': 2539, 'concert': 2540, 'pool': 2541, 'fay': 2542, 'christi': 2543, 'seagal': 2544, 'sinist': 2545, 'competit': 2546, 'jewish': 2547, 'usa': 2548, 'react': 2549, 'relax': 2550, 'isol': 2551, 'chees': 2552, 'jake': 2553, 'spiritu': 2554, 'creep': 2555, 'stink': 2556, 'chop': 2557, 'suitabl': 2558, 'nonetheless': 2559, 'appal': 2560, 'lyric': 2561, '2006': 2562, 'immens': 2563, 'ironi': 2564, 'nine': 2565, 'user': 2566, 'adopt': 2567, 'retir': 2568, 'sold': 2569, 'reduc': 2570, 'luci': 2571, 'rage': 2572, 'showcas': 2573, 'nut': 2574, 'spring': 2575, 'navi': 2576, 'needless': 2577, 'franchis': 2578, 'shirt': 2579, 'bath': 2580, 'nurs': 2581, 'bulli': 2582, 'uninspir': 2583, 'stanwyck': 2584, 'per': 2585, 'jay': 2586, 'asham': 2587, 'zone': 2588, 'digit': 2589, 'upper': 2590, 'broadcast': 2591, 'laid': 2592, 'illustr': 2593, '2001': 2594, 'oddli': 2595, 'amongst': 2596, 'sutherland': 2597, '1940': 2598, 'baker': 2599, 'disguis': 2600, 'stylish': 2601, 'brando': 2602, 'throat': 2603, 'aspir': 2604, 'fulfil': 2605, 'wanna': 2606, 'nobl': 2607, 'impli': 2608, 'neighborhood': 2609, 'thief': 2610, 'endear': 2611, 'em': 2612, 'wwii': 2613, 'pride': 2614, 'pound': 2615, '18': 2616, 'albeit': 2617, 'prop': 2618, 'shoulder': 2619, 'dinner': 2620, 'shift': 2621, 'coher': 2622, '16': 2623, 'cinematograph': 2624, 'diseas': 2625, 'dawn': 2626, 'rochest': 2627, 'distribut': 2628, 'bett': 2629, 'tens': 2630, 'bo': 2631, 'silenc': 2632, 'wash': 2633, 'poignant': 2634, 'contract': 2635, 'function': 2636, 'surf': 2637, 'knife': 2638, 'rebel': 2639, 'matthau': 2640, 'forti': 2641, 'snow': 2642, 'shout': 2643, 'internet': 2644, 'instinct': 2645, 'reunion': 2646, 'silver': 2647, 'heat': 2648, 'cannib': 2649, 'proof': 2650, 'height': 2651, 'henc': 2652, 'mindless': 2653, 'duti': 2654, 'widmark': 2655, 'eeri': 2656, 'cancel': 2657, 'elvira': 2658, 'derek': 2659, 'horrend': 2660, 'chuck': 2661, 'pie': 2662, 'alik': 2663, 'incoher': 2664, 'mill': 2665, 'etern': 2666, 'musician': 2667, 'spielberg': 2668, 'premier': 2669, 'repetit': 2670, 'absorb': 2671, 'innov': 2672, 'torn': 2673, 'greatli': 2674, 'glori': 2675, 'neat': 2676, 'elvi': 2677, 'announc': 2678, 'wealthi': 2679, 'britain': 2680, 'racism': 2681, 'trite': 2682, 'blank': 2683, 'diamond': 2684, 'itali': 2685, 'fbi': 2686, 'precis': 2687, 'infam': 2688, 'bang': 2689, 'crisi': 2690, 'nelson': 2691, 'horrifi': 2692, 'homag': 2693, 'lovabl': 2694, 'burton': 2695, 'redempt': 2696, 'parallel': 2697, 'pat': 2698, 'chaplin': 2699, 'happili': 2700, 'helen': 2701, 'dedic': 2702, 'flop': 2703, 'wilder': 2704, 'hammer': 2705, 'ensembl': 2706, 'streisand': 2707, 'resolut': 2708, 'st': 2709, 'carter': 2710, 'disagre': 2711, 'broke': 2712, 'oil': 2713, 'conclud': 2714, 'plastic': 2715, 'factori': 2716, 'mar': 2717, 'triumph': 2718, 'cube': 2719, 'march': 2720, 'row': 2721, 'bush': 2722, 'climb': 2723, 'weight': 2724, 'own': 2725, 'chuckl': 2726, 'vega': 2727, 'fighter': 2728, 'rocket': 2729, 'enorm': 2730, 'wherea': 2731, 'spare': 2732, 'lust': 2733, 'dane': 2734, 'unforgett': 2735, 'dump': 2736, 'boot': 2737, 'sensibl': 2738, 'luca': 2739, 'meaning': 2740, 'thug': 2741, 'mst3k': 2742, 'kurt': 2743, 'rap': 2744, 'dear': 2745, 'brand': 2746, 'stress': 2747, 'arnold': 2748, 'threat': 2749, 'adequ': 2750, 'caricatur': 2751, 'butt': 2752, 'karloff': 2753, 'difficulti': 2754, 'fifti': 2755, 'bobbi': 2756, 'engin': 2757, 'journalist': 2758, 'secretari': 2759, 'ralph': 2760, 'ego': 2761, 'swing': 2762, 'arrog': 2763, 'elabor': 2764, 'polish': 2765, 'barri': 2766, 'fest': 2767, 'hamlet': 2768, 'homeless': 2769, 'flynn': 2770, 'arrang': 2771, 'spike': 2772, 'induc': 2773, 'puppet': 2774, 'fanci': 2775, 'float': 2776, 'unbear': 2777, 'tool': 2778, 'conspiraci': 2779, 'resort': 2780, 'simpson': 2781, 'grate': 2782, 'pig': 2783, 'exercis': 2784, 'guilt': 2785, 'cruis': 2786, 'tribut': 2787, 'choreograph': 2788, 'boll': 2789, 'basement': 2790, 'phillip': 2791, 'muppet': 2792, 'ham': 2793, 'fianc': 2794, 'babe': 2795, 'toilet': 2796, 'medium': 2797, 'editor': 2798, '24': 2799, 'document': 2800, 'layer': 2801, 'korean': 2802, 'puzzl': 2803, 'file': 2804, 'slip': 2805, 'stan': 2806, 'tower': 2807, 'ward': 2808, 'item': 2809, 'scarecrow': 2810, 'transit': 2811, 'slaughter': 2812, 'librari': 2813, 'denzel': 2814, 'inexplic': 2815, 'glover': 2816, 'territori': 2817, 'larger': 2818, 'spark': 2819, 'assur': 2820, 'doc': 2821, 'minim': 2822, 'catherin': 2823, 'orient': 2824, 'superfici': 2825, 'portion': 2826, 'philosoph': 2827, 'persona': 2828, 'ban': 2829, 'owe': 2830, 'jeremi': 2831, 'boredom': 2832, 'sneak': 2833, 'shi': 2834, 'dorothi': 2835, 'wolf': 2836, 'financi': 2837, 'jet': 2838, 'walken': 2839, 'pg': 2840, 'curti': 2841, 'cusack': 2842, 'multi': 2843, 'metaphor': 2844, 'hudson': 2845, 'profound': 2846, 'backdrop': 2847, 'eleph': 2848, 'ambigu': 2849, 'whale': 2850, 'birthday': 2851, 'hack': 2852, 'union': 2853, 'rave': 2854, 'gadget': 2855, 'ultra': 2856, 'notion': 2857, 'elsewher': 2858, 'implaus': 2859, 'stiff': 2860, '2005': 2861, 'viru': 2862, 'reader': 2863, 'superhero': 2864, 'deriv': 2865, 'squar': 2866, 'hawk': 2867, 'afford': 2868, 'poison': 2869, 'newspap': 2870, 'slight': 2871, 'disc': 2872, 'pad': 2873, 'canada': 2874, 'eastwood': 2875, 'urg': 2876, 'distanc': 2877, '1st': 2878, 'bibl': 2879, 'lloyd': 2880, 'eva': 2881, 'essenc': 2882, 'health': 2883, 'restaur': 2884, 'montag': 2885, 'huh': 2886, 'button': 2887, 'spread': 2888, 'charisma': 2889, 'skit': 2890, 'drown': 2891, 'sadist': 2892, 'cure': 2893, 'heston': 2894, 'lab': 2895, 'estat': 2896, 'invest': 2897, 'peak': 2898, 'muslim': 2899, 'companion': 2900, 'scoobi': 2901, 'maniac': 2902, 'godfath': 2903, 'fetch': 2904, 'dealt': 2905, 'gradual': 2906, 'gothic': 2907, 'alli': 2908, 'servant': 2909, 'miik': 2910, 'countless': 2911, 'subtleti': 2912, 'ritter': 2913, 'cup': 2914, 'tea': 2915, 'kane': 2916, 'electr': 2917, 'salli': 2918, 'elect': 2919, 'iii': 2920, 'heroic': 2921, 'briefli': 2922, 'charismat': 2923, 'ingredi': 2924, 'nuanc': 2925, 'grandmoth': 2926, 'resourc': 2927, 'toss': 2928, 'tender': 2929, 'admittedli': 2930, 'neil': 2931, 'reel': 2932, 'wannab': 2933, 'bud': 2934, 'cole': 2935, 'punk': 2936, 'stood': 2937, 'mafia': 2938, 'label': 2939, 'poverti': 2940, 'dawson': 2941, 'gate': 2942, 'stronger': 2943, 'shall': 2944, 'carrey': 2945, 'mild': 2946, 'pauli': 2947, 'reev': 2948, 'kubrick': 2949, 'pit': 2950, 'smash': 2951, 'updat': 2952, 'cox': 2953, 'ian': 2954, 'burst': 2955, 'cardboard': 2956, 'bakshi': 2957, 'assault': 2958, 'astair': 2959, 'easier': 2960, 'outcom': 2961, 'tag': 2962, 'useless': 2963, 'fond': 2964, 'terri': 2965, 'smooth': 2966, 'vari': 2967, 'qualifi': 2968, 'exchang': 2969, '2002': 2970, 'fist': 2971, 'melodramat': 2972, 'vulner': 2973, 'increasingli': 2974, 'resolv': 2975, 'sketch': 2976, 'coincid': 2977, 'divers': 2978, 'rex': 2979, 'samurai': 2980, 'tame': 2981, 'conveni': 2982, 'luckili': 2983, 'insert': 2984, 'scratch': 2985, 'blast': 2986, 'be': 2987, 'brillianc': 2988, 'templ': 2989, 'suspend': 2990, 'reynold': 2991, 'matthew': 2992, 'gotta': 2993, 'seventi': 2994, 'hamilton': 2995, 'jami': 2996, 'coach': 2997, 'nuclear': 2998, 'strictli': 2999, 'soprano': 3000, 'walker': 3001, 'ambiti': 3002, 'farm': 3003, 'fisher': 3004, 'meat': 3005, 'pin': 3006, 'butcher': 3007, 'timeless': 3008, 'worthless': 3009, 'grasp': 3010, 'recreat': 3011, 'joey': 3012, 'struck': 3013, 'clock': 3014, 'convolut': 3015, 'closet': 3016, 'empir': 3017, 'spooki': 3018, 'monk': 3019, 'instantli': 3020, 'discoveri': 3021, 'kudo': 3022, 'cave': 3023, 'revers': 3024, 'ninja': 3025, 'eccentr': 3026, 'brosnan': 3027, 'fifteen': 3028, 'bleak': 3029, 'eighti': 3030, 'sloppi': 3031, 'wipe': 3032, 'gray': 3033, 'importantli': 3034, 'declar': 3035, 'norman': 3036, 'sidekick': 3037, 'communist': 3038, 'evok': 3039, 'inconsist': 3040, 'mitchel': 3041, 'pal': 3042, 'selfish': 3043, 'cliff': 3044, 'seller': 3045, 'partli': 3046, 'miracl': 3047, 'clown': 3048, '45': 3049, 'ho': 3050, 'flawless': 3051, 'debat': 3052, 'destin': 3053, 'lifestyl': 3054, 'piano': 3055, 'stoog': 3056, 'farc': 3057, 'superbl': 3058, 'cheek': 3059, 'websit': 3060, 'enthusiast': 3061, 'aforement': 3062, 'seed': 3063, 'chew': 3064, 'psychiatrist': 3065, 'australia': 3066, 'akshay': 3067, 'abc': 3068, 'drivel': 3069, 'anni': 3070, 'soviet': 3071, 'bash': 3072, 'wrestl': 3073, 'directori': 3074, 'slice': 3075, 'dash': 3076, 'wick': 3077, 'splatter': 3078, 'regardless': 3079, 'dire': 3080, 'kitchen': 3081, 'emili': 3082, 'pressur': 3083, 'incompet': 3084, 'cameron': 3085, 'artifici': 3086, 'beaten': 3087, 'duo': 3088, 'suppli': 3089, 'seduc': 3090, 'jar': 3091, 'ken': 3092, 'cia': 3093, 'helicopt': 3094, 'increas': 3095, 'mann': 3096, 'doo': 3097, 'curios': 3098, 'distant': 3099, 'prize': 3100, 'pleasantli': 3101, 'boil': 3102, 'recov': 3103, 'judi': 3104, 'glow': 3105, 'lou': 3106, 'flower': 3107, 'chapter': 3108, 'dave': 3109, 'cagney': 3110, 'blob': 3111, 'glenn': 3112, 'splendid': 3113, 'craig': 3114, 'ellen': 3115, 'eleg': 3116, 'goldberg': 3117, 'francisco': 3118, 'web': 3119, 'drunken': 3120, 'craven': 3121, 'panic': 3122, 'psychot': 3123, 'combat': 3124, 'perri': 3125, 'favour': 3126, 'turner': 3127, 'laurel': 3128, 'ranger': 3129, 'hop': 3130, 'slightest': 3131, 'alexand': 3132, 'plausibl': 3133, 'falk': 3134, 'graduat': 3135, 'wizard': 3136, 'greek': 3137, 'fx': 3138, '20th': 3139, 'min': 3140, 'ruth': 3141, 'gandhi': 3142, 'rid': 3143, 'hatr': 3144, 'shortli': 3145, 'philosophi': 3146, 'modesti': 3147, 'gentl': 3148, 'flip': 3149, 'unpleas': 3150, 'preciou': 3151, 'holi': 3152, 'knight': 3153, 'legal': 3154, 'ocean': 3155, 'lend': 3156, 'tall': 3157, 'we': 3158, 'dracula': 3159, 'jealou': 3160, 'manhattan': 3161, 'felix': 3162, 'fund': 3163, 'harm': 3164, 'futurist': 3165, 'explicit': 3166, 'digniti': 3167, 'forbidden': 3168, 'tank': 3169, 'nod': 3170, 'mock': 3171, 'reviv': 3172, 'scientif': 3173, 'thread': 3174, 'childish': 3175, 'bless': 3176, 'ami': 3177, 'overdon': 3178, 'giallo': 3179, 'awaken': 3180, 'verhoeven': 3181, 'elderli': 3182, 'broad': 3183, 'awe': 3184, '2004': 3185, 'unwatch': 3186, 'thick': 3187, 'repeatedli': 3188, 'nerv': 3189, '99': 3190, 'yesterday': 3191, 'torment': 3192, 'pirat': 3193, 'margaret': 3194, 'eve': 3195, 'mel': 3196, 'fever': 3197, 'uniform': 3198, 'eas': 3199, 'custom': 3200, 'acclaim': 3201, 'launch': 3202, 'ambit': 3203, 'politician': 3204, 'rivet': 3205, 'kay': 3206, 'bin': 3207, 'absenc': 3208, 'timothi': 3209, 'stiller': 3210, 'royal': 3211, 'griffith': 3212, 'publish': 3213, 'lean': 3214, 'automat': 3215, 'ah': 3216, 'romero': 3217, 'roman': 3218, 'bathroom': 3219, 'wallac': 3220, 'termin': 3221, 'homicid': 3222, 'purpl': 3223, 'sunshin': 3224, 'warren': 3225, 'gabriel': 3226, 'phrase': 3227, 'pierc': 3228, 'antic': 3229, 'transport': 3230, 'stinker': 3231, 'foul': 3232, 'darker': 3233, 'tomato': 3234, 'pulp': 3235, 'crook': 3236, 'choreographi': 3237, 'juvenil': 3238, 'karen': 3239, 'sixti': 3240, 'evolv': 3241, 'q': 3242, 'awak': 3243, 'ought': 3244, 'album': 3245, 'packag': 3246, 'contrari': 3247, 'hollow': 3248, 'viciou': 3249, 'li': 3250, 'marin': 3251, 'horrid': 3252, 'eyr': 3253, '2003': 3254, 'pray': 3255, 'brazil': 3256, 'prom': 3257, 'donna': 3258, 'rambo': 3259, 'revolutionari': 3260, 'saint': 3261, 'kenneth': 3262, 'coloni': 3263, 'dose': 3264, 'defi': 3265, 'mummi': 3266, 'stole': 3267, 'conserv': 3268, 'nerd': 3269, 'twelv': 3270, 'beatti': 3271, 'kapoor': 3272, 'overr': 3273, 'option': 3274, 'blade': 3275, 'mildr': 3276, 'candid': 3277, 'boast': 3278, 'ramon': 3279, 'ireland': 3280, 'protest': 3281, 'jazz': 3282, 'altman': 3283, 'flame': 3284, 'confirm': 3285, 'astonish': 3286, 'collabor': 3287, 'natali': 3288, 'detract': 3289, 'kirk': 3290, 'global': 3291, 'trio': 3292, 'funer': 3293, 'fulci': 3294, 'tommi': 3295, 'leap': 3296, 'audio': 3297, 'bull': 3298, 'enterpris': 3299, 'racial': 3300, 'whip': 3301, 'shade': 3302, 'mystic': 3303, 'bottl': 3304, 'yellow': 3305, 'blake': 3306, 'nicholson': 3307, 'spit': 3308, 'destini': 3309, 'delici': 3310, 'reunit': 3311, 'threw': 3312, 'bedroom': 3313, 'fonda': 3314, 'harder': 3315, 'pseudo': 3316, 'visibl': 3317, 'staff': 3318, 'todd': 3319, 'swedish': 3320, 'merci': 3321, 'altogeth': 3322, 'enchant': 3323, 'popcorn': 3324, 'meaningless': 3325, 'vivid': 3326, 'neo': 3327, 'adolesc': 3328, 'inherit': 3329, 'synopsi': 3330, 'uneven': 3331, 'ruthless': 3332, 'lawrenc': 3333, 'roommat': 3334, 'reserv': 3335, 'fanat': 3336, 'exhibit': 3337, 'leonard': 3338, 'befriend': 3339, 'decor': 3340, 'lemmon': 3341, 'respond': 3342, 'bust': 3343, 'wire': 3344, 'voight': 3345, 'await': 3346, 'suspici': 3347, 'tip': 3348, 'edi': 3349, 'kennedi': 3350, 'atlanti': 3351, 'moodi': 3352, 'jew': 3353, 'madonna': 3354, 'crocodil': 3355, 'centr': 3356, 'unsettl': 3357, 'bold': 3358, 'abysm': 3359, 'audit': 3360, 'clint': 3361, 'chao': 3362, 'carl': 3363, 'rural': 3364, 'holli': 3365, 'garner': 3366, 'voyag': 3367, 'clumsi': 3368, '2007': 3369, 'ventur': 3370, 'bradi': 3371, 'palma': 3372, 'dimens': 3373, 'bargain': 3374, 'incident': 3375, 'elimin': 3376, 'versu': 3377, 'poetic': 3378, 'echo': 3379, 'wealth': 3380, 'neglect': 3381, 'humili': 3382, 'imperson': 3383, 'immigr': 3384, 'trail': 3385, '2nd': 3386, 'ant': 3387, 'troop': 3388, 'acknowledg': 3389, 'cuba': 3390, 'cari': 3391, 'mall': 3392, 'nearbi': 3393, 'characterist': 3394, 'tiger': 3395, 'cd': 3396, 'hart': 3397, 'lit': 3398, 'daddi': 3399, 'timon': 3400, 'saga': 3401, 'infect': 3402, 'celluloid': 3403, 'mistaken': 3404, 'pun': 3405, 'prejudic': 3406, 'solo': 3407, 'repuls': 3408, 'mickey': 3409, 'domest': 3410, 'collaps': 3411, 'paus': 3412, 'homer': 3413, 'jeffrey': 3414, 'marshal': 3415, 'inappropri': 3416, 'promin': 3417, 'olivi': 3418, 'coffe': 3419, 'chest': 3420, 'cake': 3421, 'milk': 3422, 'coat': 3423, 'pant': 3424, 'interrupt': 3425, 'assembl': 3426, 'harvey': 3427, 'ginger': 3428, 'undoubtedli': 3429, 'apolog': 3430, 'equip': 3431, 'inan': 3432, 'sore': 3433, 'hbo': 3434, 'leon': 3435, 'tribe': 3436, 'gear': 3437, '1996': 3438, 'instant': 3439, 'highest': 3440, 'florida': 3441, 'pen': 3442, 'maggi': 3443, 'jenni': 3444, 'embrac': 3445, 'retain': 3446, 'trace': 3447, 'institut': 3448, 'pot': 3449, 'colonel': 3450, 'colleagu': 3451, 'vulgar': 3452, 'consum': 3453, 'primari': 3454, 'solut': 3455, 'devast': 3456, 'furthermor': 3457, 'exot': 3458, 'airplan': 3459, 'aveng': 3460, 'humbl': 3461, 'brooklyn': 3462, 'polanski': 3463, 'rick': 3464, 'ya': 3465, 'illog': 3466, 'smaller': 3467, 'principl': 3468, 'seduct': 3469, 'poke': 3470, 'godzilla': 3471, 'descend': 3472, 'disabl': 3473, 'linda': 3474, 'cope': 3475, 'outer': 3476, '1999': 3477, 'wive': 3478, '3rd': 3479, 'dian': 3480, 'bowl': 3481, 'strain': 3482, 'sale': 3483, 'gender': 3484, 'dutch': 3485, 'predecessor': 3486, 'gloriou': 3487, 'devoid': 3488, 'dive': 3489, 'cue': 3490, 'rabbit': 3491, 'inferior': 3492, 'glamor': 3493, 'lol': 3494, 'beneath': 3495, 'hal': 3496, 'yard': 3497, 'bubbl': 3498, 'scope': 3499, 'secondli': 3500, 'blatant': 3501, 'primarili': 3502, 'vast': 3503, 'dud': 3504, 'mixtur': 3505, 'gundam': 3506, 'aggress': 3507, 'et': 3508, 'hideou': 3509, 'april': 3510, 'simplist': 3511, 'streep': 3512, 'trademark': 3513, 'museum': 3514, 'talki': 3515, 'z': 3516, 'countrysid': 3517, 'invas': 3518, 'alfr': 3519, 'pearl': 3520, 'senseless': 3521, 'alert': 3522, 'shelf': 3523, 'myer': 3524, 'breed': 3525, 'arab': 3526, 'shirley': 3527, 'disjoint': 3528, 'domino': 3529, 'garbo': 3530, 'casual': 3531, 'grinch': 3532, 'stir': 3533, 'robinson': 3534, 'experiment': 3535, 'unhappi': 3536, 'loyal': 3537, 'boom': 3538, 'mayor': 3539, 'acid': 3540, 'defens': 3541, 'hardcor': 3542, 'applaud': 3543, 'slide': 3544, 'uwe': 3545, 'obtain': 3546, 'stellar': 3547, 'illeg': 3548, 'mail': 3549, 'khan': 3550, 'rendit': 3551, 'hopeless': 3552, 'oz': 3553, 'maci': 3554, 'sh': 3555, 'vanish': 3556, 'disgrac': 3557, 'robberi': 3558, 'stack': 3559, 'amanda': 3560, 'dicken': 3561, 'diana': 3562, 'grandfath': 3563, 'tenant': 3564, 'wont': 3565, 'dismiss': 3566, 'berlin': 3567, 'spider': 3568, 'span': 3569, 'hartley': 3570, 'incomprehens': 3571, 'declin': 3572, 'topless': 3573, 'emphasi': 3574, 'counter': 3575, 'craze': 3576, 'tempt': 3577, 'rifl': 3578, 'fri': 3579, 'soccer': 3580, 'psychic': 3581, 'recruit': 3582, 'blew': 3583, 'scroog': 3584, 'riot': 3585, 'shed': 3586, 'lumet': 3587, 'sibl': 3588, 'bitch': 3589, 'porno': 3590, 'sympath': 3591, 'revolt': 3592, 'wet': 3593, 'trashi': 3594, 'goer': 3595, 'justin': 3596, 'ration': 3597, 'woo': 3598, 'faster': 3599, 'shaw': 3600, 'intim': 3601, 'parad': 3602, 'resurrect': 3603, 'ethnic': 3604, 'niro': 3605, 'hesit': 3606, 'choru': 3607, 'gap': 3608, 'dealer': 3609, '00': 3610, 'unreal': 3611, 'steam': 3612, 'wheel': 3613, 'honesti': 3614, 'feminist': 3615, 'rider': 3616, 'nephew': 3617, 'eager': 3618, 'region': 3619, 'patriot': 3620, 'jonathan': 3621, 'enlighten': 3622, 'ballet': 3623, 'immort': 3624, 'biographi': 3625, 'hopper': 3626, 'andr': 3627, 'wendi': 3628, 'farmer': 3629, 'ensur': 3630, 'partial': 3631, 'mario': 3632, 'lena': 3633, 'commend': 3634, 'weakest': 3635, 'worm': 3636, 'slick': 3637, 'repress': 3638, 'similarli': 3639, 'wore': 3640, 'prequel': 3641, 'snap': 3642, 'mutant': 3643, 'util': 3644, 'owen': 3645, 'kingdom': 3646, 'properti': 3647, 'composit': 3648, 'sappi': 3649, 'hung': 3650, 'leo': 3651, 'sandra': 3652, 'vice': 3653, 'psychopath': 3654, 'blunt': 3655, 'nostalg': 3656, 'skull': 3657, 'victori': 3658, 'confin': 3659, 'safeti': 3660, 'franco': 3661, 'morri': 3662, 'charlott': 3663, 'macarthur': 3664, 'bumbl': 3665, 'recycl': 3666, 'thru': 3667, 'tad': 3668, 'rambl': 3669, 'deed': 3670, 'dust': 3671, 'pattern': 3672, 'despair': 3673, 'nervou': 3674, 'farrel': 3675, 'del': 3676, 'rope': 3677, 'snl': 3678, 'bow': 3679, 'valuabl': 3680, 'repli': 3681, 'latin': 3682, 'whoopi': 3683, 'campbel': 3684, 'compass': 3685, 'montana': 3686, 'drum': 3687, 'rocki': 3688, 'acquir': 3689, 'emperor': 3690, 'tail': 3691, 'bergman': 3692, 'strand': 3693, 'compens': 3694, 'heartbreak': 3695, 'dalton': 3696, 'hyde': 3697, 'drain': 3698, 'speci': 3699, 'exit': 3700, 'miseri': 3701, 'bonu': 3702, '1972': 3703, 'cg': 3704, 'kyle': 3705, 'rapist': 3706, 'tonight': 3707, 'downhil': 3708, 'romp': 3709, 'radic': 3710, 'oppress': 3711, '35': 3712, 'slug': 3713, 'carradin': 3714, 'rotten': 3715, 'bleed': 3716, 'gimmick': 3717, 'gal': 3718, 'contempl': 3719, 'wacki': 3720, 'percept': 3721, 'pour': 3722, 'chess': 3723, 'olli': 3724, 'roth': 3725, 'martian': 3726, 'orson': 3727, 'mistress': 3728, 'airport': 3729, 'da': 3730, 'pervert': 3731, 'melodi': 3732, 'banal': 3733, 'shelley': 3734, 'slash': 3735, 'paltrow': 3736, 'mislead': 3737, 'tackl': 3738, 'arguabl': 3739, 'attorney': 3740, 'heal': 3741, 'taught': 3742, 'unpredict': 3743, 'dazzl': 3744, 'preach': 3745, 'arc': 3746, 'champion': 3747, 'stilt': 3748, 'edgar': 3749, 'programm': 3750, '1983': 3751, 'tooth': 3752, 'pursuit': 3753, 'pervers': 3754, 'belt': 3755, 'chicken': 3756, 'gambl': 3757, 'marti': 3758, 'sensat': 3759, 'rubi': 3760, 'bela': 3761, 'maid': 3762, 'mesmer': 3763, 'plight': 3764, 'raymond': 3765, 'vengeanc': 3766, 'duval': 3767, 'employe': 3768, 'virginia': 3769, 'closest': 3770, 'cleverli': 3771, 'conneri': 3772, 'franki': 3773, 'poem': 3774, 'uplift': 3775, 'passeng': 3776, 'tiresom': 3777, 'dixon': 3778, 'vocal': 3779, 'graham': 3780, 'orang': 3781, 'amitabh': 3782, 'crystal': 3783, 'quarter': 3784, 'monologu': 3785, 'yawn': 3786, 'secretli': 3787, 'volum': 3788, 'lundgren': 3789, 'numb': 3790, 'bay': 3791, 'scottish': 3792, 'outing': 3793, 'sirk': 3794, 'abraham': 3795, 'tube': 3796, 'habit': 3797, 'inject': 3798, 'extens': 3799, 'convincingli': 3800, 'gerard': 3801, 'engross': 3802, 'giggl': 3803, 'mute': 3804, 'suffic': 3805, '1968': 3806, 'swallow': 3807, 'profan': 3808, 'iran': 3809, 'clone': 3810, 'calm': 3811, 'paranoia': 3812, 'climact': 3813, 'whine': 3814, 'pokemon': 3815, 'austen': 3816, 'surpass': 3817, 'expand': 3818, 'taxi': 3819, 'richardson': 3820, 'grotesqu': 3821, 'underst': 3822, 'bend': 3823, 'franci': 3824, 'backward': 3825, 'ethan': 3826, 'frankenstein': 3827, 'fed': 3828, 'lowest': 3829, 'profess': 3830, 'linger': 3831, 'junior': 3832, 'im': 3833, 'chicago': 3834, 'meander': 3835, 'nichola': 3836, 'septemb': 3837, 'poetri': 3838, 'earl': 3839, 'dispos': 3840, 'plod': 3841, 'spock': 3842, 'abort': 3843, 'trend': 3844, 'literatur': 3845, 'hum': 3846, 'spoke': 3847, 'econom': 3848, 'mundan': 3849, 'instrument': 3850, 'waitress': 3851, 'eugen': 3852, 'sue': 3853, 'lure': 3854, 'dysfunct': 3855, 'simplic': 3856, 'myth': 3857, 'muddl': 3858, 'rant': 3859, 'cannon': 3860, 'catchi': 3861, 'household': 3862, 'nostalgia': 3863, 'compliment': 3864, 'tourist': 3865, 'greedi': 3866, 'der': 3867, 'rubber': 3868, 'descent': 3869, 'stallon': 3870, 'phoni': 3871, 'irrelev': 3872, 'omen': 3873, 'cent': 3874, 'furi': 3875, 'crucial': 3876, 'stale': 3877, 'alongsid': 3878, 'insur': 3879, 'map': 3880, 'recognis': 3881, 'mankind': 3882, 'flee': 3883, 'firstli': 3884, 'coast': 3885, 'mortal': 3886, 'damon': 3887, 'lang': 3888, 'bacal': 3889, 'randi': 3890, 'eaten': 3891, 'molli': 3892, 'dictat': 3893, 'duck': 3894, 'dement': 3895, 'occupi': 3896, 'louis': 3897, 'sissi': 3898, 'equival': 3899, 'carel': 3900, 'recognit': 3901, 'deaf': 3902, 'hello': 3903, 'june': 3904, 'phantom': 3905, 'grayson': 3906, 'cyborg': 3907, 'wisdom': 3908, 'ashley': 3909, 'damm': 3910, 'lengthi': 3911, 'bike': 3912, 'blackmail': 3913, 'bump': 3914, 'rude': 3915, 'distinguish': 3916, 'onlin': 3917, 'newli': 3918, 'labor': 3919, 'likewis': 3920, 'rooney': 3921, 'drake': 3922, 'daisi': 3923, 'twilight': 3924, 'antwon': 3925, 'loyalti': 3926, 'heel': 3927, 'reign': 3928, 'dreari': 3929, 'freez': 3930, 'buffalo': 3931, 'biko': 3932, '1973': 3933, 'provoc': 3934, 'incorpor': 3935, 'butler': 3936, 'ridden': 3937, 'basketbal': 3938, 'inher': 3939, 'baddi': 3940, 'proce': 3941, 'sailor': 3942, 'exposur': 3943, 'pink': 3944, 'analysi': 3945, 'keith': 3946, 'vein': 3947, 'barrymor': 3948, 'attribut': 3949, 'emphas': 3950, 'unorigin': 3951, 'interior': 3952, 'worn': 3953, 'nineti': 3954, 'prey': 3955, 'tunnel': 3956, 'chronicl': 3957, 'startl': 3958, 'approv': 3959, 'boxer': 3960, 'er': 3961, 'nicol': 3962, 'condemn': 3963, 'improvis': 3964, 'fleet': 3965, 'barrel': 3966, 'drift': 3967, 'mighti': 3968, 'simmon': 3969, 'substitut': 3970, 'meyer': 3971, 'meg': 3972, 'unrel': 3973, 'belushi': 3974, 'julian': 3975, 'indiffer': 3976, 'robbin': 3977, 'elm': 3978, 'undeni': 3979, 'underli': 3980, 'hypnot': 3981, 'walsh': 3982, 'millionair': 3983, 'bunni': 3984, 'stalker': 3985, 'degrad': 3986, 'othello': 3987, 'predat': 3988, 'carla': 3989, 'mormon': 3990, 'enthusiasm': 3991, 'nyc': 3992, 'dolph': 3993, 'warmth': 3994, 'greed': 3995, 'edgi': 3996, '3d': 3997, 'palac': 3998, 'marion': 3999, 'alison': 4000, 'unawar': 4001, 'lampoon': 4002, 'firm': 4003, 'hay': 4004, 'vital': 4005, 'rukh': 4006, 'shove': 4007, 'reid': 4008, 'roof': 4009, 'watson': 4010, 'mtv': 4011, 'alarm': 4012, 'agenda': 4013, 'disord': 4014, 'exquisit': 4015, 'priceless': 4016, 'errol': 4017, 'novak': 4018, 'campaign': 4019, 'glanc': 4020, 'preserv': 4021, 'showdown': 4022, 'coup': 4023, 'cassidi': 4024, 'profit': 4025, 'simultan': 4026, 'valentin': 4027, 'testament': 4028, 'peck': 4029, 'orlean': 4030, 'beatl': 4031, 'gestur': 4032, 'peril': 4033, 'iraq': 4034, '13th': 4035, 'pamela': 4036, 'session': 4037, 'sergeant': 4038, 'nun': 4039, 'randomli': 4040, 'minimum': 4041, 'angela': 4042, 'ponder': 4043, 'crown': 4044, 'drip': 4045, 'unleash': 4046, 'what': 4047, 'israel': 4048, 'distort': 4049, 'thompson': 4050, 'eastern': 4051, 'petti': 4052, '1933': 4053, 'championship': 4054, 'spain': 4055, 'zizek': 4056, 'jan': 4057, 'perpetu': 4058, 'stroke': 4059, 'regist': 4060, 'contradict': 4061, 'valley': 4062, 'climat': 4063, 'travesti': 4064, 'rout': 4065, 'quinn': 4066, 'bro': 4067, 'exposit': 4068, 'calib': 4069, 'sabrina': 4070, 'brenda': 4071, '1984': 4072, 'cream': 4073, 'realm': 4074, 'fido': 4075, 'mon': 4076, 'din': 4077, 'buster': 4078, 'unimagin': 4079, 'restrain': 4080, 'han': 4081, 'gentleman': 4082, 'shootout': 4083, 'crawl': 4084, 'scotland': 4085, 'kurosawa': 4086, 'represent': 4087, 'cooki': 4088, 'miyazaki': 4089, 'stake': 4090, 'wig': 4091, 'reson': 4092, 'empathi': 4093, 'crow': 4094, 'ross': 4095, '1997': 4096, 'businessman': 4097, 'darren': 4098, 'meryl': 4099, 'sucker': 4100, 'greg': 4101, 'absent': 4102, 'compromis': 4103, 'pretens': 4104, 'abomin': 4105, 'unseen': 4106, 'dana': 4107, 'geek': 4108, 'perceiv': 4109, 'delic': 4110, 'femm': 4111, 'distress': 4112, 'derang': 4113, 'monoton': 4114, 'passabl': 4115, 'warrant': 4116, 'demis': 4117, 'stargat': 4118, 'mclaglen': 4119, 'shaki': 4120, 'baldwin': 4121, 'censor': 4122, 'josh': 4123, 'sammi': 4124, 'shoddi': 4125, 'unsatisfi': 4126, 'cloud': 4127, 'painter': 4128, '1987': 4129, 'ustinov': 4130, 'fuller': 4131, 'pole': 4132, 'spacey': 4133, 'traumat': 4134, 'soderbergh': 4135, 'crawford': 4136, 'tacki': 4137, 'wax': 4138, 'anchor': 4139, 'norm': 4140, 'deceas': 4141, 'fog': 4142, 'seal': 4143, 'judgment': 4144, 'nathan': 4145, 'verbal': 4146, 'furiou': 4147, 'jewel': 4148, 'unravel': 4149, 'exclus': 4150, 'correctli': 4151, 'polici': 4152, 'expedit': 4153, 'fenc': 4154, 'tarantino': 4155, 'uncov': 4156, 'kumar': 4157, 'accuraci': 4158, 'valid': 4159, 'primit': 4160, 'reluct': 4161, 'clash': 4162, 'antonioni': 4163, 'deniro': 4164, 'sid': 4165, 'austin': 4166, '1993': 4167, 'dee': 4168, 'tech': 4169, 'click': 4170, 'wholli': 4171, '1995': 4172, 'hallucin': 4173, 'darn': 4174, 'roller': 4175, 'slam': 4176, 'logan': 4177, 'clerk': 4178, 'crippl': 4179, 'nicola': 4180, 'trait': 4181, 'fabric': 4182, 'tax': 4183, 'enforc': 4184, 'conduct': 4185, 'patienc': 4186, 'mode': 4187, 'wretch': 4188, 'sheet': 4189, 'sustain': 4190, 'bake': 4191, 'fought': 4192, 'wang': 4193, 'temper': 4194, 'seldom': 4195, 'dreck': 4196, 'shanghai': 4197, 'joel': 4198, 'pocket': 4199, 'behold': 4200, 'alec': 4201, 'debt': 4202, 'unfair': 4203, 'fart': 4204, 'sunni': 4205, '2008': 4206, '3000': 4207, 'malon': 4208, '1971': 4209, 'murray': 4210, 'ritual': 4211, 'vanc': 4212, 'sand': 4213, 'robber': 4214, 'sweep': 4215, 'schedul': 4216, 'bias': 4217, 'soup': 4218, 'exhaust': 4219, 'preposter': 4220, 'isabel': 4221, 'bridget': 4222, 'stark': 4223, 'guitar': 4224, 'legaci': 4225, 'tactic': 4226, 'phil': 4227, 'rita': 4228, 'stuart': 4229, 'clau': 4230, 'scriptwrit': 4231, 'outlin': 4232, 'technicolor': 4233, 'critiqu': 4234, 'conscious': 4235, 'divid': 4236, 'squad': 4237, 'pete': 4238, 'penni': 4239, 'helpless': 4240, 'preston': 4241, 'shell': 4242, 'fundament': 4243, 'despis': 4244, 'canyon': 4245, 'grief': 4246, 'runner': 4247, 'passag': 4248, 'alley': 4249, 'liberti': 4250, 'agenc': 4251, 'connor': 4252, 'implic': 4253, 'restrict': 4254, 'bloom': 4255, 'inabl': 4256, 'rear': 4257, 'palanc': 4258, 'lacklust': 4259, 'sugar': 4260, 'sentinel': 4261, 'unexpectedli': 4262, 'delv': 4263, 'gregori': 4264, 'flair': 4265, 'marc': 4266, 'consciou': 4267, 'drove': 4268, 'newman': 4269, 'jacket': 4270, 'propos': 4271, 'russia': 4272, 'vomit': 4273, 'cigarett': 4274, 'kansa': 4275, 'culmin': 4276, 'sniper': 4277, 'boyl': 4278, 'alicia': 4279, 'invad': 4280, 'rehash': 4281, 'jodi': 4282, 'downey': 4283, 'pale': 4284, 'behaviour': 4285, 'kolchak': 4286, 'chainsaw': 4287, 'arrow': 4288, 'foxx': 4289, 'rehears': 4290, 'lush': 4291, 'sharon': 4292, '1936': 4293, 'tendenc': 4294, 'karl': 4295, 'asylum': 4296, 'aesthet': 4297, 'cap': 4298, 'wrench': 4299, 'tripe': 4300, 'improb': 4301, 'awhil': 4302, '22': 4303, 'rampag': 4304, 'delet': 4305, 'mccoy': 4306, 'bacon': 4307, 'feat': 4308, 'ladder': 4309, 'rod': 4310, 'horn': 4311, 'vet': 4312, 'yeti': 4313, 'prank': 4314, 'wildli': 4315, 'shortcom': 4316, '1920': 4317, 'hulk': 4318, 'paradis': 4319, 'weav': 4320, 'scoop': 4321, 'stream': 4322, 'newcom': 4323, 'amazon': 4324, 'conscienc': 4325, 'fright': 4326, 'suspicion': 4327, 'elit': 4328, 'coaster': 4329, 'sung': 4330, 'lurk': 4331, 'visitor': 4332, 'suffici': 4333, 'rhythm': 4334, 'loneli': 4335, 'hungri': 4336, '19th': 4337, '1978': 4338, 'tomorrow': 4339, 'tasteless': 4340, 'underneath': 4341, 'minu': 4342, 'rumor': 4343, 'globe': 4344, 'spice': 4345, 'el': 4346, '1988': 4347, 'paramount': 4348, 'hackney': 4349, 'filler': 4350, 'financ': 4351, 'wagner': 4352, 'aristocrat': 4353, 'basing': 4354, 'thunderbird': 4355, 'smell': 4356, 'secondari': 4357, 'grudg': 4358, 'brit': 4359, 'choppi': 4360, '1989': 4361, 'recogniz': 4362, '75': 4363, 'couch': 4364, 'minist': 4365, 'heist': 4366, 'chavez': 4367, 'worship': 4368, 'immers': 4369, 'en': 4370, 'impos': 4371, 'entranc': 4372, 'curli': 4373, 'counterpart': 4374, 'ingeni': 4375, 'beverli': 4376, 'straightforward': 4377, 'rub': 4378, 'dirt': 4379, 'penn': 4380, 'ram': 4381, '1939': 4382, 'cancer': 4383, 'quietli': 4384, 'hopkin': 4385, 'leigh': 4386, 'atroc': 4387, 'lectur': 4388, 'iv': 4389, 'abrupt': 4390, 'teas': 4391, 'springer': 4392, 'tierney': 4393, 'paxton': 4394, 'inmat': 4395, 'chamberlain': 4396, 'naughti': 4397, 'wwe': 4398, 'standout': 4399, 'literari': 4400, 'posey': 4401, 'bread': 4402, 'policeman': 4403, 'enthral': 4404, 'net': 4405, 'geni': 4406, 'skeptic': 4407, 'variat': 4408, 'injuri': 4409, 'convert': 4410, 'sublim': 4411, 'nemesi': 4412, 'watcher': 4413, 'sassi': 4414, 'missil': 4415, 'clan': 4416, 'entitl': 4417, 'laurenc': 4418, 'attenborough': 4419, 'yearn': 4420, 'morbid': 4421, 'ratso': 4422, 'cattl': 4423, 'duel': 4424, 'bernard': 4425, 'transcend': 4426, 'heartfelt': 4427, 'moreov': 4428, 'nolan': 4429, 'lindsay': 4430, '1986': 4431, 'ace': 4432, 'esther': 4433, 'misguid': 4434, 'quaid': 4435, 'uncut': 4436, 'kidman': 4437, 'steadi': 4438, 'characteris': 4439, 'brood': 4440, 'obstacl': 4441, 'carlito': 4442, 'egg': 4443, 'unexplain': 4444, 'out': 4445, 'setup': 4446, 'spiral': 4447, 'reliabl': 4448, 'facil': 4449, 'rosemari': 4450, 'bean': 4451, 'youngest': 4452, 'dont': 4453, 'hopelessli': 4454, 'diari': 4455, 'graini': 4456, 'kitti': 4457, 'tyler': 4458, 'enabl': 4459, 'buzz': 4460, 'bye': 4461, 'poe': 4462, 'vader': 4463, 'artsi': 4464, 'moder': 4465, 'hk': 4466, '1979': 4467, 'cruelti': 4468, 'puppi': 4469, 'grin': 4470, 'mytholog': 4471, 'hain': 4472, 'sweat': 4473, 'fuel': 4474, 'disastr': 4475, 'baffl': 4476, 'effici': 4477, 'athlet': 4478, 'underworld': 4479, 'heap': 4480, 'despic': 4481, 'exterior': 4482, 'hammi': 4483, 'bounc': 4484, 'brendan': 4485, 'bewar': 4486, 'clueless': 4487, 'weather': 4488, 'oblig': 4489, 'narrow': 4490, 'bronson': 4491, 'acquaint': 4492, 'gina': 4493, '1969': 4494, 'patricia': 4495, 'martha': 4496, 'preming': 4497, 'decept': 4498, 'spontan': 4499, 'niec': 4500, 'kline': 4501, 'christin': 4502, 'gillian': 4503, 'mermaid': 4504, 'trigger': 4505, 'loi': 4506, 'viewpoint': 4507, 'outlaw': 4508, 'insipid': 4509, 'preachi': 4510, 'tick': 4511, 'taboo': 4512, 'headach': 4513, 'astound': 4514, 'lester': 4515, 'harmless': 4516, 'analyz': 4517, 'goof': 4518, 'mayhem': 4519, 'scar': 4520, 'suprem': 4521, 'circu': 4522, 'fontain': 4523, 'enlist': 4524, 'hepburn': 4525, 'angst': 4526, 'housewif': 4527, 'shatter': 4528, 'sleepwalk': 4529, 'sooner': 4530, 'biker': 4531, 'injur': 4532, '73': 4533, 'uh': 4534, 'dilemma': 4535, 'loath': 4536, 'dandi': 4537, '19': 4538, 'renaiss': 4539, 'candl': 4540, 'virtu': 4541, 'rome': 4542, 'ariel': 4543, 'whore': 4544, 'hostag': 4545, 'cassavet': 4546, 'phenomenon': 4547, 'salt': 4548, 'oldest': 4549, 'dismal': 4550, 'contempt': 4551, 'idol': 4552, 'hokey': 4553, 'zoom': 4554, 'surgeri': 4555, 'immatur': 4556, 'overlong': 4557, 'claustrophob': 4558, 'slimi': 4559, 'bent': 4560, 'spade': 4561, 'fluff': 4562, 'camcord': 4563, 'glorifi': 4564, 'intric': 4565, 'boston': 4566, 'redund': 4567, 'amor': 4568, 'guin': 4569, 'tripl': 4570, 'stair': 4571, 'foolish': 4572, 'dish': 4573, 'ebert': 4574, 'hooker': 4575, 'filth': 4576, 'corbett': 4577, 'stimul': 4578, 'sox': 4579, 'scorses': 4580, 'gere': 4581, 'steer': 4582, 'macho': 4583, 'trivia': 4584, 'cow': 4585, 'muscl': 4586, 'proport': 4587, 'fascist': 4588, 'radiat': 4589, 'assert': 4590, 'perman': 4591, 'rhyme': 4592, '1976': 4593, 'keen': 4594, 'margin': 4595, 'flirt': 4596, 'zane': 4597, 'joker': 4598, 'corman': 4599, 'down': 4600, 'harold': 4601, 'transplant': 4602, 'flashi': 4603, 'spree': 4604, 'obligatori': 4605, 'mutual': 4606, 'dwarf': 4607, 'frantic': 4608, 'shield': 4609, 'remad': 4610, 'gasp': 4611, 'strongest': 4612, 'schlock': 4613, 'shred': 4614, 'spinal': 4615, 'conquer': 4616, 'alvin': 4617, 'preced': 4618, 'beard': 4619, 'flag': 4620, 'antagonist': 4621, 'naschi': 4622, '1981': 4623, 'widescreen': 4624, 'gabl': 4625, 'faint': 4626, 'astronaut': 4627, 'messi': 4628, 'mount': 4629, 'cush': 4630, 'nolt': 4631, 'cohen': 4632, 'bachelor': 4633, '1945': 4634, 'neurot': 4635, 'sensual': 4636, 'repris': 4637, 'barn': 4638, 'info': 4639, 'off': 4640, 'wield': 4641, '95': 4642, '28': 4643, 'scandal': 4644, 'deer': 4645, 'divin': 4646, 'danish': 4647, 'interestingli': 4648, 'www': 4649, 'persuad': 4650, 'archiv': 4651, 'fishburn': 4652, 'carey': 4653, 'departur': 4654, 'ritchi': 4655, 'strive': 4656, 'claud': 4657, 'raj': 4658, 'vaniti': 4659, 'mobil': 4660, 'bitten': 4661, 'mol': 4662, 'inflict': 4663, 'triangl': 4664, 'instruct': 4665, 'resum': 4666, 'brush': 4667, 'boob': 4668, 'aborigin': 4669, 'discern': 4670, 'hara': 4671, 'someday': 4672, 'flock': 4673, 'jade': 4674, 'frontier': 4675, 'dame': 4676, 'proclaim': 4677, 'cher': 4678, 'banter': 4679, 'senior': 4680, 'traffic': 4681, 'axe': 4682, 'hilar': 4683, 'biblic': 4684, 'prophet': 4685, 'ish': 4686, 'melissa': 4687, 'kathryn': 4688, 'carlo': 4689, 'hug': 4690, 'europa': 4691, 'pacif': 4692, 'artwork': 4693, 'clad': 4694, 'helm': 4695, 'undermin': 4696, 'fragil': 4697, 'neill': 4698, 'cb': 4699, 'dylan': 4700, 'earnest': 4701, 'rot': 4702, 'casino': 4703, 'dim': 4704, 'luka': 4705, 'miracul': 4706, 'pickford': 4707, 'colin': 4708, 'submit': 4709, 'heartwarm': 4710, 'mobster': 4711, 'vibrant': 4712, 'harrison': 4713, 'cliffhang': 4714, 'parson': 4715, 'cycl': 4716, 'hapless': 4717, 'recit': 4718, 'anton': 4719, 'bate': 4720, 'pixar': 4721, 'loretta': 4722, 'timberlak': 4723, 'wendigo': 4724, 'alexandr': 4725, 'illus': 4726, 'aris': 4727, 'choke': 4728, 'misfortun': 4729, 'breakfast': 4730, 'toronto': 4731, 'wardrob': 4732, 'northern': 4733, 'jordan': 4734, 'blatantli': 4735, 'cerebr': 4736, 'shepherd': 4737, 'http': 4738, 'mathieu': 4739, 'uma': 4740, 'token': 4741, 'razor': 4742, 'seedi': 4743, 'venom': 4744, 'eli': 4745, 'feast': 4746, 'foil': 4747, 'nope': 4748, 'holocaust': 4749, 'akin': 4750, 'trier': 4751, 'marlon': 4752, 'redneck': 4753, 'articl': 4754, 'bondag': 4755, 'lui': 4756, 'lucil': 4757, 'jo': 4758, 'estrang': 4759, 'legitim': 4760, 'vanessa': 4761, 'sicken': 4762, 'electron': 4763, 'antholog': 4764, 'winchest': 4765, 'isra': 4766, 'milo': 4767, 'pc': 4768, 'orphan': 4769, 'mason': 4770, 'rooki': 4771, 'flavor': 4772, 'static': 4773, 'bikini': 4774, 'vile': 4775, 'shorter': 4776, 'gilbert': 4777, 'smack': 4778, 'retriev': 4779, 'magician': 4780, 'comprehend': 4781, 'nightclub': 4782, 'dudley': 4783, 'glare': 4784, 'swept': 4785, 'wrestler': 4786, 'styliz': 4787, 'turd': 4788, 'psych': 4789, 'disregard': 4790, 'gunga': 4791, 'knightley': 4792, 'tack': 4793, 'leather': 4794, 'peer': 4795, 'ideolog': 4796, 'cartoonish': 4797, 'ceremoni': 4798, 'outdat': 4799, 'abund': 4800, 'feminin': 4801, 'affleck': 4802, 'oppon': 4803, 'howl': 4804, 'audrey': 4805, 'fifth': 4806, 'boyer': 4807, 'huston': 4808, 'clinic': 4809, 'charlton': 4810, 'linear': 4811, 'frog': 4812, 'deem': 4813, 'highway': 4814, 'uniformli': 4815, 'greet': 4816, 'spawn': 4817, 'cemeteri': 4818, '1994': 4819, 'durat': 4820, 'lighter': 4821, 'toe': 4822, 'potter': 4823, 'client': 4824, 'phenomen': 4825, 'cuban': 4826, 'plate': 4827, 'moe': 4828, 'chip': 4829, 'spine': 4830, 'newer': 4831, 'lavish': 4832, 'goldsworthi': 4833, '4th': 4834, 'breakdown': 4835, 'bastard': 4836, 'braveheart': 4837, 'mitch': 4838, 'tara': 4839, 'deliver': 4840, 'conrad': 4841, 'boo': 4842, 'einstein': 4843, 'monument': 4844, 'lifeless': 4845, 'energet': 4846, 'collector': 4847, '1991': 4848, 'btw': 4849, 'snatch': 4850, 'corn': 4851, 'whack': 4852, 'bogu': 4853, 'senat': 4854, 'evolut': 4855, 'compris': 4856, 'summar': 4857, 'salman': 4858, 'sleaz': 4859, 'nina': 4860, 'appl': 4861, 'alleg': 4862, 'constitut': 4863, 'healthi': 4864, 'judd': 4865, 'pronounc': 4866, 'jare': 4867, 'eleven': 4868, 'liu': 4869, 'evelyn': 4870, 'randolph': 4871, 'clara': 4872, 'fluid': 4873, 'occup': 4874, 'kazan': 4875, 'capot': 4876, 'bori': 4877, 'historian': 4878, 'outright': 4879, 'trauma': 4880, 'wtf': 4881, 'bulk': 4882, 'signal': 4883, 'cecil': 4884, '1977': 4885, 'creek': 4886, 'inaccuraci': 4887, 'undertak': 4888, 'embark': 4889, 'ie': 4890, '1974': 4891, 'jedi': 4892, 'spectacl': 4893, 'firmli': 4894, 'sorrow': 4895, 'kent': 4896, 'lex': 4897, 'ol': 4898, 'undead': 4899, 'neatli': 4900, 'luxuri': 4901, 'jam': 4902, 'mcqueen': 4903, 'replay': 4904, 'belli': 4905, 'jule': 4906, 'armstrong': 4907, 'gilliam': 4908, 'curtain': 4909, 'mum': 4910, 'lanc': 4911, 'inaccur': 4912, 'basket': 4913, 'conan': 4914, 'galaxi': 4915, 'inclus': 4916, 'bsg': 4917, 'aussi': 4918, 'congratul': 4919, '1985': 4920, 'fruit': 4921, 'kiddi': 4922, 'comb': 4923, 'carmen': 4924, 'comprehens': 4925, 'relentless': 4926, 'goldblum': 4927, 'unattract': 4928, 'poker': 4929, 'truman': 4930, 'propheci': 4931, 'sacrif': 4932, 'lauren': 4933, 'id': 4934, 'miniseri': 4935, 'decapit': 4936, 'vignett': 4937, 'spray': 4938, 'palm': 4939, 'forgiven': 4940, 'knee': 4941, 'paula': 4942, 'vain': 4943, 'meal': 4944, 'roar': 4945, 'antonio': 4946, 'miami': 4947, 'walt': 4948, 'unsuspect': 4949, 'ash': 4950, 'blur': 4951, 'pepper': 4952, 'bait': 4953, 'abound': 4954, 'groan': 4955, 'porter': 4956, 'sidewalk': 4957, 'genet': 4958, 'pioneer': 4959, 'subtli': 4960, 'tokyo': 4961, 'rosario': 4962, 'cape': 4963, 'substanti': 4964, 'detach': 4965, 'asset': 4966, 'orchestr': 4967, 'victorian': 4968, 'growth': 4969, 'drone': 4970, 'bravo': 4971, 'frontal': 4972, 'profil': 4973, 'scarfac': 4974, 'optimist': 4975, 'masterson': 4976, 'weaker': 4977, '21st': 4978, 'monti': 4979, 'handicap': 4980, 'spill': 4981, 'verg': 4982, 'hackman': 4983, 'assort': 4984, 'evan': 4985, 'bach': 4986, 'epitom': 4987, 'hostil': 4988, 'dubiou': 4989, 'mice': 4990, 'vastli': 4991, 'rapidli': 4992, 'macabr': 4993, 'reincarn': 4994, 'sophi': 4995, 'ghetto': 4996, 'omin': 4997, 'jill': 4998, 'weari': 4999}\n"
     ]
    }
   ],
   "source": [
    "print(word_dict)"
   ]
  },
  {
   "cell_type": "markdown",
   "metadata": {},
   "source": [
    "**Question:** What are the five most frequently appearing (tokenized) words in the training set? Does it makes sense that these words appear frequently in the training set?"
   ]
  },
  {
   "cell_type": "markdown",
   "metadata": {},
   "source": [
    "**Answer:**"
   ]
  },
  {
   "cell_type": "code",
   "execution_count": 16,
   "metadata": {},
   "outputs": [
    {
     "name": "stdout",
     "output_type": "stream",
     "text": [
      "movi\n",
      "film\n",
      "one\n",
      "like\n",
      "time\n"
     ]
    }
   ],
   "source": [
    "# TODO: Use this space to determine the five most frequently appearing words in the training set.\n",
    "\n",
    "count = 0\n",
    "for word, idx in word_dict.items():\n",
    "    print(word)\n",
    "    count += 1\n",
    "    if count == 5:\n",
    "        break;"
   ]
  },
  {
   "cell_type": "markdown",
   "metadata": {},
   "source": [
    "### Save `word_dict`\n",
    "\n",
    "Later on when we construct an endpoint which processes a submitted review we will need to make use of the `word_dict` which we have created. As such, we will save it to a file now for future use."
   ]
  },
  {
   "cell_type": "code",
   "execution_count": 17,
   "metadata": {},
   "outputs": [],
   "source": [
    "data_dir = '../data/pytorch' # The folder we will use for storing data\n",
    "if not os.path.exists(data_dir): # Make sure that the folder exists\n",
    "    os.makedirs(data_dir)"
   ]
  },
  {
   "cell_type": "code",
   "execution_count": 18,
   "metadata": {},
   "outputs": [],
   "source": [
    "with open(os.path.join(data_dir, 'word_dict.pkl'), \"wb\") as f:\n",
    "    pickle.dump(word_dict, f)"
   ]
  },
  {
   "cell_type": "markdown",
   "metadata": {},
   "source": [
    "### Transform the reviews\n",
    "\n",
    "Now that we have our word dictionary which allows us to transform the words appearing in the reviews into integers, it is time to make use of it and convert our reviews to their integer sequence representation, making sure to pad or truncate to a fixed length, which in our case is `500`."
   ]
  },
  {
   "cell_type": "code",
   "execution_count": 19,
   "metadata": {},
   "outputs": [],
   "source": [
    "def convert_and_pad(word_dict, sentence, pad=500):\n",
    "    NOWORD = 0 # We will use 0 to represent the 'no word' category\n",
    "    INFREQ = 1 # and we use 1 to represent the infrequent words, i.e., words not appearing in word_dict\n",
    "    \n",
    "    working_sentence = [NOWORD] * pad\n",
    "    \n",
    "    for word_index, word in enumerate(sentence[:pad]):\n",
    "        if word in word_dict:\n",
    "            working_sentence[word_index] = word_dict[word]\n",
    "        else:\n",
    "            working_sentence[word_index] = INFREQ\n",
    "            \n",
    "    return working_sentence, min(len(sentence), pad)\n",
    "\n",
    "def convert_and_pad_data(word_dict, data, pad=500):\n",
    "    result = []\n",
    "    lengths = []\n",
    "    \n",
    "    for sentence in data:\n",
    "        converted, leng = convert_and_pad(word_dict, sentence, pad)\n",
    "        result.append(converted)\n",
    "        lengths.append(leng)\n",
    "        \n",
    "    return np.array(result), np.array(lengths)"
   ]
  },
  {
   "cell_type": "code",
   "execution_count": 20,
   "metadata": {},
   "outputs": [],
   "source": [
    "train_X, train_X_len = convert_and_pad_data(word_dict, train_X)\n",
    "test_X, test_X_len = convert_and_pad_data(word_dict, test_X)"
   ]
  },
  {
   "cell_type": "markdown",
   "metadata": {},
   "source": [
    "As a quick check to make sure that things are working as intended, check to see what one of the reviews in the training set looks like after having been processeed. Does this look reasonable? What is the length of a review in the training set?"
   ]
  },
  {
   "cell_type": "code",
   "execution_count": 21,
   "metadata": {},
   "outputs": [
    {
     "name": "stdout",
     "output_type": "stream",
     "text": [
      "Example of IMDB movie reviews (100th review):\n",
      "\n",
      "[  12    2   90 4442   31   64   64  149   42 1409   37   23   25   38\n",
      " 3641   34  340  276   51  153   24  125  203  131   99 3641   34   25\n",
      "   88    2   76 1063    9  203  616  124   50   37 1285  273    2 4442\n",
      "  157  141    9   90    2   22    8  196  763   90   22    2 2568  885\n",
      "  328  537   10   45  825  323    2  162   14  162  242   29   90   15\n",
      "   38    2 2450  164  464  466  124 4284 1314  116  334 2416 3243  212\n",
      "  401   11   12   90    4    6   16  122  382    0    0    0    0    0\n",
      "    0    0    0    0    0    0    0    0    0    0    0    0    0    0\n",
      "    0    0    0    0    0    0    0    0    0    0    0    0    0    0\n",
      "    0    0    0    0    0    0    0    0    0    0    0    0    0    0\n",
      "    0    0    0    0    0    0    0    0    0    0    0    0    0    0\n",
      "    0    0    0    0    0    0    0    0    0    0    0    0    0    0\n",
      "    0    0    0    0    0    0    0    0    0    0    0    0    0    0\n",
      "    0    0    0    0    0    0    0    0    0    0    0    0    0    0\n",
      "    0    0    0    0    0    0    0    0    0    0    0    0    0    0\n",
      "    0    0    0    0    0    0    0    0    0    0    0    0    0    0\n",
      "    0    0    0    0    0    0    0    0    0    0    0    0    0    0\n",
      "    0    0    0    0    0    0    0    0    0    0    0    0    0    0\n",
      "    0    0    0    0    0    0    0    0    0    0    0    0    0    0\n",
      "    0    0    0    0    0    0    0    0    0    0    0    0    0    0\n",
      "    0    0    0    0    0    0    0    0    0    0    0    0    0    0\n",
      "    0    0    0    0    0    0    0    0    0    0    0    0    0    0\n",
      "    0    0    0    0    0    0    0    0    0    0    0    0    0    0\n",
      "    0    0    0    0    0    0    0    0    0    0    0    0    0    0\n",
      "    0    0    0    0    0    0    0    0    0    0    0    0    0    0\n",
      "    0    0    0    0    0    0    0    0    0    0    0    0    0    0\n",
      "    0    0    0    0    0    0    0    0    0    0    0    0    0    0\n",
      "    0    0    0    0    0    0    0    0    0    0    0    0    0    0\n",
      "    0    0    0    0    0    0    0    0    0    0    0    0    0    0\n",
      "    0    0    0    0    0    0    0    0    0    0    0    0    0    0\n",
      "    0    0    0    0    0    0    0    0    0    0    0    0    0    0\n",
      "    0    0    0    0    0    0    0    0    0    0    0    0    0    0\n",
      "    0    0    0    0    0    0    0    0    0    0    0    0    0    0\n",
      "    0    0    0    0    0    0    0    0    0    0    0    0    0    0\n",
      "    0    0    0    0    0    0    0    0    0    0    0    0    0    0\n",
      "    0    0    0    0    0    0    0    0    0    0]\n",
      "\n",
      "Tot. number of words from dictionary:\n",
      "\n",
      "93\n",
      "\n",
      "Related ground trouth sentiment analysis (1=positive, 0=negative):\n",
      "\n",
      "0\n"
     ]
    }
   ],
   "source": [
    "# Use this cell to examine one of the processed reviews to make sure everything is working as intended.\n",
    "\n",
    "print(\"Example of IMDB movie reviews (100th review):\\n\")\n",
    "print(train_X[100])\n",
    "\n",
    "print(\"\\nTot. number of words from dictionary:\\n\")\n",
    "print(train_X_len[100])\n",
    "\n",
    "print(\"\\nRelated ground trouth sentiment analysis (1=positive, 0=negative):\\n\")\n",
    "print(train_y[100])"
   ]
  },
  {
   "cell_type": "markdown",
   "metadata": {},
   "source": [
    "**Question:** In the cells above we use the `preprocess_data` and `convert_and_pad_data` methods to process both the training and testing set. Why or why not might this be a problem?"
   ]
  },
  {
   "cell_type": "markdown",
   "metadata": {},
   "source": [
    "**Answer:**\n",
    "I believe it´s correct to apply the same methods to process both the training and the testing set, otherwise we could not use them together when training/testing the neural network. \n",
    "The only issue might be that some information is lost during the conversion of the testing set as the dictionary was created using the training set."
   ]
  },
  {
   "cell_type": "markdown",
   "metadata": {},
   "source": [
    "## Step 3: Upload the data to S3\n",
    "\n",
    "As in the XGBoost notebook, we will need to upload the training dataset to S3 in order for our training code to access it. For now we will save it locally and we will upload to S3 later on.\n",
    "\n",
    "### Save the processed training dataset locally\n",
    "\n",
    "It is important to note the format of the data that we are saving as we will need to know it when we write the training code. In our case, each row of the dataset has the form `label`, `length`, `review[500]` where `review[500]` is a sequence of `500` integers representing the words in the review."
   ]
  },
  {
   "cell_type": "code",
   "execution_count": 22,
   "metadata": {},
   "outputs": [],
   "source": [
    "import pandas as pd\n",
    "    \n",
    "pd.concat([pd.DataFrame(train_y), pd.DataFrame(train_X_len), pd.DataFrame(train_X)], axis=1) \\\n",
    "        .to_csv(os.path.join(data_dir, 'train.csv'), header=False, index=False)"
   ]
  },
  {
   "cell_type": "markdown",
   "metadata": {},
   "source": [
    "### Uploading the training data\n",
    "\n",
    "\n",
    "Next, we need to upload the training data to the SageMaker default S3 bucket so that we can provide access to it while training our model."
   ]
  },
  {
   "cell_type": "code",
   "execution_count": 23,
   "metadata": {},
   "outputs": [],
   "source": [
    "import sagemaker\n",
    "\n",
    "sagemaker_session = sagemaker.Session()\n",
    "\n",
    "bucket = sagemaker_session.default_bucket()\n",
    "prefix = 'sagemaker/sentiment_rnn'\n",
    "\n",
    "role = sagemaker.get_execution_role()"
   ]
  },
  {
   "cell_type": "code",
   "execution_count": 24,
   "metadata": {},
   "outputs": [],
   "source": [
    "input_data = sagemaker_session.upload_data(path=data_dir, bucket=bucket, key_prefix=prefix)"
   ]
  },
  {
   "cell_type": "markdown",
   "metadata": {},
   "source": [
    "**NOTE:** The cell above uploads the entire contents of our data directory. This includes the `word_dict.pkl` file. This is fortunate as we will need this later on when we create an endpoint that accepts an arbitrary review. For now, we will just take note of the fact that it resides in the data directory (and so also in the S3 training bucket) and that we will need to make sure it gets saved in the model directory."
   ]
  },
  {
   "cell_type": "markdown",
   "metadata": {},
   "source": [
    "## Step 4: Build and Train the PyTorch Model\n",
    "\n",
    "In the XGBoost notebook we discussed what a model is in the SageMaker framework. In particular, a model comprises three objects\n",
    "\n",
    " - Model Artifacts,\n",
    " - Training Code, and\n",
    " - Inference Code,\n",
    " \n",
    "each of which interact with one another. In the XGBoost example we used training and inference code that was provided by Amazon. Here we will still be using containers provided by Amazon with the added benefit of being able to include our own custom code.\n",
    "\n",
    "We will start by implementing our own neural network in PyTorch along with a training script. For the purposes of this project we have provided the necessary model object in the `model.py` file, inside of the `train` folder. You can see the provided implementation by running the cell below."
   ]
  },
  {
   "cell_type": "code",
   "execution_count": 25,
   "metadata": {},
   "outputs": [
    {
     "name": "stdout",
     "output_type": "stream",
     "text": [
      "\u001b[34mimport\u001b[39;49;00m \u001b[04m\u001b[36mtorch.nn\u001b[39;49;00m \u001b[34mas\u001b[39;49;00m \u001b[04m\u001b[36mnn\u001b[39;49;00m\r\n",
      "\r\n",
      "\u001b[34mclass\u001b[39;49;00m \u001b[04m\u001b[32mLSTMClassifier\u001b[39;49;00m(nn.Module):\r\n",
      "    \u001b[33m\"\"\"\u001b[39;49;00m\r\n",
      "\u001b[33m    This is the simple RNN model we will be using to perform Sentiment Analysis.\u001b[39;49;00m\r\n",
      "\u001b[33m    \"\"\"\u001b[39;49;00m\r\n",
      "\r\n",
      "    \u001b[34mdef\u001b[39;49;00m \u001b[32m__init__\u001b[39;49;00m(\u001b[36mself\u001b[39;49;00m, embedding_dim, hidden_dim, vocab_size):\r\n",
      "        \u001b[33m\"\"\"\u001b[39;49;00m\r\n",
      "\u001b[33m        Initialize the model by settingg up the various layers.\u001b[39;49;00m\r\n",
      "\u001b[33m        \"\"\"\u001b[39;49;00m\r\n",
      "        \u001b[36msuper\u001b[39;49;00m(LSTMClassifier, \u001b[36mself\u001b[39;49;00m).\u001b[32m__init__\u001b[39;49;00m()\r\n",
      "\r\n",
      "        \u001b[36mself\u001b[39;49;00m.embedding = nn.Embedding(vocab_size, embedding_dim, padding_idx=\u001b[34m0\u001b[39;49;00m)\r\n",
      "        \u001b[36mself\u001b[39;49;00m.lstm = nn.LSTM(embedding_dim, hidden_dim)\r\n",
      "        \u001b[36mself\u001b[39;49;00m.dense = nn.Linear(in_features=hidden_dim, out_features=\u001b[34m1\u001b[39;49;00m)\r\n",
      "        \u001b[36mself\u001b[39;49;00m.sig = nn.Sigmoid()\r\n",
      "        \r\n",
      "        \u001b[36mself\u001b[39;49;00m.word_dict = \u001b[36mNone\u001b[39;49;00m\r\n",
      "\r\n",
      "    \u001b[34mdef\u001b[39;49;00m \u001b[32mforward\u001b[39;49;00m(\u001b[36mself\u001b[39;49;00m, x):\r\n",
      "        \u001b[33m\"\"\"\u001b[39;49;00m\r\n",
      "\u001b[33m        Perform a forward pass of our model on some input.\u001b[39;49;00m\r\n",
      "\u001b[33m        \"\"\"\u001b[39;49;00m\r\n",
      "        x = x.t()\r\n",
      "        lengths = x[\u001b[34m0\u001b[39;49;00m,:]\r\n",
      "        reviews = x[\u001b[34m1\u001b[39;49;00m:,:]\r\n",
      "        embeds = \u001b[36mself\u001b[39;49;00m.embedding(reviews)\r\n",
      "        lstm_out, _ = \u001b[36mself\u001b[39;49;00m.lstm(embeds)\r\n",
      "        out = \u001b[36mself\u001b[39;49;00m.dense(lstm_out)\r\n",
      "        out = out[lengths - \u001b[34m1\u001b[39;49;00m, \u001b[36mrange\u001b[39;49;00m(\u001b[36mlen\u001b[39;49;00m(lengths))]\r\n",
      "        \u001b[34mreturn\u001b[39;49;00m \u001b[36mself\u001b[39;49;00m.sig(out.squeeze())\r\n"
     ]
    }
   ],
   "source": [
    "!pygmentize train/model.py"
   ]
  },
  {
   "cell_type": "markdown",
   "metadata": {},
   "source": [
    "The important takeaway from the implementation provided is that there are three parameters that we may wish to tweak to improve the performance of our model. These are the embedding dimension, the hidden dimension and the size of the vocabulary. We will likely want to make these parameters configurable in the training script so that if we wish to modify them we do not need to modify the script itself. We will see how to do this later on. To start we will write some of the training code in the notebook so that we can more easily diagnose any issues that arise.\n",
    "\n",
    "First we will load a small portion of the training data set to use as a sample. It would be very time consuming to try and train the model completely in the notebook as we do not have access to a gpu and the compute instance that we are using is not particularly powerful. However, we can work on a small bit of the data to get a feel for how our training script is behaving."
   ]
  },
  {
   "cell_type": "code",
   "execution_count": 26,
   "metadata": {},
   "outputs": [],
   "source": [
    "import torch\n",
    "import torch.utils.data\n",
    "\n",
    "# Read in only the first 250 rows\n",
    "train_sample = pd.read_csv(os.path.join(data_dir, 'train.csv'), header=None, names=None, nrows=20)\n",
    "\n",
    "# Turn the input pandas dataframe into tensors\n",
    "train_sample_y = torch.from_numpy(train_sample[[0]].values).float().squeeze()\n",
    "train_sample_X = torch.from_numpy(train_sample.drop([0], axis=1).values).long()\n",
    "\n",
    "# Build the dataset\n",
    "train_sample_ds = torch.utils.data.TensorDataset(train_sample_X, train_sample_y)\n",
    "# Build the dataloader\n",
    "train_sample_dl = torch.utils.data.DataLoader(train_sample_ds, batch_size=50)"
   ]
  },
  {
   "cell_type": "markdown",
   "metadata": {},
   "source": [
    "### (TODO) Writing the training method\n",
    "\n",
    "Next we need to write the training code itself. This should be very similar to training methods that you have written before to train PyTorch models. We will leave any difficult aspects such as model saving / loading and parameter loading until a little later."
   ]
  },
  {
   "cell_type": "code",
   "execution_count": 27,
   "metadata": {},
   "outputs": [],
   "source": [
    "def train(model, train_loader, epochs, optimizer, loss_fn, device):\n",
    "    for epoch in range(1, epochs + 1):\n",
    "        model.train()\n",
    "        total_loss = 0\n",
    "        for batch in train_loader:         \n",
    "            batch_X, batch_y = batch\n",
    "            \n",
    "            batch_X = batch_X.to(device)\n",
    "            batch_y = batch_y.to(device)\n",
    "            \n",
    "            # TODO: Complete this train method to train the model provided.\n",
    "            optimizer.zero_grad()\n",
    "            out = model.forward(batch_X)\n",
    "            loss = loss_fn(out, batch_y)\n",
    "            loss.backward()\n",
    "            optimizer.step()\n",
    "            \n",
    "            total_loss += loss.data.item()\n",
    "        print(\"Epoch: {}, BCELoss: {}\".format(epoch, total_loss / len(train_loader)))"
   ]
  },
  {
   "cell_type": "markdown",
   "metadata": {},
   "source": [
    "Supposing we have the training method above, we will test that it is working by writing a bit of code in the notebook that executes our training method on the small sample training set that we loaded earlier. The reason for doing this in the notebook is so that we have an opportunity to fix any errors that arise early when they are easier to diagnose."
   ]
  },
  {
   "cell_type": "code",
   "execution_count": 28,
   "metadata": {},
   "outputs": [
    {
     "name": "stdout",
     "output_type": "stream",
     "text": [
      "Epoch: 1, BCELoss: 0.6982835531234741\n",
      "Epoch: 2, BCELoss: 0.6904404759407043\n",
      "Epoch: 3, BCELoss: 0.6825749278068542\n",
      "Epoch: 4, BCELoss: 0.6746192574501038\n",
      "Epoch: 5, BCELoss: 0.6664981245994568\n"
     ]
    }
   ],
   "source": [
    "import torch.optim as optim\n",
    "from train.model import LSTMClassifier\n",
    "\n",
    "device = torch.device(\"cuda\" if torch.cuda.is_available() else \"cpu\")\n",
    "model = LSTMClassifier(32, 100, 5000).to(device)\n",
    "optimizer = optim.Adam(model.parameters())\n",
    "loss_fn = torch.nn.BCELoss()\n",
    "\n",
    "train(model, train_sample_dl, 5, optimizer, loss_fn, device)"
   ]
  },
  {
   "cell_type": "markdown",
   "metadata": {},
   "source": [
    "In order to construct a PyTorch model using SageMaker we must provide SageMaker with a training script. We may optionally include a directory which will be copied to the container and from which our training code will be run. When the training container is executed it will check the uploaded directory (if there is one) for a `requirements.txt` file and install any required Python libraries, after which the training script will be run."
   ]
  },
  {
   "cell_type": "markdown",
   "metadata": {},
   "source": [
    "### (TODO) Training the model\n",
    "\n",
    "When a PyTorch model is constructed in SageMaker, an entry point must be specified. This is the Python file which will be executed when the model is trained. Inside of the `train` directory is a file called `train.py` which has been provided and which contains most of the necessary code to train our model. The only thing that is missing is the implementation of the `train()` method which you wrote earlier in this notebook.\n",
    "\n",
    "**TODO**: Copy the `train()` method written above and paste it into the `train/train.py` file where required.\n",
    "\n",
    "The way that SageMaker passes hyperparameters to the training script is by way of arguments. These arguments can then be parsed and used in the training script. To see how this is done take a look at the provided `train/train.py` file."
   ]
  },
  {
   "cell_type": "code",
   "execution_count": 29,
   "metadata": {},
   "outputs": [],
   "source": [
    "from sagemaker.pytorch import PyTorch\n",
    "\n",
    "estimator = PyTorch(entry_point=\"train.py\",\n",
    "                    source_dir=\"train\",\n",
    "                    role=role,\n",
    "                    framework_version='0.4.0',\n",
    "                    train_instance_count=1,\n",
    "                    train_instance_type='ml.p2.xlarge',\n",
    "                    hyperparameters={\n",
    "                        'epochs': 10,\n",
    "                        'hidden_dim': 200,\n",
    "                    })"
   ]
  },
  {
   "cell_type": "code",
   "execution_count": 30,
   "metadata": {},
   "outputs": [
    {
     "name": "stdout",
     "output_type": "stream",
     "text": [
      "2020-01-02 13:45:48 Starting - Starting the training job......\n",
      "2020-01-02 13:46:28 Starting - Launching requested ML instances......\n",
      "2020-01-02 13:47:25 Starting - Preparing the instances for training......\n",
      "2020-01-02 13:48:28 Downloading - Downloading input data...\n",
      "2020-01-02 13:49:01 Training - Downloading the training image...\n",
      "2020-01-02 13:49:32 Training - Training image download completed. Training in progress.\u001b[31mbash: cannot set terminal process group (-1): Inappropriate ioctl for device\u001b[0m\n",
      "\u001b[31mbash: no job control in this shell\u001b[0m\n",
      "\u001b[31m2020-01-02 13:49:32,984 sagemaker-containers INFO     Imported framework sagemaker_pytorch_container.training\u001b[0m\n",
      "\u001b[31m2020-01-02 13:49:33,011 sagemaker_pytorch_container.training INFO     Block until all host DNS lookups succeed.\u001b[0m\n",
      "\u001b[31m2020-01-02 13:49:33,014 sagemaker_pytorch_container.training INFO     Invoking user training script.\u001b[0m\n",
      "\u001b[31m2020-01-02 13:49:33,233 sagemaker-containers INFO     Module train does not provide a setup.py. \u001b[0m\n",
      "\u001b[31mGenerating setup.py\u001b[0m\n",
      "\u001b[31m2020-01-02 13:49:33,233 sagemaker-containers INFO     Generating setup.cfg\u001b[0m\n",
      "\u001b[31m2020-01-02 13:49:33,233 sagemaker-containers INFO     Generating MANIFEST.in\u001b[0m\n",
      "\u001b[31m2020-01-02 13:49:33,233 sagemaker-containers INFO     Installing module with the following command:\u001b[0m\n",
      "\u001b[31m/usr/bin/python -m pip install -U . -r requirements.txt\u001b[0m\n",
      "\u001b[31mProcessing /opt/ml/code\u001b[0m\n",
      "\u001b[31mCollecting pandas (from -r requirements.txt (line 1))\n",
      "  Downloading https://files.pythonhosted.org/packages/74/24/0cdbf8907e1e3bc5a8da03345c23cbed7044330bb8f73bb12e711a640a00/pandas-0.24.2-cp35-cp35m-manylinux1_x86_64.whl (10.0MB)\u001b[0m\n",
      "\u001b[31mCollecting numpy (from -r requirements.txt (line 2))\n",
      "  Downloading https://files.pythonhosted.org/packages/eb/ec/d4b7855249ce87ece79783562dd6101b1f0abf461c25101c2e959d691e68/numpy-1.18.0-cp35-cp35m-manylinux1_x86_64.whl (19.9MB)\u001b[0m\n",
      "\u001b[31mCollecting nltk (from -r requirements.txt (line 3))\n",
      "  Downloading https://files.pythonhosted.org/packages/f6/1d/d925cfb4f324ede997f6d47bea4d9babba51b49e87a767c170b77005889d/nltk-3.4.5.zip (1.5MB)\u001b[0m\n",
      "\u001b[31mCollecting beautifulsoup4 (from -r requirements.txt (line 4))\n",
      "  Downloading https://files.pythonhosted.org/packages/cb/a1/c698cf319e9cfed6b17376281bd0efc6bfc8465698f54170ef60a485ab5d/beautifulsoup4-4.8.2-py3-none-any.whl (106kB)\u001b[0m\n",
      "\u001b[31mCollecting html5lib (from -r requirements.txt (line 5))\n",
      "  Downloading https://files.pythonhosted.org/packages/a5/62/bbd2be0e7943ec8504b517e62bab011b4946e1258842bc159e5dfde15b96/html5lib-1.0.1-py2.py3-none-any.whl (117kB)\u001b[0m\n",
      "\u001b[31mRequirement already satisfied, skipping upgrade: python-dateutil>=2.5.0 in /usr/local/lib/python3.5/dist-packages (from pandas->-r requirements.txt (line 1)) (2.7.5)\u001b[0m\n",
      "\u001b[31mCollecting pytz>=2011k (from pandas->-r requirements.txt (line 1))\u001b[0m\n",
      "\u001b[31m  Downloading https://files.pythonhosted.org/packages/e7/f9/f0b53f88060247251bf481fa6ea62cd0d25bf1b11a87888e53ce5b7c8ad2/pytz-2019.3-py2.py3-none-any.whl (509kB)\u001b[0m\n",
      "\u001b[31mRequirement already satisfied, skipping upgrade: six in /usr/local/lib/python3.5/dist-packages (from nltk->-r requirements.txt (line 3)) (1.11.0)\u001b[0m\n",
      "\u001b[31mCollecting soupsieve>=1.2 (from beautifulsoup4->-r requirements.txt (line 4))\n",
      "  Downloading https://files.pythonhosted.org/packages/81/94/03c0f04471fc245d08d0a99f7946ac228ca98da4fa75796c507f61e688c2/soupsieve-1.9.5-py2.py3-none-any.whl\u001b[0m\n",
      "\u001b[31mCollecting webencodings (from html5lib->-r requirements.txt (line 5))\n",
      "  Downloading https://files.pythonhosted.org/packages/f4/24/2a3e3df732393fed8b3ebf2ec078f05546de641fe1b667ee316ec1dcf3b7/webencodings-0.5.1-py2.py3-none-any.whl\u001b[0m\n",
      "\u001b[31mBuilding wheels for collected packages: nltk, train\n",
      "  Running setup.py bdist_wheel for nltk: started\u001b[0m\n",
      "\u001b[31m  Running setup.py bdist_wheel for nltk: finished with status 'done'\n",
      "  Stored in directory: /root/.cache/pip/wheels/96/86/f6/68ab24c23f207c0077381a5e3904b2815136b879538a24b483\n",
      "  Running setup.py bdist_wheel for train: started\n",
      "  Running setup.py bdist_wheel for train: finished with status 'done'\n",
      "  Stored in directory: /tmp/pip-ephem-wheel-cache-7170wm7b/wheels/35/24/16/37574d11bf9bde50616c67372a334f94fa8356bc7164af8ca3\u001b[0m\n",
      "\u001b[31mSuccessfully built nltk train\u001b[0m\n",
      "\u001b[31mInstalling collected packages: numpy, pytz, pandas, nltk, soupsieve, beautifulsoup4, webencodings, html5lib, train\n",
      "  Found existing installation: numpy 1.15.4\n",
      "    Uninstalling numpy-1.15.4:\u001b[0m\n",
      "\u001b[31m      Successfully uninstalled numpy-1.15.4\u001b[0m\n",
      "\u001b[31mSuccessfully installed beautifulsoup4-4.8.2 html5lib-1.0.1 nltk-3.4.5 numpy-1.18.0 pandas-0.24.2 pytz-2019.3 soupsieve-1.9.5 train-1.0.0 webencodings-0.5.1\u001b[0m\n",
      "\u001b[31mYou are using pip version 18.1, however version 19.3.1 is available.\u001b[0m\n",
      "\u001b[31mYou should consider upgrading via the 'pip install --upgrade pip' command.\u001b[0m\n",
      "\u001b[31m2020-01-02 13:49:45,389 sagemaker-containers INFO     Invoking user script\n",
      "\u001b[0m\n",
      "\u001b[31mTraining Env:\n",
      "\u001b[0m\n",
      "\u001b[31m{\n",
      "    \"log_level\": 20,\n",
      "    \"hosts\": [\n",
      "        \"algo-1\"\n",
      "    ],\n",
      "    \"output_dir\": \"/opt/ml/output\",\n",
      "    \"framework_module\": \"sagemaker_pytorch_container.training:main\",\n",
      "    \"num_gpus\": 1,\n",
      "    \"input_config_dir\": \"/opt/ml/input/config\",\n",
      "    \"job_name\": \"sagemaker-pytorch-2020-01-02-13-45-48-207\",\n",
      "    \"hyperparameters\": {\n",
      "        \"epochs\": 10,\n",
      "        \"hidden_dim\": 200\n",
      "    },\n",
      "    \"input_data_config\": {\n",
      "        \"training\": {\n",
      "            \"TrainingInputMode\": \"File\",\n",
      "            \"S3DistributionType\": \"FullyReplicated\",\n",
      "            \"RecordWrapperType\": \"None\"\n",
      "        }\n",
      "    },\n",
      "    \"additional_framework_parameters\": {},\n",
      "    \"module_dir\": \"s3://sagemaker-us-east-2-636655509896/sagemaker-pytorch-2020-01-02-13-45-48-207/source/sourcedir.tar.gz\",\n",
      "    \"network_interface_name\": \"eth0\",\n",
      "    \"current_host\": \"algo-1\",\n",
      "    \"output_intermediate_dir\": \"/opt/ml/output/intermediate\",\n",
      "    \"module_name\": \"train\",\n",
      "    \"model_dir\": \"/opt/ml/model\",\n",
      "    \"output_data_dir\": \"/opt/ml/output/data\",\n",
      "    \"resource_config\": {\n",
      "        \"network_interface_name\": \"eth0\",\n",
      "        \"current_host\": \"algo-1\",\n",
      "        \"hosts\": [\n",
      "            \"algo-1\"\n",
      "        ]\n",
      "    },\n",
      "    \"num_cpus\": 4,\n",
      "    \"channel_input_dirs\": {\n",
      "        \"training\": \"/opt/ml/input/data/training\"\n",
      "    },\n",
      "    \"input_dir\": \"/opt/ml/input\",\n",
      "    \"user_entry_point\": \"train.py\"\u001b[0m\n",
      "\u001b[31m}\n",
      "\u001b[0m\n",
      "\u001b[31mEnvironment variables:\n",
      "\u001b[0m\n",
      "\u001b[31mSM_INPUT_CONFIG_DIR=/opt/ml/input/config\u001b[0m\n",
      "\u001b[31mSM_HP_HIDDEN_DIM=200\u001b[0m\n",
      "\u001b[31mSM_MODULE_DIR=s3://sagemaker-us-east-2-636655509896/sagemaker-pytorch-2020-01-02-13-45-48-207/source/sourcedir.tar.gz\u001b[0m\n",
      "\u001b[31mSM_CHANNEL_TRAINING=/opt/ml/input/data/training\u001b[0m\n",
      "\u001b[31mSM_USER_ARGS=[\"--epochs\",\"10\",\"--hidden_dim\",\"200\"]\u001b[0m\n",
      "\u001b[31mSM_HOSTS=[\"algo-1\"]\u001b[0m\n",
      "\u001b[31mSM_HP_EPOCHS=10\u001b[0m\n",
      "\u001b[31mSM_NUM_CPUS=4\u001b[0m\n",
      "\u001b[31mSM_MODEL_DIR=/opt/ml/model\u001b[0m\n",
      "\u001b[31mSM_MODULE_NAME=train\u001b[0m\n",
      "\u001b[31mSM_USER_ENTRY_POINT=train.py\u001b[0m\n",
      "\u001b[31mSM_FRAMEWORK_PARAMS={}\u001b[0m\n",
      "\u001b[31mPYTHONPATH=/usr/local/bin:/usr/lib/python35.zip:/usr/lib/python3.5:/usr/lib/python3.5/plat-x86_64-linux-gnu:/usr/lib/python3.5/lib-dynload:/usr/local/lib/python3.5/dist-packages:/usr/lib/python3/dist-packages\u001b[0m\n",
      "\u001b[31mSM_FRAMEWORK_MODULE=sagemaker_pytorch_container.training:main\u001b[0m\n",
      "\u001b[31mSM_NETWORK_INTERFACE_NAME=eth0\u001b[0m\n",
      "\u001b[31mSM_NUM_GPUS=1\u001b[0m\n",
      "\u001b[31mSM_INPUT_DATA_CONFIG={\"training\":{\"RecordWrapperType\":\"None\",\"S3DistributionType\":\"FullyReplicated\",\"TrainingInputMode\":\"File\"}}\u001b[0m\n",
      "\u001b[31mSM_RESOURCE_CONFIG={\"current_host\":\"algo-1\",\"hosts\":[\"algo-1\"],\"network_interface_name\":\"eth0\"}\u001b[0m\n",
      "\u001b[31mSM_TRAINING_ENV={\"additional_framework_parameters\":{},\"channel_input_dirs\":{\"training\":\"/opt/ml/input/data/training\"},\"current_host\":\"algo-1\",\"framework_module\":\"sagemaker_pytorch_container.training:main\",\"hosts\":[\"algo-1\"],\"hyperparameters\":{\"epochs\":10,\"hidden_dim\":200},\"input_config_dir\":\"/opt/ml/input/config\",\"input_data_config\":{\"training\":{\"RecordWrapperType\":\"None\",\"S3DistributionType\":\"FullyReplicated\",\"TrainingInputMode\":\"File\"}},\"input_dir\":\"/opt/ml/input\",\"job_name\":\"sagemaker-pytorch-2020-01-02-13-45-48-207\",\"log_level\":20,\"model_dir\":\"/opt/ml/model\",\"module_dir\":\"s3://sagemaker-us-east-2-636655509896/sagemaker-pytorch-2020-01-02-13-45-48-207/source/sourcedir.tar.gz\",\"module_name\":\"train\",\"network_interface_name\":\"eth0\",\"num_cpus\":4,\"num_gpus\":1,\"output_data_dir\":\"/opt/ml/output/data\",\"output_dir\":\"/opt/ml/output\",\"output_intermediate_dir\":\"/opt/ml/output/intermediate\",\"resource_config\":{\"current_host\":\"algo-1\",\"hosts\":[\"algo-1\"],\"network_interface_name\":\"eth0\"},\"user_entry_point\":\"train.py\"}\u001b[0m\n",
      "\u001b[31mSM_INPUT_DIR=/opt/ml/input\u001b[0m\n",
      "\u001b[31mSM_OUTPUT_DIR=/opt/ml/output\u001b[0m\n",
      "\u001b[31mSM_CURRENT_HOST=algo-1\u001b[0m\n",
      "\u001b[31mSM_LOG_LEVEL=20\u001b[0m\n",
      "\u001b[31mSM_OUTPUT_DATA_DIR=/opt/ml/output/data\u001b[0m\n",
      "\u001b[31mSM_CHANNELS=[\"training\"]\u001b[0m\n",
      "\u001b[31mSM_HPS={\"epochs\":10,\"hidden_dim\":200}\u001b[0m\n",
      "\u001b[31mSM_OUTPUT_INTERMEDIATE_DIR=/opt/ml/output/intermediate\n",
      "\u001b[0m\n",
      "\u001b[31mInvoking script with the following command:\n",
      "\u001b[0m\n",
      "\u001b[31m/usr/bin/python -m train --epochs 10 --hidden_dim 200\n",
      "\n",
      "\u001b[0m\n",
      "\u001b[31mUsing device cuda.\u001b[0m\n",
      "\u001b[31mGet train data loader.\u001b[0m\n",
      "\u001b[31mModel loaded with embedding_dim 32, hidden_dim 200, vocab_size 5000.\u001b[0m\n"
     ]
    },
    {
     "name": "stdout",
     "output_type": "stream",
     "text": [
      "\u001b[31mEpoch: 1, BCELoss: 0.6768229664588461\u001b[0m\n",
      "\u001b[31mEpoch: 2, BCELoss: 0.6349550631581521\u001b[0m\n",
      "\u001b[31mEpoch: 3, BCELoss: 0.5301349029249075\u001b[0m\n",
      "\u001b[31mEpoch: 4, BCELoss: 0.46532019547053743\u001b[0m\n",
      "\u001b[31mEpoch: 5, BCELoss: 0.4193267366107629\u001b[0m\n",
      "\u001b[31mEpoch: 6, BCELoss: 0.3733084499835968\u001b[0m\n",
      "\u001b[31mEpoch: 7, BCELoss: 0.3320699583510963\u001b[0m\n",
      "\u001b[31mEpoch: 8, BCELoss: 0.305790265299836\u001b[0m\n",
      "\u001b[31mEpoch: 9, BCELoss: 0.28664094361723685\u001b[0m\n",
      "\n",
      "2020-01-02 13:52:50 Uploading - Uploading generated training model\n",
      "2020-01-02 13:52:50 Completed - Training job completed\n",
      "\u001b[31mEpoch: 10, BCELoss: 0.2768815649407251\u001b[0m\n",
      "\u001b[31m2020-01-02 13:52:42,757 sagemaker-containers INFO     Reporting training SUCCESS\u001b[0m\n",
      "Training seconds: 262\n",
      "Billable seconds: 262\n"
     ]
    }
   ],
   "source": [
    "estimator.fit({'training': input_data})"
   ]
  },
  {
   "cell_type": "markdown",
   "metadata": {},
   "source": [
    "## Step 5: Testing the model\n",
    "\n",
    "As mentioned at the top of this notebook, we will be testing this model by first deploying it and then sending the testing data to the deployed endpoint. We will do this so that we can make sure that the deployed model is working correctly.\n",
    "\n",
    "## Step 6: Deploy the model for testing\n",
    "\n",
    "Now that we have trained our model, we would like to test it to see how it performs. Currently our model takes input of the form `review_length, review[500]` where `review[500]` is a sequence of `500` integers which describe the words present in the review, encoded using `word_dict`. Fortunately for us, SageMaker provides built-in inference code for models with simple inputs such as this.\n",
    "\n",
    "There is one thing that we need to provide, however, and that is a function which loads the saved model. This function must be called `model_fn()` and takes as its only parameter a path to the directory where the model artifacts are stored. This function must also be present in the python file which we specified as the entry point. In our case the model loading function has been provided and so no changes need to be made.\n",
    "\n",
    "**NOTE**: When the built-in inference code is run it must import the `model_fn()` method from the `train.py` file. This is why the training code is wrapped in a main guard ( ie, `if __name__ == '__main__':` )\n",
    "\n",
    "Since we don't need to change anything in the code that was uploaded during training, we can simply deploy the current model as-is.\n",
    "\n",
    "**NOTE:** When deploying a model you are asking SageMaker to launch an compute instance that will wait for data to be sent to it. As a result, this compute instance will continue to run until *you* shut it down. This is important to know since the cost of a deployed endpoint depends on how long it has been running for.\n",
    "\n",
    "In other words **If you are no longer using a deployed endpoint, shut it down!**\n",
    "\n",
    "**TODO:** Deploy the trained model."
   ]
  },
  {
   "cell_type": "code",
   "execution_count": 31,
   "metadata": {},
   "outputs": [
    {
     "name": "stdout",
     "output_type": "stream",
     "text": [
      "--------------------------------------------------------------------------------------------------!"
     ]
    }
   ],
   "source": [
    "# TODO: Deploy the trained model\n",
    "predictor = estimator.deploy(initial_instance_count=1, instance_type='ml.m4.xlarge')"
   ]
  },
  {
   "cell_type": "markdown",
   "metadata": {},
   "source": [
    "## Step 7 - Use the model for testing\n",
    "\n",
    "Once deployed, we can read in the test data and send it off to our deployed model to get some results. Once we collect all of the results we can determine how accurate our model is."
   ]
  },
  {
   "cell_type": "code",
   "execution_count": 34,
   "metadata": {},
   "outputs": [],
   "source": [
    "test_X = pd.concat([pd.DataFrame(test_X_len), pd.DataFrame(test_X)], axis=1)"
   ]
  },
  {
   "cell_type": "code",
   "execution_count": 35,
   "metadata": {},
   "outputs": [],
   "source": [
    "# We split the data into chunks and send each chunk seperately, accumulating the results.\n",
    "\n",
    "def predict(data, rows=512):\n",
    "    split_array = np.array_split(data, int(data.shape[0] / float(rows) + 1))\n",
    "    predictions = np.array([])\n",
    "    for array in split_array:\n",
    "        predictions = np.append(predictions, predictor.predict(array))\n",
    "    \n",
    "    return predictions"
   ]
  },
  {
   "cell_type": "code",
   "execution_count": 36,
   "metadata": {},
   "outputs": [],
   "source": [
    "predictions = predict(test_X.values)\n",
    "predictions = [round(num) for num in predictions]"
   ]
  },
  {
   "cell_type": "code",
   "execution_count": 37,
   "metadata": {},
   "outputs": [
    {
     "data": {
      "text/plain": [
       "0.83252"
      ]
     },
     "execution_count": 37,
     "metadata": {},
     "output_type": "execute_result"
    }
   ],
   "source": [
    "from sklearn.metrics import accuracy_score\n",
    "accuracy_score(test_y, predictions)"
   ]
  },
  {
   "cell_type": "markdown",
   "metadata": {},
   "source": [
    "**Question:** How does this model compare to the XGBoost model you created earlier? Why might these two models perform differently on this dataset? Which do *you* think is better for sentiment analysis?"
   ]
  },
  {
   "cell_type": "markdown",
   "metadata": {},
   "source": [
    "**Answer:**\n",
    "The accuracy score of XGBoost on this dataset was higher (0.86). This was predictable as XGBoost is usually performing extremely well with these types of databases/problems such as sentiment analysis (it´s usually winning on similar Kaggle competitions). "
   ]
  },
  {
   "cell_type": "markdown",
   "metadata": {},
   "source": [
    "### (TODO) More testing\n",
    "\n",
    "We now have a trained model which has been deployed and which we can send processed reviews to and which returns the predicted sentiment. However, ultimately we would like to be able to send our model an unprocessed review. That is, we would like to send the review itself as a string. For example, suppose we wish to send the following review to our model."
   ]
  },
  {
   "cell_type": "code",
   "execution_count": 38,
   "metadata": {},
   "outputs": [],
   "source": [
    "test_review = 'The simplest pleasures in life are the best, and this film is one of them. Combining a rather basic storyline of love and adventure this movie transcends the usual weekend fair with wit and unmitigated charm.'"
   ]
  },
  {
   "cell_type": "markdown",
   "metadata": {},
   "source": [
    "The question we now need to answer is, how do we send this review to our model?\n",
    "\n",
    "Recall in the first section of this notebook we did a bunch of data processing to the IMDb dataset. In particular, we did two specific things to the provided reviews.\n",
    " - Removed any html tags and stemmed the input\n",
    " - Encoded the review as a sequence of integers using `word_dict`\n",
    " \n",
    "In order process the review we will need to repeat these two steps.\n",
    "\n",
    "**TODO**: Using the `review_to_words` and `convert_and_pad` methods from section one, convert `test_review` into a numpy array `test_data` suitable to send to our model. Remember that our model expects input of the form `review_length, review[500]`."
   ]
  },
  {
   "cell_type": "code",
   "execution_count": 39,
   "metadata": {},
   "outputs": [],
   "source": [
    "# TODO: Convert test_review into a form usable by the model and save the results in test_data\n",
    "test_data_review_to_words = review_to_words(test_review)\n",
    "test_data = [np.array(convert_and_pad(word_dict, test_data_review_to_words)[0])]"
   ]
  },
  {
   "cell_type": "markdown",
   "metadata": {},
   "source": [
    "Now that we have processed the review, we can send the resulting array to our model to predict the sentiment of the review."
   ]
  },
  {
   "cell_type": "code",
   "execution_count": 40,
   "metadata": {},
   "outputs": [
    {
     "data": {
      "text/plain": [
       "array(0.57900906, dtype=float32)"
      ]
     },
     "execution_count": 40,
     "metadata": {},
     "output_type": "execute_result"
    }
   ],
   "source": [
    "predictor.predict(test_data)"
   ]
  },
  {
   "cell_type": "markdown",
   "metadata": {},
   "source": [
    "Since the return value of our model is close to `1`, we can be certain that the review we submitted is positive."
   ]
  },
  {
   "cell_type": "markdown",
   "metadata": {},
   "source": [
    "### Delete the endpoint\n",
    "\n",
    "Of course, just like in the XGBoost notebook, once we've deployed an endpoint it continues to run until we tell it to shut down. Since we are done using our endpoint for now, we can delete it."
   ]
  },
  {
   "cell_type": "code",
   "execution_count": 41,
   "metadata": {},
   "outputs": [],
   "source": [
    "estimator.delete_endpoint()"
   ]
  },
  {
   "cell_type": "markdown",
   "metadata": {},
   "source": [
    "## Step 6 (again) - Deploy the model for the web app\n",
    "\n",
    "Now that we know that our model is working, it's time to create some custom inference code so that we can send the model a review which has not been processed and have it determine the sentiment of the review.\n",
    "\n",
    "As we saw above, by default the estimator which we created, when deployed, will use the entry script and directory which we provided when creating the model. However, since we now wish to accept a string as input and our model expects a processed review, we need to write some custom inference code.\n",
    "\n",
    "We will store the code that we write in the `serve` directory. Provided in this directory is the `model.py` file that we used to construct our model, a `utils.py` file which contains the `review_to_words` and `convert_and_pad` pre-processing functions which we used during the initial data processing, and `predict.py`, the file which will contain our custom inference code. Note also that `requirements.txt` is present which will tell SageMaker what Python libraries are required by our custom inference code.\n",
    "\n",
    "When deploying a PyTorch model in SageMaker, you are expected to provide four functions which the SageMaker inference container will use.\n",
    " - `model_fn`: This function is the same function that we used in the training script and it tells SageMaker how to load our model.\n",
    " - `input_fn`: This function receives the raw serialized input that has been sent to the model's endpoint and its job is to de-serialize and make the input available for the inference code.\n",
    " - `output_fn`: This function takes the output of the inference code and its job is to serialize this output and return it to the caller of the model's endpoint.\n",
    " - `predict_fn`: The heart of the inference script, this is where the actual prediction is done and is the function which you will need to complete.\n",
    "\n",
    "For the simple website that we are constructing during this project, the `input_fn` and `output_fn` methods are relatively straightforward. We only require being able to accept a string as input and we expect to return a single value as output. You might imagine though that in a more complex application the input or output may be image data or some other binary data which would require some effort to serialize.\n",
    "\n",
    "### (TODO) Writing inference code\n",
    "\n",
    "Before writing our custom inference code, we will begin by taking a look at the code which has been provided."
   ]
  },
  {
   "cell_type": "code",
   "execution_count": 51,
   "metadata": {},
   "outputs": [
    {
     "name": "stdout",
     "output_type": "stream",
     "text": [
      "\u001b[34mimport\u001b[39;49;00m \u001b[04m\u001b[36margparse\u001b[39;49;00m\r\n",
      "\u001b[34mimport\u001b[39;49;00m \u001b[04m\u001b[36mjson\u001b[39;49;00m\r\n",
      "\u001b[34mimport\u001b[39;49;00m \u001b[04m\u001b[36mos\u001b[39;49;00m\r\n",
      "\u001b[34mimport\u001b[39;49;00m \u001b[04m\u001b[36mpickle\u001b[39;49;00m\r\n",
      "\u001b[34mimport\u001b[39;49;00m \u001b[04m\u001b[36msys\u001b[39;49;00m\r\n",
      "\u001b[34mimport\u001b[39;49;00m \u001b[04m\u001b[36msagemaker_containers\u001b[39;49;00m\r\n",
      "\u001b[34mimport\u001b[39;49;00m \u001b[04m\u001b[36mpandas\u001b[39;49;00m \u001b[34mas\u001b[39;49;00m \u001b[04m\u001b[36mpd\u001b[39;49;00m\r\n",
      "\u001b[34mimport\u001b[39;49;00m \u001b[04m\u001b[36mnumpy\u001b[39;49;00m \u001b[34mas\u001b[39;49;00m \u001b[04m\u001b[36mnp\u001b[39;49;00m\r\n",
      "\u001b[34mimport\u001b[39;49;00m \u001b[04m\u001b[36mtorch\u001b[39;49;00m\r\n",
      "\u001b[34mimport\u001b[39;49;00m \u001b[04m\u001b[36mtorch.nn\u001b[39;49;00m \u001b[34mas\u001b[39;49;00m \u001b[04m\u001b[36mnn\u001b[39;49;00m\r\n",
      "\u001b[34mimport\u001b[39;49;00m \u001b[04m\u001b[36mtorch.optim\u001b[39;49;00m \u001b[34mas\u001b[39;49;00m \u001b[04m\u001b[36moptim\u001b[39;49;00m\r\n",
      "\u001b[34mimport\u001b[39;49;00m \u001b[04m\u001b[36mtorch.utils.data\u001b[39;49;00m\r\n",
      "\r\n",
      "\u001b[34mfrom\u001b[39;49;00m \u001b[04m\u001b[36mmodel\u001b[39;49;00m \u001b[34mimport\u001b[39;49;00m LSTMClassifier\r\n",
      "\r\n",
      "\u001b[34mfrom\u001b[39;49;00m \u001b[04m\u001b[36mutils\u001b[39;49;00m \u001b[34mimport\u001b[39;49;00m review_to_words, convert_and_pad\r\n",
      "\r\n",
      "\u001b[34mdef\u001b[39;49;00m \u001b[32mmodel_fn\u001b[39;49;00m(model_dir):\r\n",
      "    \u001b[33m\"\"\"Load the PyTorch model from the `model_dir` directory.\"\"\"\u001b[39;49;00m\r\n",
      "    \u001b[34mprint\u001b[39;49;00m(\u001b[33m\"\u001b[39;49;00m\u001b[33mLoading model.\u001b[39;49;00m\u001b[33m\"\u001b[39;49;00m)\r\n",
      "\r\n",
      "    \u001b[37m# First, load the parameters used to create the model.\u001b[39;49;00m\r\n",
      "    model_info = {}\r\n",
      "    model_info_path = os.path.join(model_dir, \u001b[33m'\u001b[39;49;00m\u001b[33mmodel_info.pth\u001b[39;49;00m\u001b[33m'\u001b[39;49;00m)\r\n",
      "    \u001b[34mwith\u001b[39;49;00m \u001b[36mopen\u001b[39;49;00m(model_info_path, \u001b[33m'\u001b[39;49;00m\u001b[33mrb\u001b[39;49;00m\u001b[33m'\u001b[39;49;00m) \u001b[34mas\u001b[39;49;00m f:\r\n",
      "        model_info = torch.load(f)\r\n",
      "\r\n",
      "    \u001b[34mprint\u001b[39;49;00m(\u001b[33m\"\u001b[39;49;00m\u001b[33mmodel_info: {}\u001b[39;49;00m\u001b[33m\"\u001b[39;49;00m.format(model_info))\r\n",
      "\r\n",
      "    \u001b[37m# Determine the device and construct the model.\u001b[39;49;00m\r\n",
      "    device = torch.device(\u001b[33m\"\u001b[39;49;00m\u001b[33mcuda\u001b[39;49;00m\u001b[33m\"\u001b[39;49;00m \u001b[34mif\u001b[39;49;00m torch.cuda.is_available() \u001b[34melse\u001b[39;49;00m \u001b[33m\"\u001b[39;49;00m\u001b[33mcpu\u001b[39;49;00m\u001b[33m\"\u001b[39;49;00m)\r\n",
      "    model = LSTMClassifier(model_info[\u001b[33m'\u001b[39;49;00m\u001b[33membedding_dim\u001b[39;49;00m\u001b[33m'\u001b[39;49;00m], model_info[\u001b[33m'\u001b[39;49;00m\u001b[33mhidden_dim\u001b[39;49;00m\u001b[33m'\u001b[39;49;00m], model_info[\u001b[33m'\u001b[39;49;00m\u001b[33mvocab_size\u001b[39;49;00m\u001b[33m'\u001b[39;49;00m])\r\n",
      "\r\n",
      "    \u001b[37m# Load the store model parameters.\u001b[39;49;00m\r\n",
      "    model_path = os.path.join(model_dir, \u001b[33m'\u001b[39;49;00m\u001b[33mmodel.pth\u001b[39;49;00m\u001b[33m'\u001b[39;49;00m)\r\n",
      "    \u001b[34mwith\u001b[39;49;00m \u001b[36mopen\u001b[39;49;00m(model_path, \u001b[33m'\u001b[39;49;00m\u001b[33mrb\u001b[39;49;00m\u001b[33m'\u001b[39;49;00m) \u001b[34mas\u001b[39;49;00m f:\r\n",
      "        model.load_state_dict(torch.load(f))\r\n",
      "\r\n",
      "    \u001b[37m# Load the saved word_dict.\u001b[39;49;00m\r\n",
      "    word_dict_path = os.path.join(model_dir, \u001b[33m'\u001b[39;49;00m\u001b[33mword_dict.pkl\u001b[39;49;00m\u001b[33m'\u001b[39;49;00m)\r\n",
      "    \u001b[34mwith\u001b[39;49;00m \u001b[36mopen\u001b[39;49;00m(word_dict_path, \u001b[33m'\u001b[39;49;00m\u001b[33mrb\u001b[39;49;00m\u001b[33m'\u001b[39;49;00m) \u001b[34mas\u001b[39;49;00m f:\r\n",
      "        model.word_dict = pickle.load(f)\r\n",
      "\r\n",
      "    model.to(device).eval()\r\n",
      "\r\n",
      "    \u001b[34mprint\u001b[39;49;00m(\u001b[33m\"\u001b[39;49;00m\u001b[33mDone loading model.\u001b[39;49;00m\u001b[33m\"\u001b[39;49;00m)\r\n",
      "    \u001b[34mreturn\u001b[39;49;00m model\r\n",
      "\r\n",
      "\u001b[34mdef\u001b[39;49;00m \u001b[32minput_fn\u001b[39;49;00m(serialized_input_data, content_type):\r\n",
      "    \u001b[34mprint\u001b[39;49;00m(\u001b[33m'\u001b[39;49;00m\u001b[33mDeserializing the input data.\u001b[39;49;00m\u001b[33m'\u001b[39;49;00m)\r\n",
      "    \u001b[34mif\u001b[39;49;00m content_type == \u001b[33m'\u001b[39;49;00m\u001b[33mtext/plain\u001b[39;49;00m\u001b[33m'\u001b[39;49;00m:\r\n",
      "        data = serialized_input_data.decode(\u001b[33m'\u001b[39;49;00m\u001b[33mutf-8\u001b[39;49;00m\u001b[33m'\u001b[39;49;00m)\r\n",
      "        \u001b[34mreturn\u001b[39;49;00m data\r\n",
      "    \u001b[34mraise\u001b[39;49;00m \u001b[36mException\u001b[39;49;00m(\u001b[33m'\u001b[39;49;00m\u001b[33mRequested unsupported ContentType in content_type: \u001b[39;49;00m\u001b[33m'\u001b[39;49;00m + content_type)\r\n",
      "\r\n",
      "\u001b[34mdef\u001b[39;49;00m \u001b[32moutput_fn\u001b[39;49;00m(prediction_output, accept):\r\n",
      "    \u001b[34mprint\u001b[39;49;00m(\u001b[33m'\u001b[39;49;00m\u001b[33mSerializing the generated output.\u001b[39;49;00m\u001b[33m'\u001b[39;49;00m)\r\n",
      "    \u001b[34mreturn\u001b[39;49;00m \u001b[36mstr\u001b[39;49;00m(prediction_output)\r\n",
      "\r\n",
      "\u001b[34mdef\u001b[39;49;00m \u001b[32mpredict_fn\u001b[39;49;00m(input_data, model):\r\n",
      "    \u001b[34mprint\u001b[39;49;00m(\u001b[33m'\u001b[39;49;00m\u001b[33mInferring sentiment of input data.\u001b[39;49;00m\u001b[33m'\u001b[39;49;00m)\r\n",
      "\r\n",
      "    device = torch.device(\u001b[33m\"\u001b[39;49;00m\u001b[33mcuda\u001b[39;49;00m\u001b[33m\"\u001b[39;49;00m \u001b[34mif\u001b[39;49;00m torch.cuda.is_available() \u001b[34melse\u001b[39;49;00m \u001b[33m\"\u001b[39;49;00m\u001b[33mcpu\u001b[39;49;00m\u001b[33m\"\u001b[39;49;00m)\r\n",
      "    \r\n",
      "    \u001b[34mif\u001b[39;49;00m model.word_dict \u001b[35mis\u001b[39;49;00m \u001b[36mNone\u001b[39;49;00m:\r\n",
      "        \u001b[34mraise\u001b[39;49;00m \u001b[36mException\u001b[39;49;00m(\u001b[33m'\u001b[39;49;00m\u001b[33mModel has not been loaded properly, no word_dict.\u001b[39;49;00m\u001b[33m'\u001b[39;49;00m)\r\n",
      "    \r\n",
      "    \u001b[37m# TODO: Process input_data so that it is ready to be sent to our model.\u001b[39;49;00m\r\n",
      "    \u001b[37m#       You should produce two variables:\u001b[39;49;00m\r\n",
      "    \u001b[37m#         data_X   - A sequence of length 500 which represents the converted review\u001b[39;49;00m\r\n",
      "    \u001b[37m#         data_len - The length of the review\u001b[39;49;00m\r\n",
      "\r\n",
      "    words = review_to_words(input_data)\r\n",
      "    data_X, data_len = convert_and_pad(model.word_dict, words)\r\n",
      "\r\n",
      "    \u001b[37m# Using data_X and data_len we construct an appropriate input tensor. Remember\u001b[39;49;00m\r\n",
      "    \u001b[37m# that our model expects input data of the form 'len, review[500]'.\u001b[39;49;00m\r\n",
      "    data_pack = np.hstack((data_len, data_X))\r\n",
      "    data_pack = data_pack.reshape(\u001b[34m1\u001b[39;49;00m, -\u001b[34m1\u001b[39;49;00m)\r\n",
      "    \r\n",
      "    data = torch.from_numpy(data_pack)\r\n",
      "    data = data.to(device)\r\n",
      "\r\n",
      "    \u001b[37m# Make sure to put the model into evaluation mode\u001b[39;49;00m\r\n",
      "    model.eval()\r\n",
      "\r\n",
      "    \u001b[37m# TODO: Compute the result of applying the model to the input data. The variable `result` should\u001b[39;49;00m\r\n",
      "    \u001b[37m#       be a numpy array which contains a single integer which is either 1 or 0\u001b[39;49;00m\r\n",
      "    \r\n",
      "    \u001b[34mwith\u001b[39;49;00m torch.no_grad():\r\n",
      "        output = model.forward(data)\r\n",
      "\r\n",
      "    result = np.round(output.numpy())\r\n",
      "\r\n",
      "    \u001b[34mreturn\u001b[39;49;00m result\r\n"
     ]
    }
   ],
   "source": [
    "!pygmentize serve/predict.py"
   ]
  },
  {
   "cell_type": "markdown",
   "metadata": {},
   "source": [
    "As mentioned earlier, the `model_fn` method is the same as the one provided in the training code and the `input_fn` and `output_fn` methods are very simple and your task will be to complete the `predict_fn` method. Make sure that you save the completed file as `predict.py` in the `serve` directory.\n",
    "\n",
    "**TODO**: Complete the `predict_fn()` method in the `serve/predict.py` file."
   ]
  },
  {
   "cell_type": "markdown",
   "metadata": {},
   "source": [
    "### Deploying the model\n",
    "\n",
    "Now that the custom inference code has been written, we will create and deploy our model. To begin with, we need to construct a new PyTorchModel object which points to the model artifacts created during training and also points to the inference code that we wish to use. Then we can call the deploy method to launch the deployment container.\n",
    "\n",
    "**NOTE**: The default behaviour for a deployed PyTorch model is to assume that any input passed to the predictor is a `numpy` array. In our case we want to send a string so we need to construct a simple wrapper around the `RealTimePredictor` class to accomodate simple strings. In a more complicated situation you may want to provide a serialization object, for example if you wanted to sent image data."
   ]
  },
  {
   "cell_type": "code",
   "execution_count": 52,
   "metadata": {},
   "outputs": [
    {
     "name": "stdout",
     "output_type": "stream",
     "text": [
      "--------------------------------------------------------------------------------------!"
     ]
    }
   ],
   "source": [
    "from sagemaker.predictor import RealTimePredictor\n",
    "from sagemaker.pytorch import PyTorchModel\n",
    "\n",
    "class StringPredictor(RealTimePredictor):\n",
    "    def __init__(self, endpoint_name, sagemaker_session):\n",
    "        super(StringPredictor, self).__init__(endpoint_name, sagemaker_session, content_type='text/plain')\n",
    "\n",
    "model = PyTorchModel(model_data=estimator.model_data,\n",
    "                     role = role,\n",
    "                     framework_version='0.4.0',\n",
    "                     entry_point='predict.py',\n",
    "                     source_dir='serve',\n",
    "                     predictor_cls=StringPredictor)\n",
    "predictor = model.deploy(initial_instance_count=1, instance_type='ml.m4.xlarge')"
   ]
  },
  {
   "cell_type": "markdown",
   "metadata": {},
   "source": [
    "### Testing the model\n",
    "\n",
    "Now that we have deployed our model with the custom inference code, we should test to see if everything is working. Here we test our model by loading the first `250` positive and negative reviews and send them to the endpoint, then collect the results. The reason for only sending some of the data is that the amount of time it takes for our model to process the input and then perform inference is quite long and so testing the entire data set would be prohibitive."
   ]
  },
  {
   "cell_type": "code",
   "execution_count": 53,
   "metadata": {},
   "outputs": [],
   "source": [
    "import glob\n",
    "\n",
    "def test_reviews(data_dir='../data/aclImdb', stop=250):\n",
    "    \n",
    "    results = []\n",
    "    ground = []\n",
    "    \n",
    "    # We make sure to test both positive and negative reviews    \n",
    "    for sentiment in ['pos', 'neg']:\n",
    "        \n",
    "        path = os.path.join(data_dir, 'test', sentiment, '*.txt')\n",
    "        files = glob.glob(path)\n",
    "        \n",
    "        files_read = 0\n",
    "        \n",
    "        print('Starting ', sentiment, ' files')\n",
    "        \n",
    "        # Iterate through the files and send them to the predictor\n",
    "        for f in files:\n",
    "            with open(f) as review:\n",
    "                # First, we store the ground truth (was the review positive or negative)\n",
    "                if sentiment == 'pos':\n",
    "                    ground.append(1)\n",
    "                else:\n",
    "                    ground.append(0)\n",
    "                # Read in the review and convert to 'utf-8' for transmission via HTTP\n",
    "                review_input = review.read().encode('utf-8')\n",
    "                # Send the review to the predictor and store the results\n",
    "                results.append(float(predictor.predict(review_input)))\n",
    "                \n",
    "            # Sending reviews to our endpoint one at a time takes a while so we\n",
    "            # only send a small number of reviews\n",
    "            files_read += 1\n",
    "            if files_read == stop:\n",
    "                break\n",
    "            \n",
    "    return ground, results"
   ]
  },
  {
   "cell_type": "code",
   "execution_count": 54,
   "metadata": {},
   "outputs": [
    {
     "name": "stdout",
     "output_type": "stream",
     "text": [
      "Starting  pos  files\n",
      "Starting  neg  files\n"
     ]
    }
   ],
   "source": [
    "ground, results = test_reviews()"
   ]
  },
  {
   "cell_type": "code",
   "execution_count": 46,
   "metadata": {},
   "outputs": [
    {
     "data": {
      "text/plain": [
       "0.862"
      ]
     },
     "execution_count": 46,
     "metadata": {},
     "output_type": "execute_result"
    }
   ],
   "source": [
    "from sklearn.metrics import accuracy_score\n",
    "accuracy_score(ground, results)"
   ]
  },
  {
   "cell_type": "markdown",
   "metadata": {},
   "source": [
    "As an additional test, we can try sending the `test_review` that we looked at earlier."
   ]
  },
  {
   "cell_type": "code",
   "execution_count": 47,
   "metadata": {},
   "outputs": [
    {
     "data": {
      "text/plain": [
       "b'1.0'"
      ]
     },
     "execution_count": 47,
     "metadata": {},
     "output_type": "execute_result"
    }
   ],
   "source": [
    "predictor.predict(test_review)"
   ]
  },
  {
   "cell_type": "markdown",
   "metadata": {},
   "source": [
    "Now that we know our endpoint is working as expected, we can set up the web page that will interact with it. If you don't have time to finish the project now, make sure to skip down to the end of this notebook and shut down your endpoint. You can deploy it again when you come back."
   ]
  },
  {
   "cell_type": "markdown",
   "metadata": {},
   "source": [
    "## Step 7 (again): Use the model for the web app\n",
    "\n",
    "> **TODO:** This entire section and the next contain tasks for you to complete, mostly using the AWS console.\n",
    "\n",
    "So far we have been accessing our model endpoint by constructing a predictor object which uses the endpoint and then just using the predictor object to perform inference. What if we wanted to create a web app which accessed our model? The way things are set up currently makes that not possible since in order to access a SageMaker endpoint the app would first have to authenticate with AWS using an IAM role which included access to SageMaker endpoints. However, there is an easier way! We just need to use some additional AWS services.\n",
    "\n",
    "<img src=\"Web App Diagram.svg\">\n",
    "\n",
    "The diagram above gives an overview of how the various services will work together. On the far right is the model which we trained above and which is deployed using SageMaker. On the far left is our web app that collects a user's movie review, sends it off and expects a positive or negative sentiment in return.\n",
    "\n",
    "In the middle is where some of the magic happens. We will construct a Lambda function, which you can think of as a straightforward Python function that can be executed whenever a specified event occurs. We will give this function permission to send and recieve data from a SageMaker endpoint.\n",
    "\n",
    "Lastly, the method we will use to execute the Lambda function is a new endpoint that we will create using API Gateway. This endpoint will be a url that listens for data to be sent to it. Once it gets some data it will pass that data on to the Lambda function and then return whatever the Lambda function returns. Essentially it will act as an interface that lets our web app communicate with the Lambda function.\n",
    "\n",
    "### Setting up a Lambda function\n",
    "\n",
    "The first thing we are going to do is set up a Lambda function. This Lambda function will be executed whenever our public API has data sent to it. When it is executed it will receive the data, perform any sort of processing that is required, send the data (the review) to the SageMaker endpoint we've created and then return the result.\n",
    "\n",
    "#### Part A: Create an IAM Role for the Lambda function\n",
    "\n",
    "Since we want the Lambda function to call a SageMaker endpoint, we need to make sure that it has permission to do so. To do this, we will construct a role that we can later give the Lambda function.\n",
    "\n",
    "Using the AWS Console, navigate to the **IAM** page and click on **Roles**. Then, click on **Create role**. Make sure that the **AWS service** is the type of trusted entity selected and choose **Lambda** as the service that will use this role, then click **Next: Permissions**.\n",
    "\n",
    "In the search box type `sagemaker` and select the check box next to the **AmazonSageMakerFullAccess** policy. Then, click on **Next: Review**.\n",
    "\n",
    "Lastly, give this role a name. Make sure you use a name that you will remember later on, for example `LambdaSageMakerRole`. Then, click on **Create role**.\n",
    "\n",
    "#### Part B: Create a Lambda function\n",
    "\n",
    "Now it is time to actually create the Lambda function.\n",
    "\n",
    "Using the AWS Console, navigate to the AWS Lambda page and click on **Create a function**. When you get to the next page, make sure that **Author from scratch** is selected. Now, name your Lambda function, using a name that you will remember later on, for example `sentiment_analysis_func`. Make sure that the **Python 3.6** runtime is selected and then choose the role that you created in the previous part. Then, click on **Create Function**.\n",
    "\n",
    "On the next page you will see some information about the Lambda function you've just created. If you scroll down you should see an editor in which you can write the code that will be executed when your Lambda function is triggered. In our example, we will use the code below. \n",
    "\n",
    "```python\n",
    "# We need to use the low-level library to interact with SageMaker since the SageMaker API\n",
    "# is not available natively through Lambda.\n",
    "import boto3\n",
    "\n",
    "def lambda_handler(event, context):\n",
    "\n",
    "    # The SageMaker runtime is what allows us to invoke the endpoint that we've created.\n",
    "    runtime = boto3.Session().client('sagemaker-runtime')\n",
    "\n",
    "    # Now we use the SageMaker runtime to invoke our endpoint, sending the review we were given\n",
    "    response = runtime.invoke_endpoint(EndpointName = '**ENDPOINT NAME HERE**',    # The name of the endpoint we created\n",
    "                                       ContentType = 'text/plain',                 # The data format that is expected\n",
    "                                       Body = event['body'])                       # The actual review\n",
    "\n",
    "    # The response is an HTTP response whose body contains the result of our inference\n",
    "    result = response['Body'].read().decode('utf-8')\n",
    "\n",
    "    return {\n",
    "        'statusCode' : 200,\n",
    "        'headers' : { 'Content-Type' : 'text/plain', 'Access-Control-Allow-Origin' : '*' },\n",
    "        'body' : result\n",
    "    }\n",
    "```\n",
    "\n",
    "Once you have copy and pasted the code above into the Lambda code editor, replace the `**ENDPOINT NAME HERE**` portion with the name of the endpoint that we deployed earlier. You can determine the name of the endpoint using the code cell below."
   ]
  },
  {
   "cell_type": "code",
   "execution_count": 55,
   "metadata": {},
   "outputs": [
    {
     "data": {
      "text/plain": [
       "'sagemaker-pytorch-2020-01-02-18-40-58-934'"
      ]
     },
     "execution_count": 55,
     "metadata": {},
     "output_type": "execute_result"
    }
   ],
   "source": [
    "predictor.endpoint"
   ]
  },
  {
   "cell_type": "markdown",
   "metadata": {},
   "source": [
    "Once you have added the endpoint name to the Lambda function, click on **Save**. Your Lambda function is now up and running. Next we need to create a way for our web app to execute the Lambda function.\n",
    "\n",
    "### Setting up API Gateway\n",
    "\n",
    "Now that our Lambda function is set up, it is time to create a new API using API Gateway that will trigger the Lambda function we have just created.\n",
    "\n",
    "Using AWS Console, navigate to **Amazon API Gateway** and then click on **Get started**.\n",
    "\n",
    "On the next page, make sure that **New API** is selected and give the new api a name, for example, `sentiment_analysis_api`. Then, click on **Create API**.\n",
    "\n",
    "Now we have created an API, however it doesn't currently do anything. What we want it to do is to trigger the Lambda function that we created earlier.\n",
    "\n",
    "Select the **Actions** dropdown menu and click **Create Method**. A new blank method will be created, select its dropdown menu and select **POST**, then click on the check mark beside it.\n",
    "\n",
    "For the integration point, make sure that **Lambda Function** is selected and click on the **Use Lambda Proxy integration**. This option makes sure that the data that is sent to the API is then sent directly to the Lambda function with no processing. It also means that the return value must be a proper response object as it will also not be processed by API Gateway.\n",
    "\n",
    "Type the name of the Lambda function you created earlier into the **Lambda Function** text entry box and then click on **Save**. Click on **OK** in the pop-up box that then appears, giving permission to API Gateway to invoke the Lambda function you created.\n",
    "\n",
    "The last step in creating the API Gateway is to select the **Actions** dropdown and click on **Deploy API**. You will need to create a new Deployment stage and name it anything you like, for example `prod`.\n",
    "\n",
    "You have now successfully set up a public API to access your SageMaker model. Make sure to copy or write down the URL provided to invoke your newly created public API as this will be needed in the next step. This URL can be found at the top of the page, highlighted in blue next to the text **Invoke URL**."
   ]
  },
  {
   "cell_type": "markdown",
   "metadata": {},
   "source": [
    "## Step 4: Deploying our web app\n",
    "\n",
    "Now that we have a publicly available API, we can start using it in a web app. For our purposes, we have provided a simple static html file which can make use of the public api you created earlier.\n",
    "\n",
    "In the `website` folder there should be a file called `index.html`. Download the file to your computer and open that file up in a text editor of your choice. There should be a line which contains **\\*\\*REPLACE WITH PUBLIC API URL\\*\\***. Replace this string with the url that you wrote down in the last step and then save the file.\n",
    "\n",
    "Now, if you open `index.html` on your local computer, your browser will behave as a local web server and you can use the provided site to interact with your SageMaker model.\n",
    "\n",
    "If you'd like to go further, you can host this html file anywhere you'd like, for example using github or hosting a static site on Amazon's S3. Once you have done this you can share the link with anyone you'd like and have them play with it too!\n",
    "\n",
    "> **Important Note** In order for the web app to communicate with the SageMaker endpoint, the endpoint has to actually be deployed and running. This means that you are paying for it. Make sure that the endpoint is running when you want to use the web app but that you shut it down when you don't need it, otherwise you will end up with a surprisingly large AWS bill.\n",
    "\n",
    "**TODO:** Make sure that you include the edited `index.html` file in your project submission."
   ]
  },
  {
   "cell_type": "markdown",
   "metadata": {},
   "source": [
    "Now that your web app is working, trying playing around with it and see how well it works.\n",
    "\n",
    "**Question**: Give an example of a review that you entered into your web app. What was the predicted sentiment of your example review?"
   ]
  },
  {
   "cell_type": "markdown",
   "metadata": {},
   "source": [
    "**Answer:**\n",
    "I entered the following review into my web app: The movie was quite boring and I would not suggest you to watch it.\n",
    "The predicted sentiment was negative."
   ]
  },
  {
   "cell_type": "markdown",
   "metadata": {},
   "source": [
    "### Delete the endpoint\n",
    "\n",
    "Remember to always shut down your endpoint if you are no longer using it. You are charged for the length of time that the endpoint is running so if you forget and leave it on you could end up with an unexpectedly large bill."
   ]
  },
  {
   "cell_type": "code",
   "execution_count": 56,
   "metadata": {},
   "outputs": [],
   "source": [
    "predictor.delete_endpoint()"
   ]
  },
  {
   "cell_type": "code",
   "execution_count": null,
   "metadata": {},
   "outputs": [],
   "source": []
  }
 ],
 "metadata": {
  "kernelspec": {
   "display_name": "conda_pytorch_p36",
   "language": "python",
   "name": "conda_pytorch_p36"
  },
  "language_info": {
   "codemirror_mode": {
    "name": "ipython",
    "version": 3
   },
   "file_extension": ".py",
   "mimetype": "text/x-python",
   "name": "python",
   "nbconvert_exporter": "python",
   "pygments_lexer": "ipython3",
   "version": "3.6.5"
  }
 },
 "nbformat": 4,
 "nbformat_minor": 2
}
